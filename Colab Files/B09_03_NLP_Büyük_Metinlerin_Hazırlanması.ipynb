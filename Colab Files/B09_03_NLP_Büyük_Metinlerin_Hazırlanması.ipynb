{
  "nbformat": 4,
  "nbformat_minor": 0,
  "metadata": {
    "colab": {
      "name": "B09_03_NLP_Büyük_Metinlerin_Hazırlanması.ipynb",
      "provenance": []
    },
    "kernelspec": {
      "name": "python3",
      "display_name": "Python 3"
    },
    "language_info": {
      "name": "python"
    }
  },
  "cells": [
    {
      "cell_type": "markdown",
      "metadata": {
        "id": "2_A7DwkKHrHG"
      },
      "source": [
        "# Büyük Bir Metnin Tokenize Edilmesi ve Sıralanması"
      ]
    },
    {
      "cell_type": "markdown",
      "metadata": {
        "id": "g6680jNBH82n"
      },
      "source": [
        "Şimdiye kadar bazı basit test cümleleri yazdık ve bir kelime dizini oluşturduk. Ardından cümeleler için diziler oluşturduk.\n",
        "\n",
        "Şimdi, özellikle Amazon ve Yelp tarafından gelen incelemeler olmak üzere daha büyük bir metni simgeleştireceğiz (tokeniz edeceğiz) ve sıralayacağız."
      ]
    },
    {
      "cell_type": "markdown",
      "metadata": {
        "id": "izk0uCpgIavD"
      },
      "source": [
        "## Veri Seti Hakkında\n",
        "\n",
        "Ürün ve restoranların Amazon ve Yelp incelemelerini içeren bir veri seti kullanacaksınız. Bu veri seti orijinal olarak [Kaggle](https://www.kaggle.com/marklvl/sentiment-labelled-sentences-data-set)'dan alınmıştır.\n",
        "\n",
        "Veri kümesi incelemeleri içerir ve her inceleme 0 (kötü) veya 1 (iyi) olarak etiketlenir. Ancak, bu alıştırmada, metni simgeleştirme ve sıralama alıştırması yapmak için etiketlere değil, yalnızca incelemelere odaklanalım.\n",
        "\n",
        "### Bazı Örnek İyi Yorumlar\n",
        "\n",
        "- This is hands down the best phone I've ever had.\n",
        "- Four stars for the food & the guy in the blue shirt for his great vibe & still letting us in to eat !\n",
        "\n",
        "### Bazı Kötü Yorumlar\n",
        "\n",
        "- A lady at the table next to us found a live green caterpillar In her salad\n",
        "- If you plan to use this in a car forget about it.\n",
        "\n",
        "### Daha Fazla Örnek Görmek İçin\n",
        "\n",
        "Veri setini indirmek ve yerel makinenizde incelemek istiyorsanız [buradan](https://drive.google.com/uc?id=13ySLC_ue6Umt9RJYSeM2t-V0kCv-4C-P) indirebilirsiniz.\n"
      ]
    },
    {
      "cell_type": "code",
      "metadata": {
        "id": "N8pXPForHeS4"
      },
      "source": [
        "# İçeri Aktar: Tokenizer and pad_sequences\n",
        "import tensorflow as tf\n",
        "from tensorflow.keras.preprocessing.text import Tokenizer\n",
        "from tensorflow.keras.preprocessing.sequence import pad_sequences\n",
        "\n",
        "# İçeri Aktar: numpy and pandas\n",
        "import numpy as np\n",
        "import pandas as pd"
      ],
      "execution_count": 1,
      "outputs": []
    },
    {
      "cell_type": "markdown",
      "metadata": {
        "id": "h2jwEJ2jJZnD"
      },
      "source": [
        "## Metnin İndirilmesi\n",
        "\n",
        "Birleştirilmiş inceleme veri seti, Udacity'ye ait bir Google sürücüsüne kaydedildi. Oradan indirebilirsiniz.\n",
        "\n"
      ]
    },
    {
      "cell_type": "code",
      "metadata": {
        "colab": {
          "base_uri": "https://localhost:8080/"
        },
        "id": "QBxmGA-HJW82",
        "outputId": "6feab699-c015-4b5b-a898-c422599223e5"
      },
      "source": [
        "path = tf.keras.utils.get_file('reviews.csv', \n",
        "                               'https://drive.google.com/uc?id=13ySLC_ue6Umt9RJYSeM2t-V0kCv-4C-P')\n",
        "print (path)"
      ],
      "execution_count": 2,
      "outputs": [
        {
          "output_type": "stream",
          "text": [
            "Downloading data from https://drive.google.com/uc?id=13ySLC_ue6Umt9RJYSeM2t-V0kCv-4C-P\n",
            "131072/127831 [==============================] - 0s 1us/step\n",
            "/root/.keras/datasets/reviews.csv\n"
          ],
          "name": "stdout"
        }
      ]
    },
    {
      "cell_type": "markdown",
      "metadata": {
        "id": "-9wf8QP8JjKL"
      },
      "source": [
        "## Veri Kümesinin Okunması\n",
        "\n",
        "`.csv` dosyalarında her satır ayrı bir incelemedir.\n",
        "\n",
        "`csv` dosyasında 2 sütun vardır:\n",
        "- Metin\n",
        "- Duygu (İyi veya kötü olma durumuna göre 0 veya 1)"
      ]
    },
    {
      "cell_type": "code",
      "metadata": {
        "colab": {
          "base_uri": "https://localhost:8080/",
          "height": 203
        },
        "id": "deG950FZJgwf",
        "outputId": "cb15fee2-9d27-4123-c115-406974eefbcd"
      },
      "source": [
        "# csv dosyasını okuyun\n",
        "dataset = pd.read_csv(path)\n",
        "\n",
        "# Veri kümesindeki ilk birkaç girişi gözden geçirin\n",
        "dataset.head()"
      ],
      "execution_count": 3,
      "outputs": [
        {
          "output_type": "execute_result",
          "data": {
            "text/html": [
              "<div>\n",
              "<style scoped>\n",
              "    .dataframe tbody tr th:only-of-type {\n",
              "        vertical-align: middle;\n",
              "    }\n",
              "\n",
              "    .dataframe tbody tr th {\n",
              "        vertical-align: top;\n",
              "    }\n",
              "\n",
              "    .dataframe thead th {\n",
              "        text-align: right;\n",
              "    }\n",
              "</style>\n",
              "<table border=\"1\" class=\"dataframe\">\n",
              "  <thead>\n",
              "    <tr style=\"text-align: right;\">\n",
              "      <th></th>\n",
              "      <th>Unnamed: 0</th>\n",
              "      <th>text</th>\n",
              "      <th>sentiment</th>\n",
              "    </tr>\n",
              "  </thead>\n",
              "  <tbody>\n",
              "    <tr>\n",
              "      <th>0</th>\n",
              "      <td>0</td>\n",
              "      <td>So there is no way for me to plug it in here i...</td>\n",
              "      <td>0</td>\n",
              "    </tr>\n",
              "    <tr>\n",
              "      <th>1</th>\n",
              "      <td>1</td>\n",
              "      <td>Good case Excellent value.</td>\n",
              "      <td>1</td>\n",
              "    </tr>\n",
              "    <tr>\n",
              "      <th>2</th>\n",
              "      <td>2</td>\n",
              "      <td>Great for the jawbone.</td>\n",
              "      <td>1</td>\n",
              "    </tr>\n",
              "    <tr>\n",
              "      <th>3</th>\n",
              "      <td>3</td>\n",
              "      <td>Tied to charger for conversations lasting more...</td>\n",
              "      <td>0</td>\n",
              "    </tr>\n",
              "    <tr>\n",
              "      <th>4</th>\n",
              "      <td>4</td>\n",
              "      <td>The mic is great.</td>\n",
              "      <td>1</td>\n",
              "    </tr>\n",
              "  </tbody>\n",
              "</table>\n",
              "</div>"
            ],
            "text/plain": [
              "   Unnamed: 0                                               text  sentiment\n",
              "0           0  So there is no way for me to plug it in here i...          0\n",
              "1           1                         Good case Excellent value.          1\n",
              "2           2                             Great for the jawbone.          1\n",
              "3           3  Tied to charger for conversations lasting more...          0\n",
              "4           4                                  The mic is great.          1"
            ]
          },
          "metadata": {
            "tags": []
          },
          "execution_count": 3
        }
      ]
    },
    {
      "cell_type": "markdown",
      "metadata": {
        "id": "a2oXgqCdJ_It"
      },
      "source": [
        "### CSV Dosyasından Değerlendirmelerin Alınması\n",
        "\n",
        "Bu colab dosyasında etiketlerle ilgilenmeyeceğimiz için sadece yapılan yorumları alıyoruz."
      ]
    },
    {
      "cell_type": "code",
      "metadata": {
        "id": "LImC1_3iJ7pm"
      },
      "source": [
        "# Metin sütunundan yorumları alın\n",
        "reviews = dataset['text'].tolist()"
      ],
      "execution_count": 4,
      "outputs": []
    },
    {
      "cell_type": "markdown",
      "metadata": {
        "id": "55dIKmuQKL6t"
      },
      "source": [
        "## Metnin Simgeleştirilmesi (Tokenize Edilmesi)\n",
        "\n",
        "Tokenize edici oluşturalım ve `OOV` belirtecini oluşturduğum tokenize ediciye verelim. Bu işlemlerden sonra kelime indekslerine bir göz atalım."
      ]
    },
    {
      "cell_type": "code",
      "metadata": {
        "colab": {
          "base_uri": "https://localhost:8080/"
        },
        "id": "mJhZoX1mKJ5-",
        "outputId": "3c995ced-ddd3-46da-86c8-de2c1323fb88"
      },
      "source": [
        "tokenizer = Tokenizer(oov_token=\"<OOV>\")\n",
        "tokenizer.fit_on_texts(reviews)\n",
        "\n",
        "word_index = tokenizer.word_index\n",
        "print(len(word_index))\n",
        "print(word_index)\n"
      ],
      "execution_count": 5,
      "outputs": [
        {
          "output_type": "stream",
          "text": [
            "3261\n",
            "{'<OOV>': 1, 'the': 2, 'and': 3, 'i': 4, 'a': 5, 'it': 6, 'to': 7, 'is': 8, 'was': 9, 'this': 10, 'of': 11, 'not': 12, 'for': 13, 'my': 14, 'in': 15, 'with': 16, 'very': 17, 'good': 18, 'great': 19, 'phone': 20, 'that': 21, 'on': 22, 'have': 23, 'you': 24, 'food': 25, 'had': 26, 'place': 27, 'so': 28, 'but': 29, 'service': 30, 'are': 31, 'be': 32, 'we': 33, 'all': 34, 'as': 35, 'at': 36, 'like': 37, 'they': 38, 'time': 39, 'back': 40, 'one': 41, 'were': 42, 'quality': 43, 'would': 44, 'really': 45, 'here': 46, 'if': 47, 'from': 48, 'well': 49, 'your': 50, 'just': 51, 'product': 52, 'up': 53, 'best': 54, \"don't\": 55, 'no': 56, 'will': 57, 'an': 58, 'there': 59, 'go': 60, 'me': 61, 'has': 62, 'only': 63, 'also': 64, 'works': 65, \"i've\": 66, 'out': 67, 'headset': 68, 'nice': 69, 'ever': 70, 'battery': 71, \"it's\": 72, 'sound': 73, 'than': 74, 'use': 75, 'or': 76, 'when': 77, \"i'm\": 78, 'our': 79, 'get': 80, 'what': 81, 'their': 82, 'after': 83, 'love': 84, 'been': 85, 'did': 86, 'excellent': 87, 'recommend': 88, 'even': 89, 'more': 90, 'again': 91, 'first': 92, 'too': 93, 'work': 94, 'which': 95, 'ear': 96, 'about': 97, '2': 98, 'better': 99, 'can': 100, 'never': 101, 'price': 102, 'any': 103, 'could': 104, 'bad': 105, 'because': 106, 'do': 107, 'made': 108, 'got': 109, 'case': 110, 'pretty': 111, 'much': 112, 'by': 113, 'now': 114, 'disappointed': 115, 'worst': 116, 'friendly': 117, 'does': 118, 'them': 119, 'some': 120, 'then': 121, 'think': 122, 'am': 123, 'came': 124, 'minutes': 125, 'money': 126, 'new': 127, 'enough': 128, 'still': 129, 'these': 130, 'other': 131, 'amazing': 132, 'restaurant': 133, 'going': 134, 'how': 135, 'definitely': 136, 'say': 137, 'happy': 138, 'off': 139, 'experience': 140, 'delicious': 141, 'way': 142, 'two': 143, 'few': 144, 'while': 145, 'over': 146, 'being': 147, 'vegas': 148, 'us': 149, 'right': 150, 'poor': 151, 'thing': 152, 'everything': 153, \"won't\": 154, 'he': 155, 'far': 156, 'went': 157, \"didn't\": 158, 'car': 159, 'make': 160, '1': 161, 'item': 162, 'worked': 163, 'terrible': 164, 'always': 165, 'charger': 166, 'waste': 167, 'comfortable': 168, 'people': 169, 'want': 170, 'buy': 171, 'used': 172, 'staff': 173, 'eat': 174, 'long': 175, 'bought': 176, 'little': 177, 'bluetooth': 178, 'down': 179, 'easy': 180, 'its': 181, 'impressed': 182, '5': 183, 'reception': 184, 'piece': 185, 'awesome': 186, 'ordered': 187, 'stars': 188, 'times': 189, \"doesn't\": 190, 'fine': 191, 'lot': 192, 'know': 193, \"wasn't\": 194, 'chicken': 195, 'charge': 196, 'life': 197, 'since': 198, 'order': 199, 'found': 200, 'tried': 201, 'both': 202, 'fantastic': 203, 'same': 204, 'every': 205, 'before': 206, 'customer': 207, 'quite': 208, 'take': 209, 'another': 210, 'menu': 211, 'salad': 212, 'pizza': 213, 'last': 214, 'problem': 215, 'purchase': 216, 'cell': 217, 'around': 218, 'small': 219, 'slow': 220, 'horrible': 221, 'worth': 222, 'many': 223, 'feel': 224, \"can't\": 225, 'fresh': 226, 'wait': 227, 'steak': 228, 'highly': 229, 'she': 230, 'talk': 231, 'sure': 232, '3': 233, 'camera': 234, 'calls': 235, 'device': 236, \"couldn't\": 237, 'night': 238, 'overall': 239, 'probably': 240, 'day': 241, 'come': 242, 'next': 243, 'taste': 244, 'server': 245, 'sushi': 246, 'flavor': 247, 'problems': 248, 'volume': 249, 'into': 250, 'absolutely': 251, 'hear': 252, 'years': 253, 'clear': 254, 'real': 255, 'cool': 256, 'working': 257, 'using': 258, 'motorola': 259, 'fit': 260, 'look': 261, 'try': 262, 'give': 263, 'bland': 264, 'nothing': 265, 'said': 266, 'coming': 267, 'burger': 268, 'plug': 269, 'must': 270, 'design': 271, 'who': 272, 'makes': 273, 'loved': 274, 'looks': 275, 'call': 276, 'fits': 277, 'getting': 278, 'cheap': 279, 'side': 280, 'where': 281, 'family': 282, 'low': 283, 'however': 284, 'deal': 285, 'hard': 286, 'perfect': 287, 'tasty': 288, 'buffet': 289, 'meal': 290, 'atmosphere': 291, 'several': 292, 'without': 293, 'months': 294, 'left': 295, 'phones': 296, 'should': 297, 'seriously': 298, 'big': 299, 'super': 300, 'expect': 301, 'area': 302, 'screen': 303, 'once': 304, 'felt': 305, \"i'd\": 306, 'bit': 307, 'year': 308, 'return': 309, 'either': 310, 'old': 311, 'disappointing': 312, 'hot': 313, 'took': 314, 'soon': 315, 'selection': 316, 'prices': 317, 'sauce': 318, 'lunch': 319, 'breakfast': 320, 'waited': 321, 'days': 322, 'helpful': 323, 'need': 324, 'kept': 325, 'priced': 326, 'find': 327, 'wear': 328, 'received': 329, 'high': 330, 'light': 331, 'fast': 332, 'completely': 333, 'job': 334, 'kind': 335, 'perfectly': 336, 'stay': 337, '10': 338, 'company': 339, 'disappointment': 340, 'hands': 341, 'amazon': 342, 'looking': 343, \"i'll\": 344, 'away': 345, 'bar': 346, 'inside': 347, 'fries': 348, 'table': 349, 'sandwich': 350, 'meat': 351, 'dishes': 352, 'clean': 353, 'cold': 354, 'most': 355, 'three': 356, 'simple': 357, 'verizon': 358, 'dropped': 359, 'end': 360, 'buttons': 361, 'different': 362, 'gets': 363, 'home': 364, 'arrived': 365, 'quickly': 366, 'broke': 367, 'black': 368, 'may': 369, 'jabra': 370, 'pleased': 371, 'done': 372, 'avoid': 373, 'voice': 374, 'check': 375, 'extremely': 376, 'thought': 377, 'tell': 378, 'junk': 379, 'couple': 380, 'especially': 381, 'unit': 382, 'anyone': 383, 'unfortunately': 384, 'wrong': 385, 'none': 386, 'hour': 387, 'waitress': 388, 'beer': 389, 'dish': 390, 'eating': 391, 'dining': 392, 'spicy': 393, 'spot': 394, 'rude': 395, 'tasted': 396, 'value': 397, 'each': 398, 'started': 399, 'though': 400, 'everyone': 401, 'picture': 402, 'audio': 403, 'loud': 404, 'week': 405, 'feels': 406, 'headsets': 407, 'huge': 408, 'full': 409, 'software': 410, 'during': 411, 'hours': 412, 'internet': 413, 'less': 414, 'put': 415, 'useless': 416, 'color': 417, 'part': 418, 'expected': 419, 'authentic': 420, 'nokia': 421, 'anything': 422, 'sucks': 423, 'ago': 424, 'wanted': 425, 'waiting': 426, 'rather': 427, 'those': 428, 'things': 429, 'cannot': 430, 'enjoy': 431, 'barely': 432, 'quick': 433, 'pay': 434, 'awful': 435, 'mediocre': 436, 'management': 437, 'see': 438, 'overpriced': 439, 'warm': 440, 'waiter': 441, 'attentive': 442, 'cooked': 443, 'wonderful': 444, 'town': 445, 'ambiance': 446, 'chips': 447, 'special': 448, 'unless': 449, 'decent': 450, 'original': 451, 'yet': 452, 'bars': 453, 'ears': 454, 'hate': 455, 'least': 456, 'turn': 457, 'seems': 458, 'actually': 459, 'large': 460, 'reasonable': 461, 'headphones': 462, 'later': 463, 'beautiful': 464, 'within': 465, 'free': 466, 'pictures': 467, 'such': 468, 'wife': 469, 'ask': 470, 'signal': 471, 'set': 472, 'house': 473, 'glad': 474, 'incredible': 475, 'hit': 476, 'thin': 477, 'mistake': 478, 'cable': 479, 'care': 480, 'lacking': 481, 'having': 482, 'outside': 483, 'others': 484, 'crap': 485, 'plastic': 486, 'oh': 487, 'difficult': 488, '20': 489, 'under': 490, 'star': 491, 'zero': 492, 'samsung': 493, 'extra': 494, 'something': 495, '4': 496, 'easily': 497, 'places': 498, 'pho': 499, 'shrimp': 500, 'tender': 501, 'his': 502, 'potato': 503, 'served': 504, 'her': 505, 'twice': 506, 'dinner': 507, 'line': 508, 'fun': 509, 'razr': 510, 'blue': 511, 'charging': 512, 'mobile': 513, 'hold': 514, 'sturdy': 515, 'party': 516, 'front': 517, 'longer': 518, 'bargain': 519, 'music': 520, 'dont': 521, 'shipping': 522, 'between': 523, 'white': 524, 'although': 525, 'leather': 526, 'strong': 527, 'weeks': 528, 'almost': 529, 'literally': 530, \"wouldn't\": 531, 'charm': 532, 'obviously': 533, 'options': 534, 'needs': 535, 'lost': 536, 'simply': 537, 'reasonably': 538, 'range': 539, 'room': 540, 'important': 541, 'gave': 542, 'feature': 543, 'buying': 544, 'someone': 545, 'weak': 546, 'belt': 547, 'data': 548, 'sides': 549, 'average': 550, 'trying': 551, 'finally': 552, 'today': 553, 'satisfied': 554, 'keep': 555, 'clarity': 556, 'given': 557, 'review': 558, 'store': 559, 'replace': 560, 'above': 561, 'sucked': 562, 't': 563, 'friends': 564, 'please': 565, 'needed': 566, 'plus': 567, 'cases': 568, 'connection': 569, 'reviews': 570, 'told': 571, 'beat': 572, 'wall': 573, 'elsewhere': 574, 'break': 575, 'rare': 576, 'thumbs': 577, 'dirty': 578, 'ok': 579, 'fact': 580, 'wow': 581, 'asked': 582, 'tables': 583, 'portions': 584, 'sick': 585, 'dessert': 586, 'beef': 587, 'servers': 588, 'seafood': 589, 'pasta': 590, 'tasteless': 591, 'fish': 592, '30': 593, 'sweet': 594, 'thai': 595, 'eaten': 596, 'seated': 597, 'bacon': 598, 'sat': 599, 'ice': 600, 'bread': 601, 'fried': 602, 'enjoyed': 603, 'anytime': 604, 'bring': 605, 'mic': 606, 'sending': 607, 'owner': 608, 'clip': 609, 'below': 610, '7': 611, 'instructions': 612, 'provided': 613, 'included': 614, 'recommended': 615, 'performance': 616, 'thats': 617, 'keyboard': 618, 'instead': 619, 'support': 620, 'perhaps': 621, 'player': 622, 'let': 623, 'person': 624, 'station': 625, 'purchased': 626, 'holds': 627, 'decision': 628, 'comfortably': 629, 'basically': 630, 'stuff': 631, 'forever': 632, 'goes': 633, 'tool': 634, 'lasts': 635, 'bother': 636, 'able': 637, 'lightweight': 638, 'favorite': 639, 'market': 640, 'earpiece': 641, '8': 642, 'unreliable': 643, 'whole': 644, 'seller': 645, 'plantronics': 646, 'poorly': 647, 'charged': 648, 'strip': 649, 'lg': 650, 'immediately': 651, 'cant': 652, 'easier': 653, 'face': 654, 'happier': 655, 'comes': 656, 'dead': 657, 'might': 658, 'expensive': 659, 'liked': 660, 'palm': 661, 'ended': 662, 'touch': 663, 'own': 664, 'total': 665, 'cingular': 666, \"isn't\": 667, 'ringtones': 668, 'joke': 669, 'stop': 670, 'walked': 671, 'course': 672, 'treo': 673, 'usb': 674, 'believe': 675, 'point': 676, 'red': 677, 'guess': 678, 'third': 679, 'chinese': 680, 'despite': 681, 'hand': 682, 'cut': 683, 'else': 684, 'until': 685, 'checked': 686, 'setting': 687, 'totally': 688, 'damn': 689, 'tacos': 690, 'running': 691, 'salmon': 692, 'visit': 693, 'establishment': 694, 'husband': 695, 'heart': 696, 'drinks': 697, 'rice': 698, 'yummy': 699, \"we'll\": 700, 'wine': 701, 'trip': 702, 'steaks': 703, 'leave': 704, 'pork': 705, 'burgers': 706, 'cream': 707, 'drink': 708, 'itself': 709, 'considering': 710, 'bay': 711, 'phoenix': 712, 'sad': 713, 'wings': 714, 'live': 715, 'drive': 716, 'business': 717, 'folks': 718, '0': 719, 'chef': 720, 'possible': 721, 'close': 722, 'tea': 723, 'why': 724, 'location': 725, 'vegetables': 726, 'soup': 727, 'owners': 728, '40': 729, 'manager': 730, 'dry': 731, 'jawbone': 732, 'conversations': 733, 'contacts': 734, 'needless': 735, 'wasted': 736, 'static': 737, 'website': 738, 'pair': 739, \"that's\": 740, 'pocket': 741, 'pc': 742, 'combination': 743, 'owned': 744, 'book': 745, 'worthless': 746, 'features': 747, 'mind': 748, 'returned': 749, 'protection': 750, 'world': 751, 'seconds': 752, '510': 753, 'complaints': 754, 'particular': 755, \"phone's\": 756, 'cover': 757, 'fairly': 758, 'trouble': 759, 'saying': 760, 'choice': 761, 'packaged': 762, '6': 763, 'loves': 764, 'construction': 765, 'boy': 766, 'ease': 767, 'play': 768, 'plan': 769, 'match': 770, 'pros': 771, 'rated': 772, 'impressive': 773, 'fall': 774, 'display': 775, 'rocks': 776, 'number': 777, 'setup': 778, 'earpieces': 779, 'bt': 780, 'earbud': 781, 'failed': 782, 'coverage': 783, 'experienced': 784, 'drops': 785, 'description': 786, 'hoping': 787, 'seemed': 788, 'sharp': 789, 'wasting': 790, 'chargers': 791, 'offers': 792, 'handsfree': 793, 'network': 794, 'recently': 795, 'bucks': 796, 'replacement': 797, 'nearly': 798, 'form': 799, 'anyway': 800, 'means': 801, \"there's\": 802, 'certainly': 803, 'mess': 804, 'hair': 805, 'sony': 806, 'comfort': 807, 'cute': 808, 'whatsoever': 809, 'drain': 810, 'fry': 811, 'scratched': 812, 'microphone': 813, 'uncomfortable': 814, 'plugged': 815, 'gotten': 816, 'driving': 817, 'neither': 818, 'flip': 819, 'inexpensive': 820, 'sitting': 821, 'wireless': 822, 'reason': 823, 'exactly': 824, \"you'd\": 825, 'stupid': 826, 'breaks': 827, 'note': 828, 'alone': 829, 'q': 830, 'size': 831, 'turned': 832, 'reading': 833, 'wearing': 834, 'sunglasses': 835, 'computer': 836, 'returning': 837, 'understand': 838, 'pricing': 839, 'results': 840, 'im': 841, 'noise': 842, 'holster': 843, 'orders': 844, 'refund': 845, 'drop': 846, 'through': 847, 'speaker': 848, 'sprint': 849, 'stopped': 850, 'tinny': 851, 'placed': 852, 'spring': 853, 'happened': 854, 'pairing': 855, 'crisp': 856, 'ripped': 857, 'iphone': 858, 'multiple': 859, 'power': 860, 'outlet': 861, 'etc': 862, 'passed': 863, '100': 864, 'convenient': 865, 'date': 866, 'bottom': 867, '12': 868, 'boot': 869, 'double': 870, 'disgusting': 871, 'lots': 872, 'together': 873, 'send': 874, 'says': 875, 'top': 876, 'making': 877, 'fails': 878, 'beep': 879, 'word': 880, 'complain': 881, 'seen': 882, 'disappoint': 883, 'texture': 884, 'nasty': 885, 'recommendation': 886, 'potatoes': 887, 'brought': 888, 'sashimi': 889, 'yourself': 890, 'moist': 891, 'frozen': 892, 'greek': 893, 'dressing': 894, 'pita': 895, 'hummus': 896, 'duck': 897, 'flat': 898, 'amount': 899, 'water': 900, 'second': 901, 'salt': 902, 'chewy': 903, 'rolls': 904, 'mouth': 905, \"you're\": 906, 'tip': 907, 'cafe': 908, 'ambience': 909, 'honest': 910, 'busy': 911, 'delish': 912, 'melt': 913, 'cheese': 914, 'subway': 915, 'restaurants': 916, 'empty': 917, 'ate': 918, 'watched': 919, 'stale': 920, 'treated': 921, 'vegetarian': 922, 'healthy': 923, 'interesting': 924, 'decor': 925, 'butter': 926, 'egg': 927, 'dog': 928, 'insulted': 929, 'hope': 930, 'brunch': 931, 'soggy': 932, 'lobster': 933, 'flavorful': 934, 'par': 935, 'generous': 936, 'patio': 937, 'outstanding': 938, \"friend's\": 939, 'pizzas': 940, 'pulled': 941, 'pleasant': 942, 'equally': 943, 'bathroom': 944, 'door': 945, 'deserves': 946, 'stomach': 947, 'green': 948, 'beans': 949, 'regular': 950, '35': 951, 'bill': 952, 'worse': 953, 'meals': 954, 'homemade': 955, 'gone': 956, 'desserts': 957, 'boyfriend': 958, 'maybe': 959, 'half': 960, 'list': 961, 'vibe': 962, 'him': 963, 'edible': 964, 'seating': 965, 'style': 966, 'salsa': 967, 'lacked': 968, 'lasting': 969, '45': 970, 'imagine': 971, 'extended': 972, 'notice': 973, 'tooth': 974, 'advise': 975, 'fire': 976, 'run': 977, 'pull': 978, 'unusable': 979, 'juice': 980, 'short': 981, 'regarding': 982, 'turns': 983, 'pda': 984, 'neat': 985, '15': 986, 'essentially': 987, 'forget': 988, 'tech': 989, 'clearly': 990, 'mp3': 991, 'songs': 992, 'lock': 993, 'died': 994, 'glasses': 995, 'sometimes': 996, 'series': 997, 'quiet': 998, 'docking': 999, 'd807': 1000, 'advertised': 1001, 'handy': 1002, 'cheaper': 1003, 'costs': 1004, 'buyer': 1005, 'beware': 1006, 'apparently': 1007, 'flaw': 1008, 'expectations': 1009, 'resolution': 1010, 'slim': 1011, 'sex': 1012, 'toast': 1013, 'sleek': 1014, 'keypad': 1015, 'unhappy': 1016, 'winner': 1017, 'careful': 1018, 'logitech': 1019, 'recognition': 1020, 'tremendous': 1021, 'takes': 1022, 'stated': 1023, 'blackberry': 1024, 'sounds': 1025, 'funny': 1026, 'technology': 1027, 'wired': 1028, 'previous': 1029, 's': 1030, 'w810i': 1031, 'superb': 1032, 'maintain': 1033, \"shouldn't\": 1034, 'graphics': 1035, 'button': 1036, 'thank': 1037, 'igo': 1038, 'tips': 1039, 'connected': 1040, \"wife's\": 1041, 'whether': 1042, 'likes': 1043, 'storage': 1044, 'buzzing': 1045, 'override': 1046, 'functionality': 1047, 'ring': 1048, 'dropping': 1049, 'hardly': 1050, \"you'll\": 1051, 'incredibly': 1052, 'strange': 1053, 'living': 1054, 'issues': 1055, 'embarrassing': 1056, 'mostly': 1057, 'consumer': 1058, 'background': 1059, 'usually': 1060, 'excited': 1061, 'additional': 1062, 'gels': 1063, 'purpose': 1064, 'secure': 1065, 'appears': 1066, 'rubber': 1067, 'smell': 1068, 'caused': 1069, 'flimsy': 1070, 'month': 1071, 'flawlessly': 1072, 'giving': 1073, 'rotating': 1074, 'adorable': 1075, 'thru': 1076, 'wise': 1077, 'compliments': 1078, 'dialing': 1079, 'games': 1080, 'ipod': 1081, 'recharge': 1082, 'appealing': 1083, 'save': 1084, 'along': 1085, 'starts': 1086, 'ringing': 1087, 'auto': 1088, 'push': 1089, 'skype': 1090, 'self': 1091, 'help': 1092, 'shipped': 1093, 'promptly': 1094, 'prompt': 1095, 'noticed': 1096, 'att': 1097, 'mention': 1098, 'weird': 1099, 'effect': 1100, 'model': 1101, 'warning': 1102, 'wish': 1103, 'dying': 1104, 'install': 1105, 'purchasing': 1106, 'moto': 1107, 'figure': 1108, 'key': 1109, 'memory': 1110, 'solid': 1111, 'changing': 1112, 'update': 1113, 'cumbersome': 1114, 'delivery': 1115, 'switch': 1116, 'worthwhile': 1117, 'batteries': 1118, 'user': 1119, 'ability': 1120, 'receiving': 1121, 'exchanged': 1122, 'cellphone': 1123, 'described': 1124, '11': 1125, 'nyc': 1126, 'defective': 1127, 'unacceptable': 1128, 'catching': 1129, 'amazed': 1130, 'timeframe': 1131, 'complaint': 1132, 'standard': 1133, 'thanks': 1134, 'accidentally': 1135, 'listening': 1136, 'kitchen': 1137, 'conversation': 1138, 'ample': 1139, 'eargels': 1140, 'seem': 1141, 'ones': 1142, 'properly': 1143, 'missed': 1144, 'numerous': 1145, 'hated': 1146, 'due': 1147, 'forced': 1148, 'constructed': 1149, 'menus': 1150, 'holding': 1151, 'broken': 1152, 'effort': 1153, 'idea': 1154, \"they're\": 1155, 'doing': 1156, 'killer': 1157, 'breaking': 1158, '50': 1159, 'operate': 1160, 'paired': 1161, 'pack': 1162, 'apart': 1163, 'brand': 1164, 'surprised': 1165, 'fabulous': 1166, 'performed': 1167, 'echo': 1168, 'wind': 1169, 'warranty': 1170, 'luck': 1171, 'falling': 1172, 'tiny': 1173, 'four': 1174, 'tries': 1175, 'download': 1176, 'rate': 1177, 'access': 1178, 'continue': 1179, 'somehow': 1180, 'flash': 1181, 'truly': 1182, 'tones': 1183, 'prime': 1184, 'biggest': 1185, 'video': 1186, 'entire': 1187, 'accept': 1188, 'shots': 1189, 'allows': 1190, 'quit': 1191, 'via': 1192, 'signs': 1193, 'sizes': 1194, 'provides': 1195, 'classy': 1196, 'metro': 1197, 'somewhat': 1198, 'cost': 1199, 'smoke': 1200, 'son': 1201, 'protector': 1202, 'sorry': 1203, 'refused': 1204, 'discount': 1205, 'five': 1206, 'sounded': 1207, 'talking': 1208, 'feet': 1209, 'everywhere': 1210, 'ordering': 1211, 'awkward': 1212, 'current': 1213, 'answer': 1214, 'read': 1215, \"haven't\": 1216, 'letting': 1217, 'laptop': 1218, 'normal': 1219, 'lose': 1220, 'exceptional': 1221, 'show': 1222, 'managed': 1223, 'seat': 1224, 'lightly': 1225, 'rating': 1226, 'christmas': 1227, 'rest': 1228, 'otherwise': 1229, 'joy': 1230, 'covered': 1231, 'crust': 1232, 'late': 1233, 'cashier': 1234, 'mmmm': 1235, 'human': 1236, 'mexican': 1237, 'overwhelmed': 1238, 'bite': 1239, 'familiar': 1240, 'favor': 1241, 'delight': 1242, 'judge': 1243, 'grossed': 1244, 'behind': 1245, 'char': 1246, 'realized': 1247, 'attitudes': 1248, 'towards': 1249, 'customers': 1250, 'portion': 1251, 'attack': 1252, 'grill': 1253, 'downtown': 1254, 'excuse': 1255, 'scallop': 1256, 'refill': 1257, 'appetizers': 1258, 'heard': 1259, 'batter': 1260, 'finish': 1261, 'beyond': 1262, 'meh': 1263, 'min': 1264, 'known': 1265, 'suck': 1266, 'seasoned': 1267, 'opportunity': 1268, 'underwhelming': 1269, 'grease': 1270, 'roast': 1271, 'sugary': 1272, 'six': 1273, 'die': 1274, 'bye': 1275, 'lady': 1276, 'serves': 1277, 'roasted': 1278, 'garlic': 1279, 'marrow': 1280, 'added': 1281, 'bartender': 1282, 'playing': 1283, 'lovers': 1284, 'gross': 1285, 'preparing': 1286, 'indian': 1287, 'belly': 1288, 'crispy': 1289, 'wrap': 1290, 'tuna': 1291, 'bagels': 1292, 'selections': 1293, 'dine': 1294, 'rarely': 1295, 'curry': 1296, 'bathrooms': 1297, 'decorated': 1298, 'pace': 1299, 'greeted': 1300, 'joint': 1301, 'bakery': 1302, 'ladies': 1303, 'hip': 1304, 'overcooked': 1305, 'charcoal': 1306, 'decided': 1307, 'looked': 1308, 'dirt': 1309, 'watch': 1310, 'gyros': 1311, 'feeling': 1312, 'valley': 1313, 'bowl': 1314, 'disrespected': 1315, 'stepped': 1316, 'gold': 1317, 'puree': 1318, 'bug': 1319, \"we're\": 1320, 'friend': 1321, 'shower': 1322, 'bisque': 1323, 'filet': 1324, 'pepper': 1325, 'cook': 1326, 'dealing': 1327, 'cheeseburger': 1328, 'single': 1329, 'yum': 1330, 'mayo': 1331, 'honestly': 1332, 'stayed': 1333, 'building': 1334, 'dark': 1335, 'sub': 1336, 'creamy': 1337, 'similar': 1338, 'sticks': 1339, 'tap': 1340, 'coffee': 1341, 'boba': 1342, 'taco': 1343, 'bachi': 1344, 'salads': 1345, 'neighborhood': 1346, 'soooo': 1347, 'stir': 1348, 'summer': 1349, 'delightful': 1350, 'toasted': 1351, 'fare': 1352, 'doubt': 1353, 'serve': 1354, 'mom': 1355, 'bites': 1356, 'omg': 1357, 'brick': 1358, 'oven': 1359, 'ten': 1360, 'pancakes': 1361, 'eggs': 1362, 'treat': 1363, 'evening': 1364, 'lukewarm': 1365, 'eggplant': 1366, 'stuffed': 1367, 'mall': 1368, 'kids': 1369, 'perfection': 1370, 'impeccable': 1371, 'pop': 1372, 'assure': 1373, 'become': 1374, 'professional': 1375, \"we've\": 1376, 'nicest': 1377, 'biscuits': 1378, 'cow': 1379, 'driest': 1380, 'tots': 1381, 'paid': 1382, 'acknowledged': 1383, 'margaritas': 1384, 'flower': 1385, 'group': 1386, 'crab': 1387, 'legs': 1388, 'sliced': 1389, 'bunch': 1390, 'filling': 1391, 'lovely': 1392, 'choose': 1393, 'entrees': 1394, 'recent': 1395, 'tapas': 1396, 'vinegrette': 1397, 'baby': 1398, 'helped': 1399, 'fan': 1400, 'presentation': 1401, 'satisfying': 1402, 'grilled': 1403, 'non': 1404, 'focused': 1405, 'guy': 1406, 'promise': 1407, 'italian': 1408, 'legit': 1409, 'staying': 1410, 'fail': 1411, 'plate': 1412, 'serving': 1413, 'fly': 1414, 'paper': 1415, 'crowd': 1416, 'mid': 1417, 'definately': 1418, 'flavorless': 1419, 'nachos': 1420, 'crazy': 1421, 'tribute': 1422, 'fell': 1423, 'services': 1424, 'heat': 1425, \"aren't\": 1426, 'spend': 1427, 'undercooked': 1428, 'converter': 1429, 'tied': 1430, 'major': 1431, 'jiggle': 1432, 'dozen': 1433, 'hundred': 1434, 'seperated': 1435, 'mere': 1436, 'ft': 1437, 'excessive': 1438, 'garbled': 1439, 'odd': 1440, 'fooled': 1441, 'clicks': 1442, 'wonder': 1443, 'mechanism': 1444, \"motorola's\": 1445, 'followed': 1446, 'directions': 1447, 'kindle': 1448, 'commercials': 1449, 'misleading': 1450, 'mother': 1451, 'couldnt': 1452, 'earphone': 1453, 'breakage': 1454, 'unacceptible': 1455, 'ideal': 1456, 'whose': 1457, 'sensitive': 1458, 'moving': 1459, 'freeway': 1460, 'speed': 1461, 'contract': 1462, 'ac': 1463, 'highy': 1464, 'mins': 1465, '680': 1466, '2mp': 1467, 'pics': 1468, 'garbage': 1469, 'gonna': 1470, 'arguing': 1471, 'bulky': 1472, 'usable': 1473, 'useful': 1474, 'machine': 1475, 'gadget': 1476, 'e': 1477, 'stream': 1478, 'submerged': 1479, \"microsoft's\": 1480, 'faceplates': 1481, 'elegant': 1482, 'angle': 1483, 'drawback': 1484, 'pause': 1485, 'skip': 1486, 'activated': 1487, 'suddenly': 1488, 'ipods': 1489, 'situations': 1490, 'bmw': 1491, 'hearing': 1492, 'wrongly': 1493, 'everyday': 1494, 'intended': 1495, 'runs': 1496, 'loads': 1497, 'greater': 1498, 'buds': 1499, 'waaay': 1500, 'bluetooths': 1501, 'listener': 1502, 'integrated': 1503, 'seamlessly': 1504, 'flush': 1505, 'toilet': 1506, 'supposedly': 1507, '375': 1508, 'styles': 1509, 'correctly': 1510, '350': 1511, 'jabra350': 1512, 'megapixels': 1513, 'renders': 1514, 'images': 1515, 'relatively': 1516, 'purcashed': 1517, 'geeky': 1518, 'oozes': 1519, 'embedded': 1520, 'stylish': 1521, 'compromise': 1522, 'qwerty': 1523, 'basic': 1524, 'simpler': 1525, 'iam': 1526, 'disapoinment': 1527, 'realize': 1528, 'accompanied': 1529, 'brilliant': 1530, 'nicely': 1531, 'damage': 1532, 'definitly': 1533, 'majority': 1534, 'peachy': 1535, 'keen': 1536, 'upstairs': 1537, 'basement': 1538, 'minute': 1539, 'reccomendation': 1540, 'relative': 1541, 'items': 1542, 'sudden': 1543, 'linking': 1544, '8530': 1545, 'curve': 1546, 'sketchy': 1547, 'messages': 1548, 'web': 1549, 'browsing': 1550, 'significantly': 1551, 'faster': 1552, 'build': 1553, 'unlike': 1554, 'colors': 1555, 'whine': 1556, 'communications': 1557, 'communicate': 1558, 'monkeys': 1559, 'share': 1560, 'dna': 1561, 'copy': 1562, 'humans': 1563, 'bougth': 1564, 'l7c': 1565, 'mode': 1566, 'file': 1567, 'browser': 1568, 'hs850': 1569, 'latest': 1570, 'os': 1571, 'v1': 1572, '15g': 1573, 'crawl': 1574, 'recognizes': 1575, 'bluetoooth': 1576, 'thorn': 1577, 'abhor': 1578, 'disconnected': 1579, '13': 1580, 'mail': 1581, 'backlight': 1582, 'message': 1583, 'tone': 1584, 'lately': 1585, 'wit': 1586, 'weight': 1587, 'pleather': 1588, 'deaf': 1589, 'prettier': 1590, 'investment': 1591, 'ticking': 1592, 'noises': 1593, 'ends': 1594, 'electronics': 1595, 'available': 1596, 'fm': 1597, 'transmitters': 1598, 'h500': 1599, 'mega': 1600, 'pixel': 1601, 'good7': 1602, 'transmit': 1603, 'contacting': 1604, 'dollar': 1605, 'learned': 1606, 'lesson': 1607, 'online': 1608, 'earbugs': 1609, 'roam': 1610, 'crack': 1611, 'infatuated': 1612, 'freezes': 1613, 'frequently4': 1614, 'child': 1615, 'tick': 1616, 'headbands': 1617, 'ericsson': 1618, 'purchases': 1619, 'shine': 1620, 'calendar': 1621, 'sync': 1622, 'defeats': 1623, 'penny': 1624, 'wallet': 1625, 'type': 1626, 'excrutiatingly': 1627, 'aspect': 1628, 'glove': 1629, 'durable': 1630, 'o': 1631, 'gosh': 1632, 'attractive': 1633, 'factor': 1634, 'petroleum': 1635, 'unbearable': 1636, 'scary': 1637, 'stereo': 1638, 'absolutel': 1639, 'potentially': 1640, 'reversible': 1641, 'contstruct': 1642, 'hinge': 1643, 'installed': 1644, 'overnite': 1645, 'handset': 1646, 'cat': 1647, 'attacked': 1648, 'protective': 1649, 'destroying': 1650, 'razor': 1651, 'v3i': 1652, 'shouldve': 1653, 'invented': 1654, 'sooner': 1655, 'engineered': 1656, 'clever': 1657, 'complained': 1658, \"headset's\": 1659, '2160': 1660, 'tracfone': 1661, 'instruction': 1662, 'manual': 1663, 'alarm': 1664, 'clock': 1665, 'removing': 1666, 'antena': 1667, 'compared': 1668, 'state': 1669, 'allow': 1670, 'usage': 1671, 'ngage': 1672, 'earbuds': 1673, 'riingtones': 1674, 'rip': 1675, 'frequentyly': 1676, 'adhesive': 1677, 'practically': 1678, 'add': 1679, 'boost': 1680, 'concrete': 1681, 'knock': 1682, 'wood': 1683, 'transformed': 1684, 'organizational': 1685, 'capability': 1686, 'vehicle': 1687, 'cradle': 1688, 'jerks': 1689, 'los': 1690, 'angeles': 1691, 'starter': 1692, 'loudspeaker': 1693, 'option': 1694, 'bumpers': 1695, 'lights': 1696, 'improve': 1697, 'leaks': 1698, 'according': 1699, 'called': 1700, 'applifies': 1701, 'specially': 1702, 'transmission': 1703, 's11': 1704, 'finished': 1705, 'drivng': 1706, 'reverse': 1707, 'tape': 1708, 'embarassing': 1709, 'hurt': 1710, 'protects': 1711, 'operates': 1712, 'soyo': 1713, 'portraits': 1714, 'exterior': 1715, 'mentioned': 1716, 'gadgets': 1717, 'magical': 1718, 'comparably': 1719, 'offering': 1720, 'encourage': 1721, 'effective': 1722, 'recieve': 1723, 'cradles': 1724, 'kits': 1725, 'excelent': 1726, 'cingulair': 1727, 'nicer': 1728, 'era': 1729, 'colored': 1730, 'hoursthe': 1731, 'thereplacement': 1732, '2000': 1733, 'cheaply': 1734, 'distorted': 1735, 'yell': 1736, 'forgot': 1737, 'iriver': 1738, 'spinn': 1739, 'fond': 1740, 'magnetic': 1741, 'strap': 1742, 'psyched': 1743, 'appointments': 1744, 'appearance': 1745, 'sanyo': 1746, 'survived': 1747, 'dozens': 1748, 'blacktop': 1749, 'ill': 1750, 'earphones': 1751, 'finds': 1752, 'enter': 1753, 'modest': 1754, 'cellular': 1755, 'awsome': 1756, 'drained': 1757, 'earpad': 1758, 'displeased': 1759, 'defect': 1760, 'risk': 1761, 'built': 1762, 'restored': 1763, 'jx': 1764, 'searched': 1765, 'pad': 1766, 'lit': 1767, 'portable': 1768, 'colleague': 1769, 'fully': 1770, 'bed': 1771, 'wi': 1772, 'fi': 1773, 'morning': 1774, 'card': 1775, 'hat': 1776, 'timely': 1777, 'shipment': 1778, 'surefire': 1779, 'gx2': 1780, 'bt50': 1781, 'buyers': 1782, 'remorse': 1783, 'accessoryone': 1784, 'inexcusable': 1785, 'carriers': 1786, 'tmobile': 1787, 'procedure': 1788, 'motorolas': 1789, 'vx9900': 1790, 'env': 1791, 'rocketed': 1792, 'destination': 1793, 'unknown': 1794, 'conditions': 1795, 'usefulness': 1796, \"verizon's\": 1797, 'bills': 1798, 'plans': 1799, 'overnight': 1800, 'regret': 1801, 'pitiful': 1802, 'respect': 1803, 'stuck': 1804, 'max': 1805, 'mute': 1806, 'hybrid': 1807, 'palmtop': 1808, 'excels': 1809, 'roles': 1810, 'bt250v': 1811, 'bose': 1812, 'cancelling': 1813, 'commuter': 1814, 'photo': 1815, 'ad': 1816, 'earlier': 1817, 'noted': 1818, 'happens': 1819, 'frog': 1820, 'eye': 1821, 'pushed': 1822, 'function': 1823, 'aluminum': 1824, 'vx': 1825, 'protected': 1826, 'handheld': 1827, 'tools': 1828, 'sturdiness': 1829, 'source': 1830, 'waterproof': 1831, 'sliding': 1832, 'edge': 1833, 'pants': 1834, 'pockets': 1835, 'ugly': 1836, 'shield': 1837, 'incrediable': 1838, 'improvement': 1839, 'refuse': 1840, 'activate': 1841, 'gentle': 1842, 'threw': 1843, 'window': 1844, 'inches': 1845, 'counter': 1846, 'cracked': 1847, 'laughing': 1848, 'trunk': 1849, 'carried': 1850, 'hitch': 1851, 'practical': 1852, 'channel': 1853, 'directly': 1854, 'increase': 1855, 'shifting': 1856, 'bubbling': 1857, 'peeling': 1858, 'scratch': 1859, 'droid': 1860, 'exercise': 1861, 'frustration': 1862, 'earset': 1863, 'outgoing': 1864, 'package': 1865, 'understanding': 1866, 'patient': 1867, 'wirefly': 1868, 'contact': 1869, 'inform': 1870, 'practice': 1871, 'aggravating': 1872, 'virgin': 1873, 'muddy': 1874, 'casing': 1875, \"wire's\": 1876, 'insert': 1877, 'glued': 1878, 'slid': 1879, 'plantronincs': 1880, 'continues': 1881, 'flawed': 1882, 'disapointing': 1883, 'fourth': 1884, 'fixes': 1885, 'accessing': 1886, 'downloading': 1887, 'performing': 1888, 'functions': 1889, 'constantly': 1890, 'happening': 1891, 'adapters': 1892, 'procedures': 1893, 're': 1894, 'wiping': 1895, 'strength': 1896, 'plays': 1897, 'louder': 1898, 'navigate': 1899, 'recessed': 1900, 'avoiding': 1901, 'smoking': 1902, 'linked': 1903, 'possesed': 1904, 'trash': 1905, 'research': 1906, 'development': 1907, 'division': 1908, 'knows': 1909, 'infuriating': 1910, 'walkman': 1911, 'charges': 1912, 'europe': 1913, 'asia': 1914, 'clipping': 1915, 'deffinitely': 1916, \"cent's\": 1917, 'behing': 1918, '5020': 1919, 'comfortible': 1920, '24': 1921, 'pain': 1922, 'arrival': 1923, 'fraction': 1924, 'crappy': 1925, 'e715': 1926, 'seeen': 1927, 'interface': 1928, 'decade': 1929, 'compete': 1930, 'designs': 1931, '700w': 1932, 'transceiver': 1933, 'steer': 1934, 'genuine': 1935, 'replacementr': 1936, 'pens': 1937, 'buyit': 1938, 'beats': 1939, 'fingers': 1940, 'steep': 1941, 'normally': 1942, 'haul': 1943, 'dissapointing': 1944, 'originally': 1945, 'discarded': 1946, 'players': 1947, 'posted': 1948, 'detailed': 1949, 'comments': 1950, 'grey': 1951, 'existing': 1952, 'cds': 1953, 'currently': 1954, 'shooters': 1955, 'delay': 1956, 'messes': 1957, 'bitpim': 1958, 'program': 1959, 'transfer': 1960, 'accessory': 1961, 'manufacturer': 1962, 'muffled': 1963, 'incoming': 1964, 'severe': 1965, 'resistant': 1966, 'overly': 1967, 'contacted': 1968, 'produce': 1969, 'receipt': 1970, 'linksys': 1971, 'exchange': 1972, 'refurb': 1973, 'snug': 1974, 'heavy': 1975, 'keeps': 1976, 'utter': 1977, 'promised': 1978, 'loop': 1979, 'latch': 1980, 'visor': 1981, 'address': 1982, 'reboots': 1983, 'tungsten': 1984, 'e2': 1985, 'flipphones': 1986, 'designed': 1987, 'smoothly': 1988, 'study': 1989, 'interested': 1990, 'sins': 1991, 'industrial': 1992, 'tracking': 1993, 'detachable': 1994, 'periodically': 1995, 'upload': 1996, 'locks': 1997, 'screens': 1998, 'randomly': 1999, 'locked': 2000, '325': 2001, 'worn': 2002, 'ringer': 2003, 'choices': 2004, 'acceptable': 2005, 'balance': 2006, 'ready': 2007, 'upbeat': 2008, 'forgeries': 2009, 'abound': 2010, 'explain': 2011, 'jack': 2012, 'ca': 2013, '42': 2014, 'smallest': 2015, 'stays': 2016, 'drains': 2017, 'superfast': 2018, 'ergonomic': 2019, 'theory': 2020, 'stand': 2021, 'clips': 2022, 'occupied': 2023, 'distracting': 2024, 'except': 2025, 'cbr': 2026, 'mp3s': 2027, 'preferably': 2028, 'windows': 2029, 'media': 2030, 'sos': 2031, 'signals': 2032, 'connect': 2033, 'mini': 2034, 'near': 2035, 'open': 2036, 'allowing': 2037, 'startac': 2038, 'regretted': 2039, 'outperform': 2040, 'china': 2041, 'v325i': 2042, 'numbers': 2043, 'sim': 2044, '3o': 2045, 'r': 2046, 'crashed': 2047, 'replaced': 2048, '18': 2049, '4s': 2050, 'connecting': 2051, 'sources': 2052, 'imac': 2053, 'external': 2054, 'bells': 2055, 'whistles': 2056, 'slide': 2057, 'grip': 2058, 'prevents': 2059, 'slipping': 2060, 'span': 2061, 'exclaim': 2062, 'whoa': 2063, 'tv': 2064, 'corded': 2065, 'freedom': 2066, 'mark': 2067, 'shows': 2068, 'functional': 2069, 'soft': 2070, 'tight': 2071, 'shape': 2072, 'copier': 2073, 'sent': 2074, 'anywhere': 2075, 'sold': 2076, 'units': 2077, 'krussel': 2078, 'tracfonewebsite': 2079, 'toactivate': 2080, 'texas': 2081, 'dit': 2082, '5320': 2083, 'mainly': 2084, 'whatever': 2085, 'blueant': 2086, 'supertooth': 2087, 'pcs': 2088, 'sch': 2089, 'r450': 2090, 'slider': 2091, 'premium': 2092, 'plugs': 2093, 'plenty': 2094, 'capacity': 2095, 'confortable': 2096, 'periods': 2097, 'ant': 2098, 'hey': 2099, 'pleasantly': 2100, 'suprised': 2101, 'dustpan': 2102, 'indoors': 2103, 'disposable': 2104, 'puff': 2105, 'ride': 2106, 'smoother': 2107, 'nano': 2108, 'dissapointed': 2109, 'reccommend': 2110, 'carries': 2111, 'highest': 2112, 'anti': 2113, 'glare': 2114, 'smartphone': 2115, 'wont': 2116, 'atleast': 2117, 'addition': 2118, 'amp': 2119, 'reoccure': 2120, 'somewhere': 2121, 'creaks': 2122, 'wooden': 2123, 'floor': 2124, 'apartment': 2125, 'generally': 2126, 'inconspicuous': 2127, 'slowly': 2128, 'impossible': 2129, 'upgrade': 2130, 'securly': 2131, 'possibility': 2132, 'booking': 2133, 'entertainment': 2134, 'communication': 2135, 'activesync': 2136, 'optimal': 2137, 'synchronization': 2138, 'coupon': 2139, 'instance': 2140, 'ps3': 2141, 'cheapy': 2142, 'shouting': 2143, 'telephone': 2144, 'yes': 2145, 'shiny': 2146, 'grtting': 2147, '44': 2148, 'v3c': 2149, 'exceeds': 2150, 'sight': 2151, 'improper': 2152, 'effects': 2153, 'palms': 2154, 'hoped': 2155, 'father': 2156, 'v265': 2157, 'pads': 2158, 'stops': 2159, 'intermittently': 2160, 'reaching': 2161, 'row': 2162, 'keys': 2163, 'nightmare': 2164, 'describe': 2165, 'speakerphone': 2166, 'cassette': 2167, 'cellphones': 2168, 'planning': 2169, \"other's\": 2170, 'products': 2171, 'sensor': 2172, 'reliability': 2173, 'beeping': 2174, 'dieing': 2175, 'ir': 2176, 'cancellation': 2177, 'counterfeit': 2178, 'travled': 2179, 'swivel': 2180, 'sister': 2181, 'dual': 2182, '8125': 2183, 'keeping': 2184, 'bottowm': 2185, 'gimmick': 2186, 'opens': 2187, 'causing': 2188, 'discomfort': 2189, 'trust': 2190, 'maintains': 2191, 'flawless': 2192, 'devices': 2193, 'utterly': 2194, 'confusing': 2195, 'holder': 2196, 'cutouts': 2197, 'land': 2198, 'loops': 2199, 'material': 2200, 'flaws': 2201, 'owning': 2202, 'official': 2203, 'oem': 2204, 'loudest': 2205, 'competitors': 2206, 'saved': 2207, 'alot': 2208, 'cuts': 2209, 'unintelligible': 2210, 'restart': 2211, 'bend': 2212, 'leaf': 2213, 'metal': 2214, 'stress': 2215, 'leopard': 2216, 'print': 2217, 'wonderfully': 2218, 'wild': 2219, 'saggy': 2220, 'floppy': 2221, 'looses': 2222, 'snap': 2223, '8525': 2224, 'carry': 2225, 'fliptop': 2226, 'loose': 2227, 'wobbly': 2228, 'eventually': 2229, 'receive': 2230, 'fulfills': 2231, 'requirements': 2232, 'rests': 2233, 'against': 2234, 'websites': 2235, 'cables': 2236, 'lap': 2237, 'controls': 2238, 'accessable': 2239, 'mine': 2240, 'satisifed': 2241, '2005': 2242, 's710a': 2243, 'specs': 2244, 'armband': 2245, 'allot': 2246, 'clearer': 2247, 'keypads': 2248, 'reach': 2249, 'ericson': 2250, 'z500a': 2251, 'motor': 2252, 'control': 2253, 'center': 2254, 'voltage': 2255, 'humming': 2256, 'equipment': 2257, 'certain': 2258, 'girl': 2259, 'wake': 2260, 'styling': 2261, 'restocking': 2262, 'fee': 2263, 'darn': 2264, 'lousy': 2265, 'sweetest': 2266, 'securely': 2267, 'hook': 2268, 'directed': 2269, 'canal': 2270, 'unsatisfactory': 2271, 'videos': 2272, 'negatively': 2273, 'adapter': 2274, 'provide': 2275, 'hype': 2276, 'assumed': 2277, 'lense': 2278, 'falls': 2279, 'text': 2280, 'messaging': 2281, 'tricky': 2282, 'painful': 2283, 'lasted': 2284, 'blew': 2285, 'flops': 2286, 'smudged': 2287, 'touches': 2288, 'infra': 2289, 'port': 2290, 'irda': 2291, 'bank': 2292, 'holiday': 2293, 'rick': 2294, 'steve': 2295, 'angry': 2296, 'honeslty': 2297, 'ahead': 2298, 'warmer': 2299, 'wayyy': 2300, 'cape': 2301, 'cod': 2302, 'ravoli': 2303, 'chickenwith': 2304, 'cranberry': 2305, 'disgusted': 2306, 'shocked': 2307, 'indicate': 2308, 'cash': 2309, 'burrittos': 2310, 'blah': 2311, 'interior': 2312, 'velvet': 2313, 'cake': 2314, 'ohhh': 2315, 'hole': 2316, 'street': 2317, 'luke': 2318, 'sever': 2319, 'combos': 2320, '23': 2321, 'final': 2322, 'blow': 2323, 'accident': 2324, 'grab': 2325, 'pub': 2326, 'redeeming': 2327, 'hiro': 2328, 'drag': 2329, 'melted': 2330, 'styrofoam': 2331, 'fear': 2332, 'positive': 2333, 'pucks': 2334, 'disgust': 2335, 'register': 2336, 'rib': 2337, 'section': 2338, 'generic': 2339, 'firehouse': 2340, 'refreshing': 2341, 'pink': 2342, 'chow': 2343, 'mein': 2344, 'imaginative': 2345, 'lined': 2346, 'strings': 2347, 'banana': 2348, 'petrified': 2349, 'struggle': 2350, 'wave': 2351, 'receives': 2352, 'cocktails': 2353, 'handmade': 2354, \"we'd\": 2355, 'military': 2356, 'dos': 2357, 'gringos': 2358, 'tastings': 2359, 'jeff': 2360, 'milkshake': 2361, 'chocolate': 2362, 'milk': 2363, 'excalibur': 2364, 'common': 2365, 'sense': 2366, 'appalling': 2367, 'cheated': 2368, 'experiencing': 2369, 'relationship': 2370, 'parties': 2371, 'smelled': 2372, 'trap': 2373, 'turkey': 2374, 'pan': 2375, 'cakes': 2376, 'raving': 2377, 'disaster': 2378, 'tailored': 2379, 'palate': 2380, 'ratio': 2381, 'tenders': 2382, 'unsatisfying': 2383, 'omelets': 2384, 'summary': 2385, 'largely': 2386, 'sexy': 2387, 'outrageously': 2388, 'flirting': 2389, 'hottest': 2390, 'rock': 2391, 'casino': 2392, 'step': 2393, 'forward': 2394, 'bone': 2395, 'bloddy': 2396, \"mary's\": 2397, 'mussels': 2398, 'reduction': 2399, 'buffets': 2400, 'tigerlilly': 2401, 'afternoon': 2402, 'personable': 2403, 'sooooo': 2404, \"let's\": 2405, 'yama': 2406, '40min': 2407, 'arriving': 2408, 'actual': 2409, 'blandest': 2410, 'cuisine': 2411, 'worries': 2412, 'guys': 2413, 'loving': 2414, \"he's\": 2415, 'venture': 2416, 'further': 2417, 'host': 2418, 'lack': 2419, 'bitches': 2420, 'liking': 2421, 'reasons': 2422, 'reviewing': 2423, 'phenomenal': 2424, 'venturing': 2425, 'penne': 2426, 'vodka': 2427, 'including': 2428, 'massive': 2429, 'meatloaf': 2430, 'lox': 2431, 'capers': 2432, 'meet': 2433, 'weekend': 2434, 'suggestions': 2435, 'bamboo': 2436, 'shoots': 2437, 'blanket': 2438, 'moz': 2439, 'subpar': 2440, 'attention': 2441, 'ignore': 2442, 'fiancé': 2443, 'middle': 2444, 'mandalay': 2445, 'forty': 2446, 'vain': 2447, 'crostini': 2448, 'highlights': 2449, 'nigiri': 2450, 'flavored': 2451, 'voodoo': 2452, 'gluten': 2453, 'leftover': 2454, 'relocated': 2455, 'diverse': 2456, 'hella': 2457, 'salty': 2458, 'spinach': 2459, 'avocado': 2460, 'ingredients': 2461, 'handed': 2462, 'listed': 2463, 'waitresses': 2464, 'lordy': 2465, 'khao': 2466, 'soi': 2467, 'terrific': 2468, 'thrilled': 2469, 'accommodations': 2470, 'daughter': 2471, 'caught': 2472, 'judging': 2473, 'inspired': 2474, 'leaves': 2475, 'desired': 2476, 'modern': 2477, 'maintaining': 2478, 'coziness': 2479, 'weekly': 2480, 'haunt': 2481, 'asking': 2482, 'verge': 2483, 'dressed': 2484, 'rudely': 2485, 'hits': 2486, 'quantity': 2487, 'lemon': 2488, 'raspberry': 2489, 'cocktail': 2490, 'imagined': 2491, 'crepe': 2492, 'bits': 2493, 'missing': 2494, \"joey's\": 2495, 'voted': 2496, 'readers': 2497, 'magazine': 2498, 'fridays': 2499, 'blows': 2500, 'exceeding': 2501, 'dreamed': 2502, 'serivce': 2503, 'inviting': 2504, 'lived': 2505, '1979': 2506, 'foot': 2507, 'mixed': 2508, 'mushrooms': 2509, 'yukon': 2510, 'corn': 2511, 'beateous': 2512, 'showed': 2513, 'climbing': 2514, 'tartar': 2515, 'jamaican': 2516, 'mojitos': 2517, 'rich': 2518, 'accordingly': 2519, 'rinse': 2520, 'nude': 2521, 'bussell': 2522, 'sprouts': 2523, 'risotto': 2524, 'hopefully': 2525, 'bodes': 2526, 'wrapped': 2527, 'dates': 2528, 'unbelievable': 2529, 'otto': 2530, 'welcome': 2531, 'mains': 2532, 'uninspired': 2533, 'whenever': 2534, \"world's\": 2535, 'annoying': 2536, 'drunk': 2537, 'patty': 2538, 'uploaded': 2539, 'yeah': 2540, 'sporting': 2541, 'events': 2542, 'walls': 2543, \"tv's\": 2544, \"they'd\": 2545, 'descriptions': 2546, 'eel': 2547, 'sauces': 2548, 'hardest': 2549, \"m's\": 2550, 'supposed': 2551, 'rolled': 2552, 'eyes': 2553, 'providing': 2554, 'flavourful': 2555, 'freezing': 2556, 'reviewer': 2557, 'delights': 2558, 'ayce': 2559, 'lighting': 2560, 'mood': 2561, 'based': 2562, 'gratitude': 2563, \"owner's\": 2564, 'privileged': 2565, 'parents': 2566, 'silently': 2567, 'peanut': 2568, \"would've\": 2569, 'godfathers': 2570, 'tough': 2571, 'recall': 2572, 'exquisite': 2573, 'thus': 2574, 'visited': 2575, 'proclaimed': 2576, 'wildly': 2577, 'veggitarian': 2578, 'platter': 2579, 'madison': 2580, 'ironman': 2581, 'chefs': 2582, 'dedicated': 2583, 'spots': 2584, 'jenni': 2585, 'goat': 2586, 'skimp': 2587, 'mac': 2588, 'stinks': 2589, 'burned': 2590, 'saganaki': 2591, 'disagree': 2592, 'fellow': 2593, 'yelpers': 2594, 'prepared': 2595, 'writing': 2596, 'noodles': 2597, 'chip': 2598, 'count': 2599, 'box': 2600, 'boring': 2601, 'greedy': 2602, 'corporation': 2603, 'dime': 2604, 'atrocious': 2605, 'charming': 2606, 'outdoor': 2607, 'english': 2608, 'muffin': 2609, 'untoasted': 2610, 'bus': 2611, 'figured': 2612, 'publicly': 2613, 'loudly': 2614, 'bbq': 2615, 'lighter': 2616, 'public': 2617, 'ways': 2618, 'downside': 2619, 'shawarrrrrrma': 2620, 'eyed': 2621, 'peas': 2622, 'unreal': 2623, 'vinaigrette': 2624, '00': 2625, 'honor': 2626, 'hut': 2627, 'coupons': 2628, 'unbelievably': 2629, 'covers': 2630, 'replenished': 2631, 'plain': 2632, 'yucky': 2633, '17': 2634, 'delicioso': 2635, 'spaghetti': 2636, 'tucson': 2637, 'chipotle': 2638, 'succulent': 2639, 'baseball': 2640, 'app': 2641, 'genuinely': 2642, 'enthusiastic': 2643, 'sadly': 2644, 'gordon': 2645, \"ramsey's\": 2646, 'shall': 2647, 'sharply': 2648, 'offered': 2649, 'handling': 2650, 'rowdy': 2651, 'despicable': 2652, 'craving': 2653, 'ache': 2654, 'ball': 2655, 'space': 2656, 'elegantly': 2657, 'customize': 2658, 'usual': 2659, 'bean': 2660, 'outta': 2661, 'inconsiderate': 2662, 'hi': 2663, 'dinners': 2664, 'outshining': 2665, 'halibut': 2666, 'starving': 2667, '90': 2668, 'disgrace': 2669, 'def': 2670, 'ethic': 2671, 'andddd': 2672, 'past': 2673, 'located': 2674, 'crystals': 2675, 'shopping': 2676, 'aria': 2677, 'summarize': 2678, 'nay': 2679, 'transcendant': 2680, 'brings': 2681, 'pneumatic': 2682, 'condiment': 2683, 'dispenser': 2684, 'ians': 2685, 'kiddos': 2686, 'bouchon': 2687, 'accountant': 2688, 'screwed': 2689, 'reminds': 2690, 'shops': 2691, 'san': 2692, 'francisco': 2693, 'buldogis': 2694, 'gourmet': 2695, 'frustrated': 2696, 'petty': 2697, 'iced': 2698, 'hungry': 2699, 'teeth': 2700, 'sore': 2701, 'companions': 2702, 'ground': 2703, 'smeared': 2704, 'tracked': 2705, 'pile': 2706, 'bird': 2707, 'poop': 2708, 'furthermore': 2709, 'operation': 2710, 'expert': 2711, 'connisseur': 2712, 'topic': 2713, 'jerk': 2714, 'strike': 2715, 'wants': 2716, 'rushed': 2717, 'across': 2718, 'appetizer': 2719, 'absolutley': 2720, '5lb': 2721, '4ths': 2722, 'gristle': 2723, 'fat': 2724, 'steiners': 2725, 'dollars': 2726, 'fs': 2727, 'pears': 2728, 'almonds': 2729, 'spicier': 2730, 'prefer': 2731, 'ribeye': 2732, 'mesquite': 2733, 'gooodd': 2734, 'connoisseur': 2735, 'difference': 2736, 'contained': 2737, 'mouthful': 2738, 'enjoyable': 2739, 'relaxed': 2740, 'venue': 2741, 'couples': 2742, 'groups': 2743, 'nargile': 2744, 'tater': 2745, 'southwest': 2746, 'vanilla': 2747, 'smooth': 2748, 'profiterole': 2749, 'choux': 2750, 'pastry': 2751, 'az': 2752, \"carly's\": 2753, 'forgetting': 2754, 'ventilation': 2755, 'upgrading': 2756, 'letdown': 2757, 'camelback': 2758, 'shop': 2759, 'cartel': 2760, 'trimmed': 2761, '70': 2762, 'claimed': 2763, 'handled': 2764, 'beautifully': 2765, 'jewel': 2766, 'las': 2767, 'limited': 2768, 'boiled': 2769, 'toro': 2770, 'tartare': 2771, 'cavier': 2772, 'extraordinary': 2773, 'thinly': 2774, 'wagyu': 2775, 'truffle': 2776, 'attached': 2777, 'gas': 2778, 'sign': 2779, 'decide': 2780, 'humiliated': 2781, 'worker': 2782, 'name': 2783, 'callings': 2784, 'conclusion': 2785, 'daily': 2786, 'specials': 2787, 'tragedy': 2788, 'struck': 2789, 'pancake': 2790, 'crawfish': 2791, 'monster': 2792, \"mom's\": 2793, 'multi': 2794, 'grain': 2795, 'pumpkin': 2796, 'pecan': 2797, 'fluffy': 2798, 'airline': 2799, 'noca': 2800, 'gyro': 2801, 'lettuce': 2802, 'thoroughly': 2803, 'pastas': 2804, 'cheesecurds': 2805, 'typical': 2806, 'glance': 2807, 'finger': 2808, 'beauty': 2809, 'greasy': 2810, 'unhealthy': 2811, 'similarly': 2812, 'man': 2813, 'apology': 2814, 'tiramisu': 2815, 'cannoli': 2816, 'sun': 2817, 'meats': 2818, 'frenchman': 2819, 'martini': 2820, 'opinion': 2821, 'gc': 2822, 'sample': 2823, 'thirty': 2824, 'vacant': 2825, 'yellowtail': 2826, 'carpaccio': 2827, 'strangers': 2828, 'hello': 2829, 'donut': 2830, 'saving': 2831, 'disgraceful': 2832, 'suffers': 2833, 'greens': 2834, 'hearts': 2835, 'hankering': 2836, 'forth': 2837, 'consider': 2838, 'theft': 2839, 'eew': 2840, 'complete': 2841, 'overhaul': 2842, 'witnessed': 2843, 'guests': 2844, 'regularly': 2845, 'swung': 2846, 'deeply': 2847, 'efficient': 2848, 'sucker': 2849, 'olives': 2850, 'perpared': 2851, 'giant': 2852, 'slices': 2853, 'dusted': 2854, 'powdered': 2855, 'sugar': 2856, 'fo': 2857, 'accomodate': 2858, 'vegan': 2859, 'veggie': 2860, 'crumby': 2861, 'pale': 2862, 'croutons': 2863, \"it'll\": 2864, 'trips': 2865, 'crema': 2866, 'café': 2867, 'expanded': 2868, 'miss': 2869, 'philadelphia': 2870, 'north': 2871, 'scottsdale': 2872, 'soooooo': 2873, 'freaking': 2874, 'papers': 2875, 'reheated': 2876, 'wedges': 2877, 'absolute': 2878, 'tongue': 2879, 'cheek': 2880, 'bloody': 2881, 'mary': 2882, 'businesses': 2883, 'yellow': 2884, 'saffron': 2885, 'seasoning': 2886, 'grandmother': 2887, 'ignored': 2888, 'hostess': 2889, 'myself': 2890, 'boys': 2891, 'shirt': 2892, 'drastically': 2893, 'caesar': 2894, 'madhouse': 2895, 'proven': 2896, 'greatest': 2897, 'moods': 2898, 'macarons': 2899, 'insanely': 2900, 'informative': 2901, \"weren't\": 2902, 'deliver': 2903, 'plater': 2904, 'relax': 2905, 'sit': 2906, 'screams': 2907, \"somethat's\": 2908, 'duo': 2909, 'violinists': 2910, 'requested': 2911, 'personally': 2912, 'baklava': 2913, 'falafels': 2914, 'baba': 2915, 'ganoush': 2916, 'mgm': 2917, 'courteous': 2918, 'eclectic': 2919, 'onion': 2920, 'rings': 2921, 'nobu': 2922, 'google': 2923, 'smashburger': 2924, 'lover': 2925, 'gem': 2926, 'plantains': 2927, 'spends': 2928, 'themselves': 2929, 'panna': 2930, 'cotta': 2931, 'flavors': 2932, 'slaw': 2933, 'drenched': 2934, 'piano': 2935, 'soundtrack': 2936, 'rge': 2937, 'fillet': 2938, 'relleno': 2939, 'sergeant': 2940, 'auju': 2941, 'hawaiian': 2942, 'breeze': 2943, 'mango': 2944, 'magic': 2945, 'pineapple': 2946, 'smoothies': 2947, 'mortified': 2948, 'anyways': 2949, 'dripping': 2950, '2007': 2951, 'hospitality': 2952, 'industry': 2953, 'paradise': 2954, 'refrained': 2955, 'recommending': 2956, 'cibo': 2957, 'mean': 2958, 'famous': 2959, 'mouths': 2960, 'bellies': 2961, 'reminded': 2962, 'dough': 2963, 'tonight': 2964, 'elk': 2965, 'hooked': 2966, 'classics': 2967, 'sorely': 2968, 'quaint': 2969, 'deliciously': 2970, 'dylan': 2971, 'tummy': 2972, 'gratuity': 2973, 'larger': 2974, 'apple': 2975, 'han': 2976, 'nan': 2977, \"ryan's\": 2978, 'edinburgh': 2979, 'revisiting': 2980, 'naan': 2981, 'pine': 2982, 'nut': 2983, 'touched': 2984, 'airport': 2985, 'speedy': 2986, 'calligraphy': 2987, 'stood': 2988, 'begin': 2989, 'awkwardly': 2990, 'opened': 2991, 'guest': 2992, 'extensive': 2993, 'wide': 2994, 'array': 2995, 'inflate': 2996, 'smaller': 2997, 'grow': 2998, 'rapidly': 2999, 'lil': 3000, 'fuzzy': 3001, 'wontons': 3002, 'thick': 3003, 'level': 3004, 'spice': 3005, 'whelm': 3006, 'main': 3007, 'older': 3008, '30s': 3009, 'arepas': 3010, 'jalapeno': 3011, 'shoe': 3012, 'block': 3013, 'fancy': 3014, 'affordable': 3015, 'sour': 3016, 'soups': 3017, 'sunday': 3018, 'traditional': 3019, 'hunan': 3020, 'flair': 3021, 'bartenders': 3022, 'nutshell': 3023, 'restaraunt': 3024, 'smells': 3025, 'sewer': 3026, \"girlfriend's\": 3027, 'veal': 3028, 'satifying': 3029, 'join': 3030, 'club': 3031, 'email': 3032, 'colder': 3033, 'describing': 3034, 'tepid': 3035, 'chains': 3036, 'words': 3037, 'crowds': 3038, 'juries': 3039, 'lawyers': 3040, 'court': 3041, 'arrives': 3042, 'paying': 3043, '85': 3044, \"kid's\": 3045, 'wienerschnitzel': 3046, 'classic': 3047, 'maine': 3048, 'roll': 3049, 'brother': 3050, 'law': 3051, 'hereas': 3052, 'event': 3053, 'held': 3054, 'pissd': 3055, 'surprise': 3056, 'golden': 3057, 'hopes': 3058, 'bruschetta': 3059, 'devine': 3060, 'employee': 3061, 'lastly': 3062, 'mozzarella': 3063, 'negligent': 3064, 'unwelcome': 3065, 'suggest': 3066, 'consistent': 3067, 'packed': 3068, 'seasonal': 3069, 'fruit': 3070, 'peach': 3071, 'officially': 3072, 'blown': 3073, 'containers': 3074, 'opposed': 3075, 'cramming': 3076, 'takeout': 3077, 'boxes': 3078, 'crêpe': 3079, 'delicate': 3080, 'fair': 3081, 'kabuki': 3082, 'maria': 3083, 'article': 3084, 'spices': 3085, 'fucking': 3086, \"caballero's\": 3087, 'head': 3088, 'oysters': 3089, 'round': 3090, 'disbelief': 3091, 'qualified': 3092, 'version': 3093, 'foods': 3094, 'tolerance': 3095, 'polite': 3096, 'wash': 3097, 'biscuit': 3098, 'coconut': 3099, 'fella': 3100, 'huevos': 3101, 'rancheros': 3102, 'wines': 3103, 'pricey': 3104, 'temp': 3105, 'prepare': 3106, 'bare': 3107, 'gloves': 3108, 'deep': 3109, 'oil': 3110, 'pleasure': 3111, 'plethora': 3112, 'sandwiches': 3113, 'seal': 3114, 'approval': 3115, 'college': 3116, 'cooking': 3117, 'class': 3118, 'editing': 3119, 'besides': 3120, \"costco's\": 3121, 'highlighted': 3122, 'unique': 3123, 'grocery': 3124, 'japanese': 3125, 'dude': 3126, 'doughy': 3127, 'inch': 3128, 'wire': 3129, 'ourselves': 3130, 'albondigas': 3131, 'tomato': 3132, 'meatballs': 3133, 'occasions': 3134, 'medium': 3135, 'bloodiest': 3136, 'anymore': 3137, 'chai': 3138, 'latte': 3139, 'allergy': 3140, 'warnings': 3141, 'clue': 3142, 'contain': 3143, 'peanuts': 3144, 'mediterranean': 3145, 'beers': 3146, 'highlight': 3147, 'concern': 3148, 'mellow': 3149, 'mushroom': 3150, 'strawberry': 3151, 'unprofessional': 3152, 'loyal': 3153, 'patron': 3154, 'occasional': 3155, 'pats': 3156, 'bellagio': 3157, 'anticipated': 3158, 'correct': 3159, 'sals': 3160, 'fav': 3161, 'unexperienced': 3162, 'employees': 3163, 'chickens': 3164, 'heads': 3165, 'steakhouse': 3166, 'concept': 3167, 'guacamole': 3168, 'puréed': 3169, 'postinos': 3170, 'poisoning': 3171, 'batch': 3172, 'thinking': 3173, 'yay': 3174, 'hilarious': 3175, 'eve': 3176, 'remember': 3177, 'caring': 3178, 'teamwork': 3179, 'degree': 3180, 'ri': 3181, 'calamari': 3182, 'fondue': 3183, 'scene': 3184, \"denny's\": 3185, 'downright': 3186, 'waaaaaayyyyyyyyyy': 3187, 'sangria': 3188, 'glass': 3189, 'ridiculous': 3190, 'brisket': 3191, 'trippy': 3192, 'hurry': 3193, 'reservation': 3194, 'stretch': 3195, 'imagination': 3196, 'cashew': 3197, 'chipolte': 3198, 'ranch': 3199, 'dipping': 3200, 'sause': 3201, 'watered': 3202, 'workers': 3203, 'douchey': 3204, 'indoor': 3205, 'garden': 3206, 'con': 3207, 'spotty': 3208, 'ensued': 3209, 'apologize': 3210, 'fill': 3211, 'binge': 3212, 'drinking': 3213, 'carbs': 3214, 'insults': 3215, 'profound': 3216, 'deuchebaggery': 3217, 'solidify': 3218, \"don't'\": 3219, 'combo': 3220, 'ala': 3221, 'cart': 3222, 'blame': 3223, 'rave': 3224, 'del': 3225, 'avoided': 3226, 'hamburger': 3227, 'hell': 3228, \"ya'all\": 3229, 'fireball': 3230, 'disapppointment': 3231, 'correction': 3232, 'heimer': 3233, 'putting': 3234, 'cause': 3235, 'vomited': 3236, 'circumstances': 3237, 'tops': 3238, 'brownish': 3239, 'movies': 3240, 'ha': 3241, 'flop': 3242, '99': 3243, 'bigger': 3244, 'unwrapped': 3245, 'mile': 3246, 'brushfire': 3247, \"hasn't\": 3248, 'closed': 3249, 'mirage': 3250, 'refried': 3251, 'dried': 3252, 'crusty': 3253, 'caterpillar': 3254, 'appetite': 3255, 'instantly': 3256, 'ninja': 3257, \"hadn't\": 3258, 'poured': 3259, 'wound': 3260, 'drawing': 3261}\n"
          ],
          "name": "stdout"
        }
      ]
    },
    {
      "cell_type": "markdown",
      "metadata": {
        "id": "forbg2GCKirr"
      },
      "source": [
        "## İncelemeler (Yorumlar) İçin Dizileri Oluşturalım\n",
        "\n",
        "Her inceleme için bir dizi oluşturalım. En uzun incelemeyle eşleşmesi için maksimum uzunluğu ayarlayalım. En uzunu kadar uzun olmayan incelemeler için incelemenin sonuna dolgu sıfırları eklemeyi unutmayalım."
      ]
    },
    {
      "cell_type": "code",
      "metadata": {
        "colab": {
          "base_uri": "https://localhost:8080/"
        },
        "id": "z4YbnrHiKfBA",
        "outputId": "213986ee-f012-4c31-88a0-67b5a3c96b9c"
      },
      "source": [
        "sequences = tokenizer.texts_to_sequences(reviews)\n",
        "padded_sequences = pad_sequences(sequences, padding='post')\n",
        "\n",
        "# Dolgulu dizileri içeren vektörün şekli nedir?\n",
        "# Şekil (shape), dizilerin sayısını ve her birinin uzunluğunu gösterir.\n",
        "print(padded_sequences.shape)\n",
        "\n",
        "# İlk inceleme (yorum) nedir?\n",
        "print (reviews[0])\n",
        "\n",
        "# İlk inceleme için listeyi göster\n",
        "print(padded_sequences[0])\n",
        "\n",
        "# Diğer öğeler için inceleme ve dolgulu diziyi yazdırmayı deneyebilirsiniz."
      ],
      "execution_count": 6,
      "outputs": [
        {
          "output_type": "stream",
          "text": [
            "(1992, 139)\n",
            "So there is no way for me to plug it in here in the US unless I go by a converter.\n",
            "[  28   59    8   56  142   13   61    7  269    6   15   46   15    2\n",
            "  149  449    4   60  113    5 1429    0    0    0    0    0    0    0\n",
            "    0    0    0    0    0    0    0    0    0    0    0    0    0    0\n",
            "    0    0    0    0    0    0    0    0    0    0    0    0    0    0\n",
            "    0    0    0    0    0    0    0    0    0    0    0    0    0    0\n",
            "    0    0    0    0    0    0    0    0    0    0    0    0    0    0\n",
            "    0    0    0    0    0    0    0    0    0    0    0    0    0    0\n",
            "    0    0    0    0    0    0    0    0    0    0    0    0    0    0\n",
            "    0    0    0    0    0    0    0    0    0    0    0    0    0    0\n",
            "    0    0    0    0    0    0    0    0    0    0    0    0    0]\n"
          ],
          "name": "stdout"
        }
      ]
    },
    {
      "cell_type": "code",
      "metadata": {
        "id": "gEEv_21kLGF3"
      },
      "source": [
        ""
      ],
      "execution_count": null,
      "outputs": []
    }
  ]
}