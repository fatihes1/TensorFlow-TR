{
  "nbformat": 4,
  "nbformat_minor": 0,
  "metadata": {
    "colab": {
      "name": "B10_01_NLP_Alt_Kelimeler_İle_LSTM_Modeli.ipynb",
      "provenance": []
    },
    "kernelspec": {
      "name": "python3",
      "display_name": "Python 3"
    },
    "language_info": {
      "name": "python"
    },
    "accelerator": "GPU"
  },
  "cells": [
    {
      "cell_type": "markdown",
      "metadata": {
        "id": "j1MxaelxrEpG"
      },
      "source": [
        "# LSTM Modelinin Alt Kelime Veri Seti İle Kullanılması"
      ]
    },
    {
      "cell_type": "markdown",
      "metadata": {
        "id": "Z8O1W_P1rPLt"
      },
      "source": [
        "Bu colab dosyasında, bir gömme (`Embedding`) katmanına sahip bir model kullanmanın ve ardından çift yönlü (`Bidirectional`) LSTM katmanları eklemenin sonuçlarını karşılaştıracağız.\n",
        "\n",
        "Amazon ve Yelp incelemelerini (yorumlarını) içeren bir  alt sözcükler veri kümesi ile çalışacağız.\n",
        "\n",
        "Ve yeni yorumların duygusunu (iyi veya kötü) tahmin etmek için bu modelleri kullanacağız."
      ]
    },
    {
      "cell_type": "code",
      "metadata": {
        "id": "7pQKARezq6SV"
      },
      "source": [
        "import tensorflow as tf\n",
        "\n",
        "from tensorflow.keras.preprocessing.sequence import pad_sequences"
      ],
      "execution_count": 2,
      "outputs": []
    },
    {
      "cell_type": "markdown",
      "metadata": {
        "id": "OGBHwKx9r573"
      },
      "source": [
        "Amazon ve Yelp incelemelerini (yorumlarını) içeren veri setini ilgili duyarlılıklarıyla birlikte alarak başlayalım (olumlu için 1, olumsuz için 0). Bu veri seti orijinal olarak [buradan](https://www.kaggle.com/marklvl/sentiment-labelled-sentences-data-set) alınmıştır."
      ]
    },
    {
      "cell_type": "code",
      "metadata": {
        "colab": {
          "base_uri": "https://localhost:8080/"
        },
        "id": "s3jc3TDLr2J3",
        "outputId": "acf26e71-c99c-4429-ac10-ef1957cf1317"
      },
      "source": [
        "!wget --no-check-certificate \\\n",
        "    https://drive.google.com/uc?id=13ySLC_ue6Umt9RJYSeM2t-V0kCv-4C-P -O /tmp/sentiment.csv"
      ],
      "execution_count": 3,
      "outputs": [
        {
          "output_type": "stream",
          "text": [
            "--2021-07-28 17:27:42--  https://drive.google.com/uc?id=13ySLC_ue6Umt9RJYSeM2t-V0kCv-4C-P\n",
            "Resolving drive.google.com (drive.google.com)... 74.125.137.101, 74.125.137.100, 74.125.137.139, ...\n",
            "Connecting to drive.google.com (drive.google.com)|74.125.137.101|:443... connected.\n",
            "HTTP request sent, awaiting response... 302 Moved Temporarily\n",
            "Location: https://doc-08-ak-docs.googleusercontent.com/docs/securesc/ha0ro937gcuc7l7deffksulhg5h7mbp1/bdju12bi7tplr6sbqajeemktvpa4675q/1627493250000/11118900490791463723/*/13ySLC_ue6Umt9RJYSeM2t-V0kCv-4C-P [following]\n",
            "Warning: wildcards not supported in HTTP.\n",
            "--2021-07-28 17:27:43--  https://doc-08-ak-docs.googleusercontent.com/docs/securesc/ha0ro937gcuc7l7deffksulhg5h7mbp1/bdju12bi7tplr6sbqajeemktvpa4675q/1627493250000/11118900490791463723/*/13ySLC_ue6Umt9RJYSeM2t-V0kCv-4C-P\n",
            "Resolving doc-08-ak-docs.googleusercontent.com (doc-08-ak-docs.googleusercontent.com)... 142.250.141.132, 2607:f8b0:4023:c0b::84\n",
            "Connecting to doc-08-ak-docs.googleusercontent.com (doc-08-ak-docs.googleusercontent.com)|142.250.141.132|:443... connected.\n",
            "HTTP request sent, awaiting response... 200 OK\n",
            "Length: 127831 (125K) [text/csv]\n",
            "Saving to: ‘/tmp/sentiment.csv’\n",
            "\n",
            "/tmp/sentiment.csv  100%[===================>] 124.83K  --.-KB/s    in 0.09s   \n",
            "\n",
            "2021-07-28 17:27:43 (1.33 MB/s) - ‘/tmp/sentiment.csv’ saved [127831/127831]\n",
            "\n"
          ],
          "name": "stdout"
        }
      ]
    },
    {
      "cell_type": "code",
      "metadata": {
        "id": "-3uEVdmqsAft"
      },
      "source": [
        "import pandas as pd\n",
        "\n",
        "dataset = pd.read_csv('/tmp/sentiment.csv')\n",
        "\n",
        "# Cümleleri ve etiketleri ayıklayın\n",
        "sentences = dataset['text'].tolist()\n",
        "labels = dataset['sentiment'].tolist()"
      ],
      "execution_count": 4,
      "outputs": []
    },
    {
      "cell_type": "code",
      "metadata": {
        "colab": {
          "base_uri": "https://localhost:8080/"
        },
        "id": "_qYCznYksFEl",
        "outputId": "ee92fc9d-7461-4465-c933-992bf27cfa50"
      },
      "source": [
        "# Bazı örnek cümleler ve etiketler yazdırın\n",
        "for x in range(2):\n",
        "  print(sentences[x])\n",
        "  print(labels[x])\n",
        "  print(\"\\n\")"
      ],
      "execution_count": 5,
      "outputs": [
        {
          "output_type": "stream",
          "text": [
            "So there is no way for me to plug it in here in the US unless I go by a converter.\n",
            "0\n",
            "\n",
            "\n",
            "Good case Excellent value.\n",
            "1\n",
            "\n",
            "\n"
          ],
          "name": "stdout"
        }
      ]
    },
    {
      "cell_type": "markdown",
      "metadata": {
        "id": "xo2YsAGAsLBY"
      },
      "source": [
        "## Alt Kelime Veri Kümesinin Oluşturulması"
      ]
    },
    {
      "cell_type": "markdown",
      "metadata": {
        "id": "ihPf-j73sTLR"
      },
      "source": [
        "Amazon ve Yelp incelemeleri veri setini `tensorflow_datasets` tarafından sunulan `SubwordTextEncoder` işleviyle kullanacağız.\n",
        "\n",
        "`SubwordTextEncoder.build_from_corpus()` bizim için bir belirteç (tokenize edici)oluşturacaktır. Bu işlevi aynı zamanda çok daha büyük bir metin bütününden alt sözcükler almak için de kullanabilirsiniz, ancak biz burada sadece mevcut veri setimizi kullanacağız.\n",
        "\n",
        "Yalnızca en yaygın 1.000 alt kelimeden oluşan bir alt kelime veri seti oluşturacağız ve ayrıca her bir alt kelimeyi en fazla 5 karakter olacak şekilde keseceğiz.\n",
        "\n",
        "Alt kelime metin kodlayıcı için ilgili belgelere [buradan](https://www.tensorflow.org/datasets/api_docs/python/tfds/features/text/SubwordTextEncoder#build_from_corpus) göz atın.\n"
      ]
    },
    {
      "cell_type": "code",
      "metadata": {
        "colab": {
          "base_uri": "https://localhost:8080/"
        },
        "id": "09l4uOSasHLF",
        "outputId": "ea907450-d42d-4174-d87d-f2ca30ecaceb"
      },
      "source": [
        "import tensorflow_datasets as tfds\n",
        "\n",
        "vocab_size = 1000\n",
        "tokenizer = tfds.deprecated.text.SubwordTextEncoder.build_from_corpus(sentences, vocab_size, max_subword_length=5)\n",
        "\n",
        "# Kelime boyutu ne kadar büyük?\n",
        "print(\"Kelime boyutu :  \", tokenizer.vocab_size)"
      ],
      "execution_count": 6,
      "outputs": [
        {
          "output_type": "stream",
          "text": [
            "Kelime boyutu :   999\n"
          ],
          "name": "stdout"
        }
      ]
    },
    {
      "cell_type": "code",
      "metadata": {
        "colab": {
          "base_uri": "https://localhost:8080/"
        },
        "id": "iXzBE2Ggsw4N",
        "outputId": "c87ef282-fcd2-4021-bf8c-abc9329cbe42"
      },
      "source": [
        "# Belirteç oluşturucunun (tokenize edici) uygun şekilde çalışıp çalışmadığını kontrol edin\n",
        "num = 5\n",
        "print(sentences[num])\n",
        "encoded = tokenizer.encode(sentences[num])\n",
        "print(encoded)"
      ],
      "execution_count": 7,
      "outputs": [
        {
          "output_type": "stream",
          "text": [
            "I have to jiggle the plug to get it to line up right to get decent volume.\n",
            "[4, 31, 6, 849, 162, 450, 12, 1, 600, 438, 775, 6, 175, 14, 6, 55, 213, 159, 474, 775, 6, 175, 614, 380, 295, 148, 72, 789]\n"
          ],
          "name": "stdout"
        }
      ]
    },
    {
      "cell_type": "code",
      "metadata": {
        "colab": {
          "base_uri": "https://localhost:8080/"
        },
        "id": "0B20bys6s3-N",
        "outputId": "575c10d4-8c0e-4c08-ff0e-81fc80b7b50d"
      },
      "source": [
        "# Her bir alt sözcüğü ayrı ayrı yazdırın ve decode işlemi uygulayın\n",
        "for i in encoded:\n",
        "  print(tokenizer.decode([i]))"
      ],
      "execution_count": 8,
      "outputs": [
        {
          "output_type": "stream",
          "text": [
            "I \n",
            "have \n",
            "to \n",
            "j\n",
            "ig\n",
            "gl\n",
            "e \n",
            "the \n",
            "pl\n",
            "ug\n",
            " \n",
            "to \n",
            "get \n",
            "it \n",
            "to \n",
            "li\n",
            "ne \n",
            "up \n",
            "right\n",
            " \n",
            "to \n",
            "get \n",
            "dec\n",
            "ent \n",
            "vo\n",
            "lu\n",
            "me\n",
            ".\n"
          ],
          "name": "stdout"
        }
      ]
    },
    {
      "cell_type": "markdown",
      "metadata": {
        "id": "nlLRarJttCen"
      },
      "source": [
        "## Cümle Verilerini Kodlanmış Alt Sözcüklerle Değiştirelim\n",
        "\n",
        "Şimdi, bireysel cümlelerin her birini fiilen kodlayarak eğitim için kullanılacak dizileri oluşturacağız. Bu, önceki colab dosyalarındaki kullandığımız `Tokenizer` ile `text_to_sequences` ile eşdeğerdir."
      ]
    },
    {
      "cell_type": "code",
      "metadata": {
        "id": "njXFoYQks99N"
      },
      "source": [
        "for i, sentence in enumerate(sentences):\n",
        "  sentences[i] = tokenizer.encode(sentence)"
      ],
      "execution_count": 9,
      "outputs": []
    },
    {
      "cell_type": "code",
      "metadata": {
        "colab": {
          "base_uri": "https://localhost:8080/"
        },
        "id": "1hACN1GJtRtm",
        "outputId": "81e27414-112e-47e2-d623-566673d7f847"
      },
      "source": [
        "# Cümlelerin uygun şekilde değiştirildiğini kontrol edin\n",
        "print(sentences[5])"
      ],
      "execution_count": 10,
      "outputs": [
        {
          "output_type": "stream",
          "text": [
            "[4, 31, 6, 849, 162, 450, 12, 1, 600, 438, 775, 6, 175, 14, 6, 55, 213, 159, 474, 775, 6, 175, 614, 380, 295, 148, 72, 789]\n"
          ],
          "name": "stdout"
        }
      ]
    },
    {
      "cell_type": "markdown",
      "metadata": {
        "id": "Le3SAaT7tixf"
      },
      "source": [
        "## Son Ön İşlemenin Yapılması\n",
        "\n",
        "Eğitimden önce, dizileri doldurmanın yanı sıra eğitim ve test setlerine de ayırmamız gerekiyor.\n"
      ]
    },
    {
      "cell_type": "code",
      "metadata": {
        "id": "nqFDS8VDtU3U"
      },
      "source": [
        "import numpy as np\n",
        "\n",
        "max_length = 50\n",
        "trunc_type='post'\n",
        "padding_type='post'\n",
        "\n",
        "# Tüm dizileri doldurun\n",
        "sequences_padded = pad_sequences(sentences, maxlen=max_length, \n",
        "                                 padding=padding_type, truncating=trunc_type)\n",
        "\n",
        "# Cümleleri ve etiketleri eğitim ve test setlerine ayırın\n",
        "training_size = int(len(sentences) * 0.8)\n",
        "\n",
        "training_sequences = sequences_padded[0:training_size]\n",
        "testing_sequences = sequences_padded[training_size:]\n",
        "training_labels = labels[0:training_size]\n",
        "testing_labels = labels[training_size:]\n",
        "\n",
        "# Etiketleri daha sonra ağda kullanmak üzere numpy dizilerine dönüştürün\n",
        "training_labels_final = np.array(training_labels)\n",
        "testing_labels_final = np.array(testing_labels)"
      ],
      "execution_count": 11,
      "outputs": []
    },
    {
      "cell_type": "markdown",
      "metadata": {
        "id": "EPKIqKSjt1Mc"
      },
      "source": [
        "## Bir Gömme (Embedding) Uygulanarak Modelin Oluşturulması"
      ]
    },
    {
      "cell_type": "code",
      "metadata": {
        "colab": {
          "base_uri": "https://localhost:8080/"
        },
        "id": "e89XOZPNtyrw",
        "outputId": "46645fbf-a19e-47f5-a9cc-d591bf2b9044"
      },
      "source": [
        "embedding_dim = 16\n",
        "\n",
        "model = tf.keras.Sequential([\n",
        "    tf.keras.layers.Embedding(vocab_size, embedding_dim, input_length=max_length),\n",
        "    tf.keras.layers.GlobalAveragePooling1D(), \n",
        "    tf.keras.layers.Dense(6, activation='relu'),\n",
        "    tf.keras.layers.Dense(1, activation='sigmoid')\n",
        "])\n",
        "\n",
        "model.summary()"
      ],
      "execution_count": 12,
      "outputs": [
        {
          "output_type": "stream",
          "text": [
            "Model: \"sequential\"\n",
            "_________________________________________________________________\n",
            "Layer (type)                 Output Shape              Param #   \n",
            "=================================================================\n",
            "embedding (Embedding)        (None, 50, 16)            16000     \n",
            "_________________________________________________________________\n",
            "global_average_pooling1d (Gl (None, 16)                0         \n",
            "_________________________________________________________________\n",
            "dense (Dense)                (None, 6)                 102       \n",
            "_________________________________________________________________\n",
            "dense_1 (Dense)              (None, 1)                 7         \n",
            "=================================================================\n",
            "Total params: 16,109\n",
            "Trainable params: 16,109\n",
            "Non-trainable params: 0\n",
            "_________________________________________________________________\n"
          ],
          "name": "stdout"
        }
      ]
    },
    {
      "cell_type": "markdown",
      "metadata": {
        "id": "igbpDgP8t_Jj"
      },
      "source": [
        "## Modelin Eğitilmesi "
      ]
    },
    {
      "cell_type": "code",
      "metadata": {
        "colab": {
          "base_uri": "https://localhost:8080/"
        },
        "id": "ACmG74Qqt87F",
        "outputId": "0e47fdba-d445-48b8-bda3-bdfa150610ee"
      },
      "source": [
        "num_epochs = 30\n",
        "model.compile(loss='binary_crossentropy',optimizer='adam',metrics=['accuracy'])\n",
        "history = model.fit(training_sequences, training_labels_final, epochs=num_epochs, validation_data=(testing_sequences, testing_labels_final))\n"
      ],
      "execution_count": 13,
      "outputs": [
        {
          "output_type": "stream",
          "text": [
            "Epoch 1/30\n",
            "50/50 [==============================] - 4s 6ms/step - loss: 0.6915 - accuracy: 0.5348 - val_loss: 0.6968 - val_accuracy: 0.4211\n",
            "Epoch 2/30\n",
            "50/50 [==============================] - 0s 3ms/step - loss: 0.6863 - accuracy: 0.5392 - val_loss: 0.6938 - val_accuracy: 0.4837\n",
            "Epoch 3/30\n",
            "50/50 [==============================] - 0s 4ms/step - loss: 0.6789 - accuracy: 0.5825 - val_loss: 0.6865 - val_accuracy: 0.5188\n",
            "Epoch 4/30\n",
            "50/50 [==============================] - 0s 5ms/step - loss: 0.6656 - accuracy: 0.6422 - val_loss: 0.6752 - val_accuracy: 0.5639\n",
            "Epoch 5/30\n",
            "50/50 [==============================] - 0s 4ms/step - loss: 0.6435 - accuracy: 0.6943 - val_loss: 0.6496 - val_accuracy: 0.7043\n",
            "Epoch 6/30\n",
            "50/50 [==============================] - 0s 3ms/step - loss: 0.6144 - accuracy: 0.7608 - val_loss: 0.6315 - val_accuracy: 0.7018\n",
            "Epoch 7/30\n",
            "50/50 [==============================] - 0s 4ms/step - loss: 0.5786 - accuracy: 0.8010 - val_loss: 0.6084 - val_accuracy: 0.7093\n",
            "Epoch 8/30\n",
            "50/50 [==============================] - 0s 4ms/step - loss: 0.5394 - accuracy: 0.8198 - val_loss: 0.5899 - val_accuracy: 0.7018\n",
            "Epoch 9/30\n",
            "50/50 [==============================] - 0s 4ms/step - loss: 0.4998 - accuracy: 0.8299 - val_loss: 0.5769 - val_accuracy: 0.6942\n",
            "Epoch 10/30\n",
            "50/50 [==============================] - 0s 3ms/step - loss: 0.4620 - accuracy: 0.8443 - val_loss: 0.5345 - val_accuracy: 0.7845\n",
            "Epoch 11/30\n",
            "50/50 [==============================] - 0s 4ms/step - loss: 0.4288 - accuracy: 0.8569 - val_loss: 0.5248 - val_accuracy: 0.7594\n",
            "Epoch 12/30\n",
            "50/50 [==============================] - 0s 4ms/step - loss: 0.3968 - accuracy: 0.8694 - val_loss: 0.5180 - val_accuracy: 0.7519\n",
            "Epoch 13/30\n",
            "50/50 [==============================] - 0s 3ms/step - loss: 0.3690 - accuracy: 0.8738 - val_loss: 0.4994 - val_accuracy: 0.7719\n",
            "Epoch 14/30\n",
            "50/50 [==============================] - 0s 4ms/step - loss: 0.3466 - accuracy: 0.8826 - val_loss: 0.5036 - val_accuracy: 0.7494\n",
            "Epoch 15/30\n",
            "50/50 [==============================] - 0s 4ms/step - loss: 0.3250 - accuracy: 0.8826 - val_loss: 0.4975 - val_accuracy: 0.7544\n",
            "Epoch 16/30\n",
            "50/50 [==============================] - 0s 3ms/step - loss: 0.3061 - accuracy: 0.8920 - val_loss: 0.5096 - val_accuracy: 0.7519\n",
            "Epoch 17/30\n",
            "50/50 [==============================] - 0s 6ms/step - loss: 0.2906 - accuracy: 0.8964 - val_loss: 0.5090 - val_accuracy: 0.7544\n",
            "Epoch 18/30\n",
            "50/50 [==============================] - 0s 4ms/step - loss: 0.2761 - accuracy: 0.8996 - val_loss: 0.5058 - val_accuracy: 0.7594\n",
            "Epoch 19/30\n",
            "50/50 [==============================] - 0s 4ms/step - loss: 0.2652 - accuracy: 0.9096 - val_loss: 0.5111 - val_accuracy: 0.7544\n",
            "Epoch 20/30\n",
            "50/50 [==============================] - 0s 4ms/step - loss: 0.2503 - accuracy: 0.9102 - val_loss: 0.5057 - val_accuracy: 0.7519\n",
            "Epoch 21/30\n",
            "50/50 [==============================] - 0s 4ms/step - loss: 0.2411 - accuracy: 0.9153 - val_loss: 0.5180 - val_accuracy: 0.7519\n",
            "Epoch 22/30\n",
            "50/50 [==============================] - 0s 4ms/step - loss: 0.2294 - accuracy: 0.9203 - val_loss: 0.5232 - val_accuracy: 0.7469\n",
            "Epoch 23/30\n",
            "50/50 [==============================] - 0s 4ms/step - loss: 0.2191 - accuracy: 0.9272 - val_loss: 0.5305 - val_accuracy: 0.7444\n",
            "Epoch 24/30\n",
            "50/50 [==============================] - 0s 4ms/step - loss: 0.2105 - accuracy: 0.9284 - val_loss: 0.5415 - val_accuracy: 0.7444\n",
            "Epoch 25/30\n",
            "50/50 [==============================] - 0s 4ms/step - loss: 0.2014 - accuracy: 0.9335 - val_loss: 0.5462 - val_accuracy: 0.7519\n",
            "Epoch 26/30\n",
            "50/50 [==============================] - 0s 4ms/step - loss: 0.1945 - accuracy: 0.9360 - val_loss: 0.5772 - val_accuracy: 0.7419\n",
            "Epoch 27/30\n",
            "50/50 [==============================] - 0s 4ms/step - loss: 0.1895 - accuracy: 0.9404 - val_loss: 0.5595 - val_accuracy: 0.7569\n",
            "Epoch 28/30\n",
            "50/50 [==============================] - 0s 4ms/step - loss: 0.1813 - accuracy: 0.9429 - val_loss: 0.5709 - val_accuracy: 0.7594\n",
            "Epoch 29/30\n",
            "50/50 [==============================] - 0s 4ms/step - loss: 0.1760 - accuracy: 0.9410 - val_loss: 0.5852 - val_accuracy: 0.7569\n",
            "Epoch 30/30\n",
            "50/50 [==============================] - 0s 4ms/step - loss: 0.1673 - accuracy: 0.9510 - val_loss: 0.6060 - val_accuracy: 0.7393\n"
          ],
          "name": "stdout"
        }
      ]
    },
    {
      "cell_type": "markdown",
      "metadata": {
        "id": "nf-6knIzuGUU"
      },
      "source": [
        "## Doğruğun ve Kaybın Grafiğinin Çizilmesi"
      ]
    },
    {
      "cell_type": "code",
      "metadata": {
        "colab": {
          "base_uri": "https://localhost:8080/",
          "height": 541
        },
        "id": "BZ4b830BuDJF",
        "outputId": "19f3000e-1651-412d-ac22-9f05c0388d46"
      },
      "source": [
        "import matplotlib.pyplot as plt\n",
        "\n",
        "\n",
        "def plot_graphs(history, string):\n",
        "  plt.plot(history.history[string])\n",
        "  plt.plot(history.history['val_'+string])\n",
        "  plt.xlabel(\"Yineleme (Epochs)\")\n",
        "  plt.ylabel(string)\n",
        "  plt.legend([string, 'val_'+string])\n",
        "  plt.show()\n",
        "  \n",
        "plot_graphs(history, \"accuracy\")\n",
        "plot_graphs(history, \"loss\")"
      ],
      "execution_count": 14,
      "outputs": [
        {
          "output_type": "display_data",
          "data": {
            "image/png": "[encoded data removed]",
            "text/plain": [
              "<Figure size 432x288 with 1 Axes>"
            ]
          },
          "metadata": {
            "tags": [],
            "needs_background": "light"
          }
        },
        {
          "output_type": "display_data",
          "data": {
            "image/png": "[encoded data removed]",
            "text/plain": [
              "<Figure size 432x288 with 1 Axes>"
            ]
          },
          "metadata": {
            "tags": [],
            "needs_background": "light"
          }
        }
      ]
    },
    {
      "cell_type": "markdown",
      "metadata": {
        "id": "EMPApqbxI9Bx"
      },
      "source": [
        "## Yorumların Duygusunu Tahmin Etmek İçin Bir İşlev Tanımlanması\n",
        "\n",
        "Bazı farklılıkları olan modeller oluşturacağız ve her bir modeli bazı yeni incelemelerin duyarlılığını tahmin etmek için kullanacağız.\n",
        "\n",
        "Zaman kazanmak için, bir model ve bazı yeni incelemeleri alacak bir işlev oluşturalım ve her incelemenin sonucunda duyguları (olumlu veya olumsuz) yazdıralım.\n",
        "\n",
        "\n",
        "\n"
      ]
    },
    {
      "cell_type": "code",
      "metadata": {
        "id": "T5CL-fbiuRKE"
      },
      "source": [
        "# Bir dizi alan ve her bir yorumun olumlu mu olumsuz mu olduğunu \n",
        "# tahmin etmek için bir işlev tanımlıyoruz.\n",
        "\n",
        "# max_length = 100 # Önceden tanımlanmış\n",
        "\n",
        "def predict_review(model, new_sentences, maxlen=max_length, show_padded_sequence=True ):\n",
        "  # Daha sonra kullanmaya devam edebilmemiz için orijinal cümleleri saklayın\n",
        "  # Kodlanmış dizileri tutmak için bir dizi oluşturun\n",
        "  new_sequences = []\n",
        "\n",
        "  # Yeni incelemeleri dizilere dönüştürün\n",
        "  for i, frvw in enumerate(new_sentences):\n",
        "    new_sequences.append(tokenizer.encode(frvw))\n",
        "\n",
        "  trunc_type='post' \n",
        "  padding_type='post'\n",
        "\n",
        "  # Yeni incelemeler için tüm dizilere dolgu ekleyelim\n",
        "  new_reviews_padded = pad_sequences(new_sequences, maxlen=max_length, \n",
        "                                 padding=padding_type, truncating=trunc_type)             \n",
        "\n",
        "  classes = model.predict(new_reviews_padded)\n",
        "\n",
        "  # Etiket 1'e ne kadar yakınsa, inceleme o kadar olumlu olur\n",
        "  for x in range(len(new_sentences)):\n",
        "    \n",
        "    # Diziyi yazdıralım\n",
        "    if (show_padded_sequence):\n",
        "      print(new_reviews_padded[x])\n",
        "    # İnceleme metnini yazdıralım\n",
        "    print(new_sentences[x])\n",
        "    # Tahmin sonucumuzu yazdıralım (0-1 arası bir değer)\n",
        "    print(classes[x])\n",
        "    print(\"\\n\")"
      ],
      "execution_count": 15,
      "outputs": []
    },
    {
      "cell_type": "code",
      "metadata": {
        "colab": {
          "base_uri": "https://localhost:8080/"
        },
        "id": "cD75ej7kKCVG",
        "outputId": "67e132b6-8965-4021-f821-16da66610bf5"
      },
      "source": [
        "# Model tahminlerini yapalım \n",
        "fake_reviews = [\"I love this phone\", \n",
        "                \"Everything was cold\",\n",
        "                \"Everything was hot exactly as I wanted\", \n",
        "                \"Everything was green\", \n",
        "                \"the host seated us immediately\",\n",
        "                \"they gave us free chocolate cake\", \n",
        "                \"we couldn't hear each other talk because of the shouting in the kitchen\"\n",
        "              ]\n",
        "\n",
        "predict_review(model, fake_reviews)"
      ],
      "execution_count": 16,
      "outputs": [
        {
          "output_type": "stream",
          "text": [
            "[  4 281  16  25   0   0   0   0   0   0   0   0   0   0   0   0   0   0\n",
            "   0   0   0   0   0   0   0   0   0   0   0   0   0   0   0   0   0   0\n",
            "   0   0   0   0   0   0   0   0   0   0   0   0   0   0]\n",
            "I love this phone\n",
            "[0.9076681]\n",
            "\n",
            "\n",
            "[812 227 864 100 775   9 525 843   0   0   0   0   0   0   0   0   0   0\n",
            "   0   0   0   0   0   0   0   0   0   0   0   0   0   0   0   0   0   0\n",
            "   0   0   0   0   0   0   0   0   0   0   0   0   0   0]\n",
            "Everything was cold\n",
            "[0.10570715]\n",
            "\n",
            "\n",
            "[812 227 864 100 775   9 109   8 333 731  24  61   4 171  59  77   0   0\n",
            "   0   0   0   0   0   0   0   0   0   0   0   0   0   0   0   0   0   0\n",
            "   0   0   0   0   0   0   0   0   0   0   0   0   0   0]\n",
            "Everything was hot exactly as I wanted\n",
            "[0.3227498]\n",
            "\n",
            "\n",
            "[812 227 864 100 775   9 157 359 853   0   0   0   0   0   0   0   0   0\n",
            "   0   0   0   0   0   0   0   0   0   0   0   0   0   0   0   0   0   0\n",
            "   0   0   0   0   0   0   0   0   0   0   0   0   0   0]\n",
            "Everything was green\n",
            "[0.09446277]\n",
            "\n",
            "\n",
            "[  1 109 228 540 237 635 241 423 340  89 298   0   0   0   0   0   0   0\n",
            "   0   0   0   0   0   0   0   0   0   0   0   0   0   0   0   0   0   0\n",
            "   0   0   0   0   0   0   0   0   0   0   0   0   0   0]\n",
            "the host seated us immediately\n",
            "[0.48670387]\n",
            "\n",
            "\n",
            "[154 242  47 635 341  12 569 547 147 319 775 125  85   0   0   0   0   0\n",
            "   0   0   0   0   0   0   0   0   0   0   0   0   0   0   0   0   0   0\n",
            "   0   0   0   0   0   0   0   0   0   0   0   0   0   0]\n",
            "they gave us free chocolate cake\n",
            "[0.7229566]\n",
            "\n",
            "\n",
            "[158 190 853 782   8 607 775 210 232 146 775 470  67 305 101  15   1 328\n",
            " 296  26  19   1 661 641 195   0   0   0   0   0   0   0   0   0   0   0\n",
            "   0   0   0   0   0   0   0   0   0   0   0   0   0   0]\n",
            "we couldn't hear each other talk because of the shouting in the kitchen\n",
            "[0.01238157]\n",
            "\n",
            "\n"
          ],
          "name": "stdout"
        }
      ]
    },
    {
      "cell_type": "markdown",
      "metadata": {
        "id": "9RNVtW2GKXTW"
      },
      "source": [
        "## Farklı Katmanlara Sahip Modellerin Sonuçlarını Eğitmek ve Göstermek İçin Bir İşlev Tanımlayalım\n",
        "\n",
        "Bu colab doyasının geri kalanında modelleri tanımlayacağız ve ardından sonuçları göreceğiz.\n",
        "\n",
        "Modeli alacak, derleyecek, eğitecek, doğruluk ve kayıp grafiğini çizecek ve ardından bazı sonuçları tahmin edecek bir fonksiyon tanımlayalım."
      ]
    },
    {
      "cell_type": "code",
      "metadata": {
        "id": "FTe2sGayKSql"
      },
      "source": [
        "def fit_model_now (model, sentences) :\n",
        "  model.compile(loss='binary_crossentropy',optimizer='adam',metrics=['accuracy'])\n",
        "  model.summary()\n",
        "  history = model.fit(training_sequences, training_labels_final, epochs=num_epochs, \n",
        "                      validation_data=(testing_sequences, testing_labels_final))\n",
        "  return history\n",
        "\n",
        "def plot_results (history):\n",
        "  plot_graphs(history, \"accuracy\")\n",
        "  plot_graphs(history, \"loss\")\n",
        "\n",
        "def fit_model_and_show_results (model, sentences):\n",
        "  history = fit_model_now(model, sentences)\n",
        "  plot_results(history)\n",
        "  predict_review(model, sentences)"
      ],
      "execution_count": 17,
      "outputs": []
    },
    {
      "cell_type": "markdown",
      "metadata": {
        "id": "wmKdx-FsKtrc"
      },
      "source": [
        "## Çift Yönlü (`Bidirectional`) LSTM Katmanının Eklenmesi\n",
        "\n",
        "Çift yönlü LSTM kullanan yeni bir model oluşturalım.\n",
        "\n",
        "Ardından, modeli derlemek, eğitmek, doğruluk ve kaybın grafiğini çıkarmak ve ardından bazı sonuçları tahmin etmek için önceden tanımladığımız işleve oluşturduğumuz modeli yollayalım."
      ]
    },
    {
      "cell_type": "code",
      "metadata": {
        "colab": {
          "base_uri": "https://localhost:8080/",
          "height": 1000
        },
        "id": "sgKwv_NzKrYO",
        "outputId": "6f343d9f-e32c-41bf-b803-b922bb86ebaa"
      },
      "source": [
        "# Modelin tanımlanması\n",
        "model_bidi_lstm = tf.keras.Sequential([\n",
        "    tf.keras.layers.Embedding(vocab_size, embedding_dim, input_length=max_length),\n",
        "    tf.keras.layers.Bidirectional(tf.keras.layers.LSTM(embedding_dim)), \n",
        "    tf.keras.layers.Dense(6, activation='relu'), \n",
        "    tf.keras.layers.Dense(1, activation='sigmoid')\n",
        "])\n",
        "\n",
        "# Modeli derleyin ve eğitin ve ardından yeni cümlelerimiz için tahminleri gösterin\n",
        "fit_model_and_show_results(model_bidi_lstm, fake_reviews)\n"
      ],
      "execution_count": 18,
      "outputs": [
        {
          "output_type": "stream",
          "text": [
            "Model: \"sequential_1\"\n",
            "_________________________________________________________________\n",
            "Layer (type)                 Output Shape              Param #   \n",
            "=================================================================\n",
            "embedding_1 (Embedding)      (None, 50, 16)            16000     \n",
            "_________________________________________________________________\n",
            "bidirectional (Bidirectional (None, 32)                4224      \n",
            "_________________________________________________________________\n",
            "dense_2 (Dense)              (None, 6)                 198       \n",
            "_________________________________________________________________\n",
            "dense_3 (Dense)              (None, 1)                 7         \n",
            "=================================================================\n",
            "Total params: 20,429\n",
            "Trainable params: 20,429\n",
            "Non-trainable params: 0\n",
            "_________________________________________________________________\n",
            "Epoch 1/30\n",
            "50/50 [==============================] - 7s 21ms/step - loss: 0.6889 - accuracy: 0.5217 - val_loss: 0.7015 - val_accuracy: 0.4110\n",
            "Epoch 2/30\n",
            "50/50 [==============================] - 0s 9ms/step - loss: 0.6511 - accuracy: 0.5895 - val_loss: 0.6507 - val_accuracy: 0.6190\n",
            "Epoch 3/30\n",
            "50/50 [==============================] - 0s 9ms/step - loss: 0.4973 - accuracy: 0.7878 - val_loss: 0.4898 - val_accuracy: 0.7769\n",
            "Epoch 4/30\n",
            "50/50 [==============================] - 0s 9ms/step - loss: 0.3639 - accuracy: 0.8556 - val_loss: 0.6052 - val_accuracy: 0.7193\n",
            "Epoch 5/30\n",
            "50/50 [==============================] - 0s 9ms/step - loss: 0.2943 - accuracy: 0.8889 - val_loss: 0.5844 - val_accuracy: 0.7393\n",
            "Epoch 6/30\n",
            "50/50 [==============================] - 0s 9ms/step - loss: 0.2348 - accuracy: 0.9171 - val_loss: 0.6782 - val_accuracy: 0.7268\n",
            "Epoch 7/30\n",
            "50/50 [==============================] - 0s 9ms/step - loss: 0.2020 - accuracy: 0.9297 - val_loss: 0.6067 - val_accuracy: 0.7393\n",
            "Epoch 8/30\n",
            "50/50 [==============================] - 0s 9ms/step - loss: 0.1631 - accuracy: 0.9517 - val_loss: 0.7574 - val_accuracy: 0.7519\n",
            "Epoch 9/30\n",
            "50/50 [==============================] - 0s 10ms/step - loss: 0.1459 - accuracy: 0.9592 - val_loss: 0.8255 - val_accuracy: 0.7519\n",
            "Epoch 10/30\n",
            "50/50 [==============================] - 0s 10ms/step - loss: 0.1254 - accuracy: 0.9642 - val_loss: 0.7737 - val_accuracy: 0.7494\n",
            "Epoch 11/30\n",
            "50/50 [==============================] - 0s 10ms/step - loss: 0.1474 - accuracy: 0.9535 - val_loss: 0.8721 - val_accuracy: 0.7393\n",
            "Epoch 12/30\n",
            "50/50 [==============================] - 0s 9ms/step - loss: 0.1113 - accuracy: 0.9692 - val_loss: 0.8496 - val_accuracy: 0.7343\n",
            "Epoch 13/30\n",
            "50/50 [==============================] - 0s 9ms/step - loss: 0.0947 - accuracy: 0.9787 - val_loss: 0.8700 - val_accuracy: 0.7293\n",
            "Epoch 14/30\n",
            "50/50 [==============================] - 0s 10ms/step - loss: 0.0968 - accuracy: 0.9755 - val_loss: 0.9139 - val_accuracy: 0.7444\n",
            "Epoch 15/30\n",
            "50/50 [==============================] - 0s 9ms/step - loss: 0.0821 - accuracy: 0.9831 - val_loss: 1.0344 - val_accuracy: 0.7419\n",
            "Epoch 16/30\n",
            "50/50 [==============================] - 0s 9ms/step - loss: 0.0732 - accuracy: 0.9868 - val_loss: 0.9941 - val_accuracy: 0.7469\n",
            "Epoch 17/30\n",
            "50/50 [==============================] - 0s 10ms/step - loss: 0.0741 - accuracy: 0.9843 - val_loss: 1.0771 - val_accuracy: 0.7544\n",
            "Epoch 18/30\n",
            "50/50 [==============================] - 0s 9ms/step - loss: 0.0626 - accuracy: 0.9887 - val_loss: 1.0722 - val_accuracy: 0.7469\n",
            "Epoch 19/30\n",
            "50/50 [==============================] - 0s 9ms/step - loss: 0.0547 - accuracy: 0.9906 - val_loss: 1.2089 - val_accuracy: 0.7494\n",
            "Epoch 20/30\n",
            "50/50 [==============================] - 0s 10ms/step - loss: 0.0480 - accuracy: 0.9925 - val_loss: 1.1949 - val_accuracy: 0.7368\n",
            "Epoch 21/30\n",
            "50/50 [==============================] - 0s 9ms/step - loss: 0.0457 - accuracy: 0.9931 - val_loss: 1.2996 - val_accuracy: 0.7494\n",
            "Epoch 22/30\n",
            "50/50 [==============================] - 0s 9ms/step - loss: 0.0415 - accuracy: 0.9937 - val_loss: 1.2391 - val_accuracy: 0.7393\n",
            "Epoch 23/30\n",
            "50/50 [==============================] - 0s 9ms/step - loss: 0.0403 - accuracy: 0.9937 - val_loss: 1.3788 - val_accuracy: 0.7419\n",
            "Epoch 24/30\n",
            "50/50 [==============================] - 0s 10ms/step - loss: 0.0384 - accuracy: 0.9937 - val_loss: 1.3640 - val_accuracy: 0.7419\n",
            "Epoch 25/30\n",
            "50/50 [==============================] - 0s 9ms/step - loss: 0.0369 - accuracy: 0.9937 - val_loss: 1.4228 - val_accuracy: 0.7469\n",
            "Epoch 26/30\n",
            "50/50 [==============================] - 0s 10ms/step - loss: 0.0359 - accuracy: 0.9937 - val_loss: 1.4222 - val_accuracy: 0.7444\n",
            "Epoch 27/30\n",
            "50/50 [==============================] - 0s 10ms/step - loss: 0.0349 - accuracy: 0.9944 - val_loss: 1.5102 - val_accuracy: 0.7393\n",
            "Epoch 28/30\n",
            "50/50 [==============================] - 0s 10ms/step - loss: 0.0342 - accuracy: 0.9944 - val_loss: 1.4521 - val_accuracy: 0.7419\n",
            "Epoch 29/30\n",
            "50/50 [==============================] - 0s 9ms/step - loss: 0.0336 - accuracy: 0.9944 - val_loss: 1.5096 - val_accuracy: 0.7469\n",
            "Epoch 30/30\n",
            "50/50 [==============================] - 0s 9ms/step - loss: 0.0329 - accuracy: 0.9944 - val_loss: 1.5117 - val_accuracy: 0.7469\n"
          ],
          "name": "stdout"
        },
        {
          "output_type": "display_data",
          "data": {
            "image/png": "[encoded data removed]",
            "text/plain": [
              "<Figure size 432x288 with 1 Axes>"
            ]
          },
          "metadata": {
            "tags": [],
            "needs_background": "light"
          }
        },
        {
          "output_type": "display_data",
          "data": {
            "image/png": "[encoded data removed]",
            "text/plain": [
              "<Figure size 432x288 with 1 Axes>"
            ]
          },
          "metadata": {
            "tags": [],
            "needs_background": "light"
          }
        },
        {
          "output_type": "stream",
          "text": [
            "[  4 281  16  25   0   0   0   0   0   0   0   0   0   0   0   0   0   0\n",
            "   0   0   0   0   0   0   0   0   0   0   0   0   0   0   0   0   0   0\n",
            "   0   0   0   0   0   0   0   0   0   0   0   0   0   0]\n",
            "I love this phone\n",
            "[0.99850637]\n",
            "\n",
            "\n",
            "[812 227 864 100 775   9 525 843   0   0   0   0   0   0   0   0   0   0\n",
            "   0   0   0   0   0   0   0   0   0   0   0   0   0   0   0   0   0   0\n",
            "   0   0   0   0   0   0   0   0   0   0   0   0   0   0]\n",
            "Everything was cold\n",
            "[0.01973376]\n",
            "\n",
            "\n",
            "[812 227 864 100 775   9 109   8 333 731  24  61   4 171  59  77   0   0\n",
            "   0   0   0   0   0   0   0   0   0   0   0   0   0   0   0   0   0   0\n",
            "   0   0   0   0   0   0   0   0   0   0   0   0   0   0]\n",
            "Everything was hot exactly as I wanted\n",
            "[0.828015]\n",
            "\n",
            "\n",
            "[812 227 864 100 775   9 157 359 853   0   0   0   0   0   0   0   0   0\n",
            "   0   0   0   0   0   0   0   0   0   0   0   0   0   0   0   0   0   0\n",
            "   0   0   0   0   0   0   0   0   0   0   0   0   0   0]\n",
            "Everything was green\n",
            "[0.02010954]\n",
            "\n",
            "\n",
            "[  1 109 228 540 237 635 241 423 340  89 298   0   0   0   0   0   0   0\n",
            "   0   0   0   0   0   0   0   0   0   0   0   0   0   0   0   0   0   0\n",
            "   0   0   0   0   0   0   0   0   0   0   0   0   0   0]\n",
            "the host seated us immediately\n",
            "[0.9971378]\n",
            "\n",
            "\n",
            "[154 242  47 635 341  12 569 547 147 319 775 125  85   0   0   0   0   0\n",
            "   0   0   0   0   0   0   0   0   0   0   0   0   0   0   0   0   0   0\n",
            "   0   0   0   0   0   0   0   0   0   0   0   0   0   0]\n",
            "they gave us free chocolate cake\n",
            "[0.97438127]\n",
            "\n",
            "\n",
            "[158 190 853 782   8 607 775 210 232 146 775 470  67 305 101  15   1 328\n",
            " 296  26  19   1 661 641 195   0   0   0   0   0   0   0   0   0   0   0\n",
            "   0   0   0   0   0   0   0   0   0   0   0   0   0   0]\n",
            "we couldn't hear each other talk because of the shouting in the kitchen\n",
            "[0.01020717]\n",
            "\n",
            "\n"
          ],
          "name": "stdout"
        }
      ]
    },
    {
      "cell_type": "markdown",
      "metadata": {
        "id": "sBmoxrDbLVVC"
      },
      "source": [
        "## Birden Çok Çift Yönlü Katman Kullanılması\n",
        "\n",
        "Şimdi modele başka bir çift yönlü LSTM katmanı ekleyelim ve sonrasında herhangi bir iyileştirme alıp almadığımızı görelim.\n",
        "\n",
        "İlk `Bidirectional` LSTM katmanının bir dizi döndürdüğüne dikkat edelim."
      ]
    },
    {
      "cell_type": "code",
      "metadata": {
        "colab": {
          "base_uri": "https://localhost:8080/",
          "height": 1000
        },
        "id": "iyVsvBUBLSWu",
        "outputId": "2bd41f9f-6619-4adc-c572-48bc13e8804a"
      },
      "source": [
        "model_multiple_bidi_lstm = tf.keras.Sequential([\n",
        "    tf.keras.layers.Embedding(vocab_size, embedding_dim, input_length=max_length),\n",
        "    tf.keras.layers.Bidirectional(tf.keras.layers.LSTM(embedding_dim, \n",
        "                                                       return_sequences=True)), \n",
        "    tf.keras.layers.Bidirectional(tf.keras.layers.LSTM(embedding_dim)),\n",
        "    tf.keras.layers.Dense(6, activation='relu'),\n",
        "    tf.keras.layers.Dense(1, activation='sigmoid')\n",
        "])\n",
        "\n",
        "fit_model_and_show_results(model_multiple_bidi_lstm, fake_reviews)"
      ],
      "execution_count": 19,
      "outputs": [
        {
          "output_type": "stream",
          "text": [
            "Model: \"sequential_2\"\n",
            "_________________________________________________________________\n",
            "Layer (type)                 Output Shape              Param #   \n",
            "=================================================================\n",
            "embedding_2 (Embedding)      (None, 50, 16)            16000     \n",
            "_________________________________________________________________\n",
            "bidirectional_1 (Bidirection (None, 50, 32)            4224      \n",
            "_________________________________________________________________\n",
            "bidirectional_2 (Bidirection (None, 32)                6272      \n",
            "_________________________________________________________________\n",
            "dense_4 (Dense)              (None, 6)                 198       \n",
            "_________________________________________________________________\n",
            "dense_5 (Dense)              (None, 1)                 7         \n",
            "=================================================================\n",
            "Total params: 26,701\n",
            "Trainable params: 26,701\n",
            "Non-trainable params: 0\n",
            "_________________________________________________________________\n",
            "Epoch 1/30\n",
            "50/50 [==============================] - 6s 36ms/step - loss: 0.6931 - accuracy: 0.5060 - val_loss: 0.6944 - val_accuracy: 0.4110\n",
            "Epoch 2/30\n",
            "50/50 [==============================] - 1s 14ms/step - loss: 0.6928 - accuracy: 0.5223 - val_loss: 0.6953 - val_accuracy: 0.4110\n",
            "Epoch 3/30\n",
            "50/50 [==============================] - 1s 14ms/step - loss: 0.6927 - accuracy: 0.5223 - val_loss: 0.6960 - val_accuracy: 0.4110\n",
            "Epoch 4/30\n",
            "50/50 [==============================] - 1s 14ms/step - loss: 0.6926 - accuracy: 0.5223 - val_loss: 0.6967 - val_accuracy: 0.4110\n",
            "Epoch 5/30\n",
            "50/50 [==============================] - 1s 14ms/step - loss: 0.6925 - accuracy: 0.5223 - val_loss: 0.6974 - val_accuracy: 0.4110\n",
            "Epoch 6/30\n",
            "50/50 [==============================] - 1s 14ms/step - loss: 0.6924 - accuracy: 0.5223 - val_loss: 0.6981 - val_accuracy: 0.4110\n",
            "Epoch 7/30\n",
            "50/50 [==============================] - 1s 14ms/step - loss: 0.6923 - accuracy: 0.5223 - val_loss: 0.6982 - val_accuracy: 0.4110\n",
            "Epoch 8/30\n",
            "50/50 [==============================] - 1s 14ms/step - loss: 0.6923 - accuracy: 0.5223 - val_loss: 0.6987 - val_accuracy: 0.4110\n",
            "Epoch 9/30\n",
            "50/50 [==============================] - 1s 14ms/step - loss: 0.6923 - accuracy: 0.5223 - val_loss: 0.6992 - val_accuracy: 0.4110\n",
            "Epoch 10/30\n",
            "50/50 [==============================] - 1s 15ms/step - loss: 0.6923 - accuracy: 0.5223 - val_loss: 0.6996 - val_accuracy: 0.4110\n",
            "Epoch 11/30\n",
            "50/50 [==============================] - 1s 14ms/step - loss: 0.6922 - accuracy: 0.5223 - val_loss: 0.6999 - val_accuracy: 0.4110\n",
            "Epoch 12/30\n",
            "50/50 [==============================] - 1s 14ms/step - loss: 0.6922 - accuracy: 0.5223 - val_loss: 0.7000 - val_accuracy: 0.4110\n",
            "Epoch 13/30\n",
            "50/50 [==============================] - 1s 14ms/step - loss: 0.6922 - accuracy: 0.5223 - val_loss: 0.7006 - val_accuracy: 0.4110\n",
            "Epoch 14/30\n",
            "50/50 [==============================] - 1s 15ms/step - loss: 0.6922 - accuracy: 0.5223 - val_loss: 0.7004 - val_accuracy: 0.4110\n",
            "Epoch 15/30\n",
            "50/50 [==============================] - 1s 14ms/step - loss: 0.6922 - accuracy: 0.5223 - val_loss: 0.7009 - val_accuracy: 0.4110\n",
            "Epoch 16/30\n",
            "50/50 [==============================] - 1s 14ms/step - loss: 0.6922 - accuracy: 0.5223 - val_loss: 0.7009 - val_accuracy: 0.4110\n",
            "Epoch 17/30\n",
            "50/50 [==============================] - 1s 15ms/step - loss: 0.6922 - accuracy: 0.5223 - val_loss: 0.7012 - val_accuracy: 0.4110\n",
            "Epoch 18/30\n",
            "50/50 [==============================] - 1s 14ms/step - loss: 0.6922 - accuracy: 0.5223 - val_loss: 0.7010 - val_accuracy: 0.4110\n",
            "Epoch 19/30\n",
            "50/50 [==============================] - 1s 14ms/step - loss: 0.6922 - accuracy: 0.5223 - val_loss: 0.7014 - val_accuracy: 0.4110\n",
            "Epoch 20/30\n",
            "50/50 [==============================] - 1s 14ms/step - loss: 0.6922 - accuracy: 0.5223 - val_loss: 0.7017 - val_accuracy: 0.4110\n",
            "Epoch 21/30\n",
            "50/50 [==============================] - 1s 14ms/step - loss: 0.6922 - accuracy: 0.5223 - val_loss: 0.7015 - val_accuracy: 0.4110\n",
            "Epoch 22/30\n",
            "50/50 [==============================] - 1s 14ms/step - loss: 0.6922 - accuracy: 0.5223 - val_loss: 0.7015 - val_accuracy: 0.4110\n",
            "Epoch 23/30\n",
            "50/50 [==============================] - 1s 15ms/step - loss: 0.6922 - accuracy: 0.5223 - val_loss: 0.7015 - val_accuracy: 0.4110\n",
            "Epoch 24/30\n",
            "50/50 [==============================] - 1s 15ms/step - loss: 0.6922 - accuracy: 0.5223 - val_loss: 0.7015 - val_accuracy: 0.4110\n",
            "Epoch 25/30\n",
            "50/50 [==============================] - 1s 15ms/step - loss: 0.6922 - accuracy: 0.5223 - val_loss: 0.7018 - val_accuracy: 0.4110\n",
            "Epoch 26/30\n",
            "50/50 [==============================] - 1s 15ms/step - loss: 0.6922 - accuracy: 0.5223 - val_loss: 0.7017 - val_accuracy: 0.4110\n",
            "Epoch 27/30\n",
            "50/50 [==============================] - 1s 15ms/step - loss: 0.6922 - accuracy: 0.5223 - val_loss: 0.7019 - val_accuracy: 0.4110\n",
            "Epoch 28/30\n",
            "50/50 [==============================] - 1s 16ms/step - loss: 0.6922 - accuracy: 0.5223 - val_loss: 0.7017 - val_accuracy: 0.4110\n",
            "Epoch 29/30\n",
            "50/50 [==============================] - 1s 15ms/step - loss: 0.6922 - accuracy: 0.5223 - val_loss: 0.7016 - val_accuracy: 0.4110\n",
            "Epoch 30/30\n",
            "50/50 [==============================] - 1s 15ms/step - loss: 0.6922 - accuracy: 0.5223 - val_loss: 0.7021 - val_accuracy: 0.4110\n"
          ],
          "name": "stdout"
        },
        {
          "output_type": "display_data",
          "data": {
            "image/png": "[encoded data removed]",
            "text/plain": [
              "<Figure size 432x288 with 1 Axes>"
            ]
          },
          "metadata": {
            "tags": [],
            "needs_background": "light"
          }
        },
        {
          "output_type": "display_data",
          "data": {
            "image/png": "[encoded data removed]",
            "text/plain": [
              "<Figure size 432x288 with 1 Axes>"
            ]
          },
          "metadata": {
            "tags": [],
            "needs_background": "light"
          }
        },
        {
          "output_type": "stream",
          "text": [
            "[  4 281  16  25   0   0   0   0   0   0   0   0   0   0   0   0   0   0\n",
            "   0   0   0   0   0   0   0   0   0   0   0   0   0   0   0   0   0   0\n",
            "   0   0   0   0   0   0   0   0   0   0   0   0   0   0]\n",
            "I love this phone\n",
            "[0.52231693]\n",
            "\n",
            "\n",
            "[812 227 864 100 775   9 525 843   0   0   0   0   0   0   0   0   0   0\n",
            "   0   0   0   0   0   0   0   0   0   0   0   0   0   0   0   0   0   0\n",
            "   0   0   0   0   0   0   0   0   0   0   0   0   0   0]\n",
            "Everything was cold\n",
            "[0.52231693]\n",
            "\n",
            "\n",
            "[812 227 864 100 775   9 109   8 333 731  24  61   4 171  59  77   0   0\n",
            "   0   0   0   0   0   0   0   0   0   0   0   0   0   0   0   0   0   0\n",
            "   0   0   0   0   0   0   0   0   0   0   0   0   0   0]\n",
            "Everything was hot exactly as I wanted\n",
            "[0.52231693]\n",
            "\n",
            "\n",
            "[812 227 864 100 775   9 157 359 853   0   0   0   0   0   0   0   0   0\n",
            "   0   0   0   0   0   0   0   0   0   0   0   0   0   0   0   0   0   0\n",
            "   0   0   0   0   0   0   0   0   0   0   0   0   0   0]\n",
            "Everything was green\n",
            "[0.52231693]\n",
            "\n",
            "\n",
            "[  1 109 228 540 237 635 241 423 340  89 298   0   0   0   0   0   0   0\n",
            "   0   0   0   0   0   0   0   0   0   0   0   0   0   0   0   0   0   0\n",
            "   0   0   0   0   0   0   0   0   0   0   0   0   0   0]\n",
            "the host seated us immediately\n",
            "[0.52231693]\n",
            "\n",
            "\n",
            "[154 242  47 635 341  12 569 547 147 319 775 125  85   0   0   0   0   0\n",
            "   0   0   0   0   0   0   0   0   0   0   0   0   0   0   0   0   0   0\n",
            "   0   0   0   0   0   0   0   0   0   0   0   0   0   0]\n",
            "they gave us free chocolate cake\n",
            "[0.52231693]\n",
            "\n",
            "\n",
            "[158 190 853 782   8 607 775 210 232 146 775 470  67 305 101  15   1 328\n",
            " 296  26  19   1 661 641 195   0   0   0   0   0   0   0   0   0   0   0\n",
            "   0   0   0   0   0   0   0   0   0   0   0   0   0   0]\n",
            "we couldn't hear each other talk because of the shouting in the kitchen\n",
            "[0.52231693]\n",
            "\n",
            "\n"
          ],
          "name": "stdout"
        }
      ]
    },
    {
      "cell_type": "markdown",
      "metadata": {
        "id": "gJeFZ6_-Lygv"
      },
      "source": [
        "## Tüm Modellerin Tahminlerinin Karşılaştırılması\n",
        "\n",
        "Her bir modeli ayrı ayrı incelediğinizde hangi modelin farklı incelemeler için daha iyi bir tahmin verdiğini görmek zor olabilir. Karşılaştırma amacıyla, burada biraz daha yeni inceleme (yorum) tanımlıyoruz ve üç modelin her birinin her inceleme için verdiği tahminleri yazdırıyoruz:\n",
        "\n",
        "- Gömme ve Global Ortalama Havuzlama katmanı içeren model\n",
        "- Gömme ve Çift Yönlü LSTM katmanı içeren model\n",
        "- Gömme ve iki Çift Yönlü LSTM katmanı içeren model\n",
        "\n",
        "Sonuçlar her zaman beklediğiniz gibi olmayabilir. Girdi veri setimiz oldukça küçük, 2000'den daha az incelemeye sahiptir. İncelemelerin bazıları oldukça kısa ve kısa olanlardan bazıları oldukça tekrarlayıcı yorumlardır.Bu, şu iki inceleme gibi, modelin iyileştirilmesi üzerindeki etkilerini azaltır\n",
        "\n",
        "- Bad Quality.\n",
        "- Low Quality.\n",
        "\n",
        "Kendinize ait daha fazla yorum eklemekten veya yorumları değiştirmekten çekinmeyin. Sonuçlar, incelemelerdeki kelimelerin birleşimine ve bunların eğitim setindeki incelemelerle ne kadar iyi eşleştiğine bağlı olacaktır.\n",
        "\n",
        "Farklı modeller, olumlu bir kelime (Örn: iyi) içeren ancak kötü bir inceleme olan \"iyi değildi\" gibi şeyleri nasıl ele alıyor? Gelin bakalım\n"
      ]
    },
    {
      "cell_type": "code",
      "metadata": {
        "id": "r0UyrQcHLvem"
      },
      "source": [
        "my_reviews =[\"lovely\", \"dreadful\", \"stay away\",\n",
        "             \"everything was hot exactly as I wanted\",\n",
        "             \"everything was not exactly as I wanted\",\n",
        "             \"they gave us free chocolate cake\",\n",
        "             \"I've never eaten anything so spicy in my life, my throat burned for hours\",\n",
        "             \"for a phone that is as expensive as this one I expect it to be much easier to use than this thing is\",\n",
        "             \"we left there very full for a low price so I'd say you just can't go wrong at this place\",\n",
        "             \"that place does not have quality meals and it isn't a good place to go for dinner\",\n",
        "             ]"
      ],
      "execution_count": 20,
      "outputs": []
    },
    {
      "cell_type": "code",
      "metadata": {
        "colab": {
          "base_uri": "https://localhost:8080/"
        },
        "id": "htqolW6fMuc3",
        "outputId": "f7888d2c-c152-4843-a1a1-baf7a3d9c428"
      },
      "source": [
        "print(\"===================================\\n\",\"Sadece gömme (Embedding) olan model:\\n\", \"===================================\",)\n",
        "predict_review(model, my_reviews, show_padded_sequence=False)"
      ],
      "execution_count": 21,
      "outputs": [
        {
          "output_type": "stream",
          "text": [
            "===================================\n",
            " Sadece gömme (Embedding) olan model:\n",
            " ===================================\n",
            "lovely\n",
            "[0.9381704]\n",
            "\n",
            "\n",
            "dreadful\n",
            "[0.30828914]\n",
            "\n",
            "\n",
            "stay away\n",
            "[0.65018845]\n",
            "\n",
            "\n",
            "everything was hot exactly as I wanted\n",
            "[0.76869136]\n",
            "\n",
            "\n",
            "everything was not exactly as I wanted\n",
            "[0.55517656]\n",
            "\n",
            "\n",
            "they gave us free chocolate cake\n",
            "[0.7229566]\n",
            "\n",
            "\n",
            "I've never eaten anything so spicy in my life, my throat burned for hours\n",
            "[0.02266356]\n",
            "\n",
            "\n",
            "for a phone that is as expensive as this one I expect it to be much easier to use than this thing is\n",
            "[0.58908224]\n",
            "\n",
            "\n",
            "we left there very full for a low price so I'd say you just can't go wrong at this place\n",
            "[0.7958421]\n",
            "\n",
            "\n",
            "that place does not have quality meals and it isn't a good place to go for dinner\n",
            "[0.8701938]\n",
            "\n",
            "\n"
          ],
          "name": "stdout"
        }
      ]
    },
    {
      "cell_type": "code",
      "metadata": {
        "colab": {
          "base_uri": "https://localhost:8080/"
        },
        "id": "pi3jRVOKMzOm",
        "outputId": "988485ff-4447-4a3f-b4b8-cc199c1d7ba6"
      },
      "source": [
        "print(\"===================================\\n\", \"Tek bir tane çift yönlü LSTM katmanı olan model:\\n\", \"===================================\")\n",
        "predict_review(model_bidi_lstm, my_reviews, show_padded_sequence=False)"
      ],
      "execution_count": 22,
      "outputs": [
        {
          "output_type": "stream",
          "text": [
            "===================================\n",
            " Tek bir tane çift yönlü LSTM katmanı olan model:\n",
            " ===================================\n",
            "lovely\n",
            "[0.99842787]\n",
            "\n",
            "\n",
            "dreadful\n",
            "[0.0167416]\n",
            "\n",
            "\n",
            "stay away\n",
            "[0.06456801]\n",
            "\n",
            "\n",
            "everything was hot exactly as I wanted\n",
            "[0.9745891]\n",
            "\n",
            "\n",
            "everything was not exactly as I wanted\n",
            "[0.01740693]\n",
            "\n",
            "\n",
            "they gave us free chocolate cake\n",
            "[0.97438127]\n",
            "\n",
            "\n",
            "I've never eaten anything so spicy in my life, my throat burned for hours\n",
            "[0.9872113]\n",
            "\n",
            "\n",
            "for a phone that is as expensive as this one I expect it to be much easier to use than this thing is\n",
            "[0.01448454]\n",
            "\n",
            "\n",
            "we left there very full for a low price so I'd say you just can't go wrong at this place\n",
            "[0.9999163]\n",
            "\n",
            "\n",
            "that place does not have quality meals and it isn't a good place to go for dinner\n",
            "[0.01283797]\n",
            "\n",
            "\n"
          ],
          "name": "stdout"
        }
      ]
    },
    {
      "cell_type": "code",
      "metadata": {
        "colab": {
          "base_uri": "https://localhost:8080/"
        },
        "id": "At-5eAX0M4SN",
        "outputId": "143c0cb2-3d16-42fd-db78-2c9afbfb6a4c"
      },
      "source": [
        "print(\"===================================\\n\",\"İki tane çift yönlü LSTM katmanı olan model:\\n\", \"===================================\")\n",
        "predict_review(model_multiple_bidi_lstm, my_reviews, show_padded_sequence=False)"
      ],
      "execution_count": 23,
      "outputs": [
        {
          "output_type": "stream",
          "text": [
            "===================================\n",
            " İki tane çift yönlü LSTM katmanı olan model:\n",
            " ===================================\n",
            "lovely\n",
            "[0.52231693]\n",
            "\n",
            "\n",
            "dreadful\n",
            "[0.52231693]\n",
            "\n",
            "\n",
            "stay away\n",
            "[0.52231693]\n",
            "\n",
            "\n",
            "everything was hot exactly as I wanted\n",
            "[0.52231693]\n",
            "\n",
            "\n",
            "everything was not exactly as I wanted\n",
            "[0.52231693]\n",
            "\n",
            "\n",
            "they gave us free chocolate cake\n",
            "[0.52231693]\n",
            "\n",
            "\n",
            "I've never eaten anything so spicy in my life, my throat burned for hours\n",
            "[0.52231693]\n",
            "\n",
            "\n",
            "for a phone that is as expensive as this one I expect it to be much easier to use than this thing is\n",
            "[0.52231693]\n",
            "\n",
            "\n",
            "we left there very full for a low price so I'd say you just can't go wrong at this place\n",
            "[0.52231693]\n",
            "\n",
            "\n",
            "that place does not have quality meals and it isn't a good place to go for dinner\n",
            "[0.52231693]\n",
            "\n",
            "\n"
          ],
          "name": "stdout"
        }
      ]
    }
  ]
}