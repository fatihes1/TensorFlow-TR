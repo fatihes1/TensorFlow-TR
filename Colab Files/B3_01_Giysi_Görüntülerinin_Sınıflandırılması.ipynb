{
  "nbformat": 4,
  "nbformat_minor": 0,
  "metadata": {
    "colab": {
      "name": "B3_01_Giysi_Görüntülerinin_Sınıflandırılması.ipynb",
      "provenance": [],
      "collapsed_sections": []
    },
    "kernelspec": {
      "name": "python3",
      "display_name": "Python 3"
    },
    "language_info": {
      "name": "python"
    }
  },
  "cells": [
    {
      "cell_type": "markdown",
      "metadata": {
        "id": "x63aY5iRG7-0"
      },
      "source": [
        "# Giysi Görüntülerinin Sınıflandırılması\n",
        "\n"
      ]
    },
    {
      "cell_type": "markdown",
      "metadata": {
        "id": "ZUEl1AfKHBjh"
      },
      "source": [
        "Bu başlık altında, spor ayakkabı ve gömlek gibi giyim görüntülerini sınıflandırmak için bir sinir ağı oluşturup sonrasında bu ağı eğiteceğiz.\n",
        "\n",
        "Her kodu anlamazsanız sorun etmeyin. Colab dosyaları boyunca açıklamalar ile birlikte TensorFlow programına giriş niteliğinde bir döküman oluşturacağız.\n",
        "\n",
        "Bu kılavuz, TensorFlow ile modeller oluşturmak ve eğitmek için geliştirilen üst düzey bir API olan  [tf.keras](https://www.tensorflow.org/guide/keras) kullanılmaktadır."
      ]
    },
    {
      "cell_type": "markdown",
      "metadata": {
        "id": "ZV9axilTH2a4"
      },
      "source": [
        "## Gerekli Kurulumların ve İçe Aktarmaları Yapalım\n",
        "\n",
        "Veri kümelelerini indirmeyi, erişmeyi basitleştiren ve çalışmak için birçok örnek veri kümesi sağlayan bir API olan [TensorFlow Datasets](https://www.tensorflow.org/datasets/) kullanacağız. Bununla birlikte birkaç yardımcı Python kütüphanesi kullanmamız gerekiyor."
      ]
    },
    {
      "cell_type": "code",
      "metadata": {
        "colab": {
          "base_uri": "https://localhost:8080/"
        },
        "id": "LG3w4ZeTGpyS",
        "outputId": "5aaebbb3-7b02-486c-a2ff-c496babaa4de"
      },
      "source": [
        "!pip install -U tensorflow_datasets"
      ],
      "execution_count": 1,
      "outputs": [
        {
          "output_type": "stream",
          "text": [
            "Requirement already satisfied: tensorflow_datasets in /usr/local/lib/python3.7/dist-packages (4.0.1)\n",
            "Collecting tensorflow_datasets\n",
            "  Downloading tensorflow_datasets-4.3.0-py3-none-any.whl (3.9 MB)\n",
            "\u001b[K     |████████████████████████████████| 3.9 MB 5.1 MB/s \n",
            "\u001b[?25hRequirement already satisfied: dill in /usr/local/lib/python3.7/dist-packages (from tensorflow_datasets) (0.3.4)\n",
            "Requirement already satisfied: promise in /usr/local/lib/python3.7/dist-packages (from tensorflow_datasets) (2.3)\n",
            "Requirement already satisfied: future in /usr/local/lib/python3.7/dist-packages (from tensorflow_datasets) (0.16.0)\n",
            "Requirement already satisfied: requests>=2.19.0 in /usr/local/lib/python3.7/dist-packages (from tensorflow_datasets) (2.23.0)\n",
            "Requirement already satisfied: numpy in /usr/local/lib/python3.7/dist-packages (from tensorflow_datasets) (1.19.5)\n",
            "Requirement already satisfied: six in /usr/local/lib/python3.7/dist-packages (from tensorflow_datasets) (1.15.0)\n",
            "Requirement already satisfied: typing-extensions in /usr/local/lib/python3.7/dist-packages (from tensorflow_datasets) (3.7.4.3)\n",
            "Requirement already satisfied: importlib-resources in /usr/local/lib/python3.7/dist-packages (from tensorflow_datasets) (5.2.0)\n",
            "Requirement already satisfied: termcolor in /usr/local/lib/python3.7/dist-packages (from tensorflow_datasets) (1.1.0)\n",
            "Requirement already satisfied: protobuf>=3.12.2 in /usr/local/lib/python3.7/dist-packages (from tensorflow_datasets) (3.17.3)\n",
            "Requirement already satisfied: attrs>=18.1.0 in /usr/local/lib/python3.7/dist-packages (from tensorflow_datasets) (21.2.0)\n",
            "Requirement already satisfied: absl-py in /usr/local/lib/python3.7/dist-packages (from tensorflow_datasets) (0.12.0)\n",
            "Requirement already satisfied: tqdm in /usr/local/lib/python3.7/dist-packages (from tensorflow_datasets) (4.41.1)\n",
            "Requirement already satisfied: tensorflow-metadata in /usr/local/lib/python3.7/dist-packages (from tensorflow_datasets) (1.1.0)\n",
            "Requirement already satisfied: chardet<4,>=3.0.2 in /usr/local/lib/python3.7/dist-packages (from requests>=2.19.0->tensorflow_datasets) (3.0.4)\n",
            "Requirement already satisfied: certifi>=2017.4.17 in /usr/local/lib/python3.7/dist-packages (from requests>=2.19.0->tensorflow_datasets) (2021.5.30)\n",
            "Requirement already satisfied: urllib3!=1.25.0,!=1.25.1,<1.26,>=1.21.1 in /usr/local/lib/python3.7/dist-packages (from requests>=2.19.0->tensorflow_datasets) (1.24.3)\n",
            "Requirement already satisfied: idna<3,>=2.5 in /usr/local/lib/python3.7/dist-packages (from requests>=2.19.0->tensorflow_datasets) (2.10)\n",
            "Requirement already satisfied: zipp>=3.1.0 in /usr/local/lib/python3.7/dist-packages (from importlib-resources->tensorflow_datasets) (3.5.0)\n",
            "Requirement already satisfied: googleapis-common-protos<2,>=1.52.0 in /usr/local/lib/python3.7/dist-packages (from tensorflow-metadata->tensorflow_datasets) (1.53.0)\n",
            "Installing collected packages: tensorflow-datasets\n",
            "  Attempting uninstall: tensorflow-datasets\n",
            "    Found existing installation: tensorflow-datasets 4.0.1\n",
            "    Uninstalling tensorflow-datasets-4.0.1:\n",
            "      Successfully uninstalled tensorflow-datasets-4.0.1\n",
            "Successfully installed tensorflow-datasets-4.3.0\n"
          ],
          "name": "stdout"
        }
      ]
    },
    {
      "cell_type": "code",
      "metadata": {
        "id": "dPSA_Xm1IaDw"
      },
      "source": [
        "import tensorflow as tf"
      ],
      "execution_count": 2,
      "outputs": []
    },
    {
      "cell_type": "code",
      "metadata": {
        "id": "b0UYAe5mIbWP"
      },
      "source": [
        "# TensorFlow Datasets'in içeri aktarılması\n",
        "import tensorflow_datasets as tfds\n",
        "tfds.disable_progress_bar()\n",
        "\n",
        "# Yardımcı olacak diğer Python kütüphaneleri\n",
        "import math\n",
        "import numpy as np\n",
        "import matplotlib.pyplot as plt"
      ],
      "execution_count": 3,
      "outputs": []
    },
    {
      "cell_type": "code",
      "metadata": {
        "id": "7rl5je0WIkPH"
      },
      "source": [
        "# Ve önceki colab dosyalarında olduğu gibi hataları görmek için gereken kod bloğu\n",
        "import logging\n",
        "logger = tf.get_logger()\n",
        "logger.setLevel(logging.ERROR)"
      ],
      "execution_count": 4,
      "outputs": []
    },
    {
      "cell_type": "markdown",
      "metadata": {
        "id": "r51BjHdwIvmC"
      },
      "source": [
        "## Fashion MNIST Veri Setinin İçeri Aktarılması"
      ]
    },
    {
      "cell_type": "markdown",
      "metadata": {
        "id": "niPMd5baI1oa"
      },
      "source": [
        "Bu başlık altında, 10 kategoride 70000 gri tonlamalı görüntü içeren [Fashion MNIST](https://github.com/zalandoresearch/fashion-mnist) veri kümesini kullanıyoruz. Görüntüleri aşağıda görüldüğü gibi düşük çözünürlükte (28 x 28 piksel) olan ve her bir ayrı ayrı giyim eşyaları olan görsellerdir.\n",
        "\n",
        "<table>\n",
        "  <tr><td>\n",
        "    <img src=\"https://tensorflow.org/images/fashion-mnist-sprite.png\"\n",
        "         alt=\"Fashion MNIST sprite\" width=\"600\">\n",
        "  </td></tr>\n",
        "  <tr><td align=\"center\">\n",
        "    <b>Figure 1.</b> <a href=\"https://github.com/zalandoresearch/fashion-mnist\">Fashion-MNIST samples</a> (by Zalando, MIT License).<br/>&nbsp;\n",
        "  </td></tr>\n",
        "</table>\n",
        "\n",
        "**Fashion MNIST**, genellikle bilgisayarlı görü için makine öğrenimi programlarının \"Merhaba Dünya!\"sı (Hello World!) olarak kullanılan klasik [MNIST](http://yann.lecun.com/exdb/mnist/) veri setinin yerini alacak şekilde tasarlanmıştır. MNIST veri seti, burada kullanacağımız giyim eşyalarıyla aynı formatta el yazısı rakamlarından oluşan (0, 1, 2, vb.) görüntüleri de içerir.\n",
        "\n",
        "Bu kılavuz, Fashion MNIST'i çeşitlilik için kullanır çünkü bu normal MNIST veri setinden biraz daha zorlayıcı problemler içerir. Her iki veri kümesi de küçüktür ve bir algoritmanın beklendiği gibi çalışıp çalışmadığını kontrol etmek (doğrulamak) için kullanılır. Kodu test etmek ve hata ayıklamak için iyi bir seçimdir.\n",
        "\n",
        "Sinir ağımızı eğitmek için 60000 görüntü ve ağın görüntüleri sınıflandırmayı ne kadar doğru yaptığını değerlendirmek için 10000 görüntü kullanacağız. Fashion MNIST veri setine [Datasets](https://www.tensorflow.org/datasets) API sayesinde doğrudan TensorFlow üzerinden erişebiliriz.\n"
      ]
    },
    {
      "cell_type": "code",
      "metadata": {
        "colab": {
          "base_uri": "https://localhost:8080/"
        },
        "id": "mr3xD1HCIrX_",
        "outputId": "4a6e5187-c6ef-4e95-e542-a1b636b9f2b4"
      },
      "source": [
        "dataset, metadata = tfds.load('fashion_mnist', as_supervised=True, with_info=True)\n",
        "train_dataset, test_dataset = dataset['train'], dataset['test']"
      ],
      "execution_count": 6,
      "outputs": [
        {
          "output_type": "stream",
          "text": [
            "\u001b[1mDownloading and preparing dataset 29.45 MiB (download: 29.45 MiB, generated: 36.42 MiB, total: 65.87 MiB) to /root/tensorflow_datasets/fashion_mnist/3.0.1...\u001b[0m\n",
            "\u001b[1mDataset fashion_mnist downloaded and prepared to /root/tensorflow_datasets/fashion_mnist/3.0.1. Subsequent calls will reuse this data.\u001b[0m\n"
          ],
          "name": "stdout"
        }
      ]
    },
    {
      "cell_type": "markdown",
      "metadata": {
        "id": "5jmph-ZAK50S"
      },
      "source": [
        "Veri kümesini yüklediğimizde eğitim ve test veri kümesinin yanı sıra meta verilerini de geri döndürür.\n",
        "\n",
        "* Modeli `train_dataset` kullanarak eğiteceğiz.\n",
        "* Modeli `test_dataset` kullanarak test edeceğiz.\n",
        "\n",
        "Görüntüler, piksel değerleri `0-255` aralığında olan 28 x 28 bir dizidir. Etiketler ise `0-9` aralığında bir tam sayı dizisidir. Bu sayılar, görüntünün temsil ettiği giysi sınıfına karşılır gelir:\n",
        "\n",
        "<table>\n",
        "  <tr>\n",
        "    <th>Label</th>\n",
        "    <th>Class</th>\n",
        "  </tr>\n",
        "  <tr>\n",
        "    <td>0</td>\n",
        "    <td>T-shirt/top</td>\n",
        "  </tr>\n",
        "  <tr>\n",
        "    <td>1</td>\n",
        "    <td>Trouser</td>\n",
        "  </tr>\n",
        "    <tr>\n",
        "    <td>2</td>\n",
        "    <td>Pullover</td>\n",
        "  </tr>\n",
        "    <tr>\n",
        "    <td>3</td>\n",
        "    <td>Dress</td>\n",
        "  </tr>\n",
        "    <tr>\n",
        "    <td>4</td>\n",
        "    <td>Coat</td>\n",
        "  </tr>\n",
        "    <tr>\n",
        "    <td>5</td>\n",
        "    <td>Sandal</td>\n",
        "  </tr>\n",
        "    <tr>\n",
        "    <td>6</td>\n",
        "    <td>Shirt</td>\n",
        "  </tr>\n",
        "    <tr>\n",
        "    <td>7</td>\n",
        "    <td>Sneaker</td>\n",
        "  </tr>\n",
        "    <tr>\n",
        "    <td>8</td>\n",
        "    <td>Bag</td>\n",
        "  </tr>\n",
        "    <tr>\n",
        "    <td>9</td>\n",
        "    <td>Ankle boot</td>\n",
        "  </tr>\n",
        "</table>\n",
        "\n",
        "Her görüntü tek bir etiketle eşleşir. Sınıf adları veri kümesine dahil edilmediği inin, daha sonra görüntüleri çizerken kullanmak üzeri onları saklayalım : \n"
      ]
    },
    {
      "cell_type": "code",
      "metadata": {
        "colab": {
          "base_uri": "https://localhost:8080/"
        },
        "id": "RJJXfIazL4Wu",
        "outputId": "396b5195-d38c-4d2a-8bb8-763bba118fad"
      },
      "source": [
        "class_names = metadata.features['label'].names\n",
        "print(\"Class names: {}\".format(class_names))"
      ],
      "execution_count": 7,
      "outputs": [
        {
          "output_type": "stream",
          "text": [
            "Class names: ['T-shirt/top', 'Trouser', 'Pullover', 'Dress', 'Coat', 'Sandal', 'Shirt', 'Sneaker', 'Bag', 'Ankle boot']\n"
          ],
          "name": "stdout"
        }
      ]
    },
    {
      "cell_type": "markdown",
      "metadata": {
        "id": "lFlh1PcEL6c7"
      },
      "source": [
        "### Verileri Keşfedelim\n",
        "\n",
        "Modeli eğitmeden önce veri kümesinin biçimini inceleyelim. Aşağıdakiler, eğitim setinde 60000 ve test setinde ise 10000 görüntü olduğunu göstermektedir."
      ]
    },
    {
      "cell_type": "code",
      "metadata": {
        "colab": {
          "base_uri": "https://localhost:8080/"
        },
        "id": "-e8LEoLfMhKY",
        "outputId": "a3f1b6c8-7bd1-41f5-9a0f-d9ebb1d53db2"
      },
      "source": [
        "num_train_examples = metadata.splits['train'].num_examples\n",
        "num_test_examples = metadata.splits['test'].num_examples\n",
        "print(\"Eğitim veri setimizdeki örnek sayımız : {}\".format(num_train_examples))\n",
        "print(\"Test veri setimizdeki örnek sayımız   : {}\".format(num_test_examples))"
      ],
      "execution_count": 9,
      "outputs": [
        {
          "output_type": "stream",
          "text": [
            "Eğitim veri setimizdeki örnek sayımız : 60000\n",
            "Test veri setimizdeki örnek sayımız   : 10000\n"
          ],
          "name": "stdout"
        }
      ]
    },
    {
      "cell_type": "markdown",
      "metadata": {
        "id": "siI4f666coIB"
      },
      "source": [
        "## Verilerin Ön İşlenmesi\n",
        "\n",
        "Görüntü verilerindeki her pikselin değer `0-255` aralığında bir tam sayıdır. Modelin düzgün çalışması için bu değerlerin `0-1` aralığına normalleştirilmesi gerekir. Yani burada bir normelleştirme işlevi (fonksiyonu) oluşturuyoruz ve ardından bunu hem eğitim hem de test veri setimizdeki her görüntüye uyguluyoruz.\n"
      ]
    },
    {
      "cell_type": "code",
      "metadata": {
        "id": "78Kf04WKMpjm"
      },
      "source": [
        "def normalize(images, labels):\n",
        "  images = tf.cast(images, tf.float32)\n",
        "  images /= 255\n",
        "  return images, labels\n",
        "\n",
        "# map işlevi, normelleştirmeyi eğitim ve test veri setimizdeki her öğeye uygular.\n",
        "train_dataset =  train_dataset.map(normalize)\n",
        "test_dataset  =  test_dataset.map(normalize)\n",
        "\n",
        "# Veri setini ilk kullandığımızda, görüntüler diskten yüklenecektir.\n",
        "# Ön belleğe alma, onları bellekte tutacak ve eğitimi daha hızlı hale getirecektir.\n",
        "train_dataset =  train_dataset.cache()\n",
        "test_dataset  =  test_dataset.cache()"
      ],
      "execution_count": 10,
      "outputs": []
    },
    {
      "cell_type": "markdown",
      "metadata": {
        "id": "FpxV_Yepdqsc"
      },
      "source": [
        "### İşlenen Verilere Göz Atalım\n",
        "\n",
        "Nasıl göründüklerini görmek için `matplotlib` kütüphanesini kullanarak resimlerini çizelim."
      ]
    },
    {
      "cell_type": "code",
      "metadata": {
        "colab": {
          "base_uri": "https://localhost:8080/",
          "height": 269
        },
        "id": "_ksQ5SSwdo6x",
        "outputId": "42cc1f2c-e3f5-4403-b3e3-99b0c454b9c9"
      },
      "source": [
        "# Tek bir görüntü alır ve yeniden şekillendirir. Renk boyutunu kaldırır.\n",
        "for image, label in test_dataset.take(1):\n",
        "  break\n",
        "image = image.numpy().reshape((28,28))\n",
        "\n",
        "# Resmi çizdirelim.\n",
        "plt.figure()\n",
        "plt.imshow(image, cmap=plt.cm.binary)\n",
        "plt.colorbar()\n",
        "plt.grid(False)\n",
        "plt.show()"
      ],
      "execution_count": 11,
      "outputs": [
        {
          "output_type": "display_data",
          "data": {
            "image/png": "[encoded data removed]",
            "text/plain": [
              "<Figure size 432x288 with 2 Axes>"
            ]
          },
          "metadata": {
            "tags": [],
            "needs_background": "light"
          }
        }
      ]
    },
    {
      "cell_type": "markdown",
      "metadata": {
        "id": "xilLBq0JeMAT"
      },
      "source": [
        "Şimdi de eğitim setindeki ilk 25 resmi görüntüleyelim ve her resmin altında sınıf adını görüntüleyelim. Verilerin doğru biçimde olduğunu doğruladıktan sonra ağı oluşturmaya ve ağımızı eğitmeye geçebiliriz."
      ]
    },
    {
      "cell_type": "code",
      "metadata": {
        "colab": {
          "base_uri": "https://localhost:8080/",
          "height": 589
        },
        "id": "4KECLTFMeJMI",
        "outputId": "68364b2c-ac0c-4dad-f3b0-ca0118560fc2"
      },
      "source": [
        "plt.figure(figsize=(10,10))\n",
        "for i, (image, label) in enumerate(test_dataset.take(25)):\n",
        "    image = image.numpy().reshape((28,28))\n",
        "    plt.subplot(5,5,i+1)\n",
        "    plt.xticks([])\n",
        "    plt.yticks([])\n",
        "    plt.grid(False)\n",
        "    plt.imshow(image, cmap=plt.cm.binary)\n",
        "    plt.xlabel(class_names[label])\n",
        "plt.show()"
      ],
      "execution_count": 12,
      "outputs": [
        {
          "output_type": "display_data",
          "data": {
            "image/png": "[encoded data removed]",
            "text/plain": [
              "<Figure size 720x720 with 25 Axes>"
            ]
          },
          "metadata": {
            "tags": []
          }
        }
      ]
    },
    {
      "cell_type": "markdown",
      "metadata": {
        "id": "KnS5HIW0eijx"
      },
      "source": [
        "## Modelin Oluşturulması\n",
        "\n",
        "Sinir ağının oluşturulması, modelin katmanlarının ayarlanması ve ardından modelin derlenmesi aşamalarının bütünüdür."
      ]
    },
    {
      "cell_type": "markdown",
      "metadata": {
        "id": "K0wsAgAiexDD"
      },
      "source": [
        "### Katmanların Ayarlanması\n",
        "\n",
        "Bir sinir ağının temel yapı taşı katmanlardır (*layer*). Bir katman, kendisini besleyen (girdi olarak gelen) verilerden bir temsil çıkarır.\n",
        "\n",
        "Derin öğrenmenin çoğı, basit katmanların birbirine zincirlenmesinden oluşmaktadır. `tf.keras.layers.Dense` gibi çoğu katman, eğitim sırasında ayarlanan yani öğrenilen (*learned*) dahili parametrelere sahiptir."
      ]
    },
    {
      "cell_type": "code",
      "metadata": {
        "id": "d3hoQL3nef9o"
      },
      "source": [
        "model = tf.keras.Sequential([\n",
        "    tf.keras.layers.Flatten(input_shape=(28, 28, 1)),\n",
        "    tf.keras.layers.Dense(128, activation=tf.nn.relu),\n",
        "    tf.keras.layers.Dense(10, activation=tf.nn.softmax)\n",
        "])"
      ],
      "execution_count": 13,
      "outputs": []
    },
    {
      "cell_type": "markdown",
      "metadata": {
        "id": "C-c0iKC4fe6i"
      },
      "source": [
        "Bu ağın üç katmanı vardır:\n",
        "\n",
        "* **Girdi (input) :** `tf.keras.layers.Flatten` — Bu katman görüntüleri 28 x 28 piksellik bir 2 boyutlu diziden 784 (28*28) piksellik bir boyutlu bir diziye dönüştürür. Bu katmanı, görüntüdeki piksel sıralarını kaldırmak ve bunları hizalamak olarak düşünebiliriz. Bu katman, yalnızca verileri yeniden biçimlendirmek için kullanıldığı için öğrenilecek parametreye sahip değildir.\n",
        "\n",
        "* **Gizlenmiş (hidden) :** `tf.keras.layers.Dense` — 128 nörondan oluşan yoğun bağlantılı bir katmandır. Her nöron (veya düğüm), önceki katmandaki 784 düğümün hepsinden girdi alır ve bu girdiyi eğitim sırasında öğrenilecek gizli parametrelere göre ağırlıklandırır. Bu işlemden sonra sonraki katmana tek bir değer verir.\n",
        "\n",
        "* **Çıktı (output) :** `tf.keras.layers.Dense` — 128 nörondan ve 10 düğümlü bir softmax katmanıdır. Her düğüm bir giysi sınıfını temsil etmektedir. Önceki katmanda olduğu gibi, son katman önceki katmandaki 128 düğümden girdi alır ve görüntünün o sınıfa ait olma olasılığını temsil eden `0-1` arası bir değer verir. 10 düğümdeki değerlerin toplamı 1 olmalıdır.\n",
        "\n",
        "\n"
      ]
    },
    {
      "cell_type": "markdown",
      "metadata": {
        "id": "Xjx-LNf-hSS5"
      },
      "source": [
        "> Not: `softmax` aktivasyonu ve `SparseCategoricalCrossentropy()` kullanımında sorunlar vardı ve bunlar `tf.keras` modeli tarafından düzeltildi. Genel olarak daha güvenli bir yaklaşım olarak `SparseCategoricalCrossentropy(from_logits=True)` ile aktivasyon fonskiyonu olmadan doğrusal bir çıktı kullanılır."
      ]
    },
    {
      "cell_type": "markdown",
      "metadata": {
        "id": "4si3u-yBiAFg"
      },
      "source": [
        "### Modelin Derlenmesi\n",
        "\n",
        "Model eğitime hazır olmadan önce birkaç ayara daha ihtiyacı var. Bunlar modelin derleme adımı sırasında eklenir:\n",
        "\n",
        "* Kayıf Fonksiyonu (*Loss Function*) — Modelin çıktıların istenen çıktıdan ne kadar uzakda olduğunu ölçmek için bir algoritmadır. Eğitimin amacı, bu kaybı ölçmektir.\n",
        "\n",
        "* Optimize Edici (*Optimizer*) — Kaybı en aza indirmek için modelin iç parametrelerini ayarlamada kullanılan bir algoritmadır.\n",
        "\n",
        "* Metrikler (*Metrics*) — Eğitim ve test adımlarını izlemek için kullanılır. Aşağıdaki kod bloğunda metrik olarak `accuracy` yani doğruluk metriği kullanılmıştır."
      ]
    },
    {
      "cell_type": "code",
      "metadata": {
        "id": "KjKIhrarfZEw"
      },
      "source": [
        "model.compile(optimizer='adam',\n",
        "              loss=tf.keras.losses.SparseCategoricalCrossentropy(),\n",
        "              metrics=['accuracy'])"
      ],
      "execution_count": 14,
      "outputs": []
    },
    {
      "cell_type": "markdown",
      "metadata": {
        "id": "MCBQRyBvjJHy"
      },
      "source": [
        "## Modelin Eğitilmesi\n",
        "\n",
        "İlk olarak, eğitimm ve veri setimiz için yineleme davranışını tanımlarız:\n",
        "\n",
        "1. `dataset.repeat()` öğesini belirterek sonsuza kadar tekrarlarız. (Aşağıdaki `epochs` parametresi, ne kadar süreyle eğitim gerçekleştireceğimizi sınırlar.)\n",
        "\n",
        "2. `dataset.shuffle(60000)` sırayı rastgele olarak ayarlar, böylece modelimiz örneklerin sırasından dolayı hiçbir şey öğrenmemiş olur.\n",
        "\n",
        "3. `dataset.batch(32)` ise `model.fit` yöntemine, model değişkenlerini güncellerken 32 görüntü ve etiketten oluşan yığınları kullanmasını söyler.\n",
        "\n",
        "`model.fit` yöntemi çağrılarak eğitim gerçekleştirilir:\n",
        "1. `train_dataset` kullanarak eğitim verileriyle modelimizi besleriz.\n",
        "2. Modelimiz görüntüleri ve etiketleri ilişkilendirmeyi öğrenir.\n",
        "3. `epochs = 5` parametresi, eğitim veri kümesi ile eğitimin 5 tam yinelenmesi ile sınırlar, yani model tplam 5* 60000 = 300000 girdi alır.\n",
        "\n",
        "\n"
      ]
    },
    {
      "cell_type": "code",
      "metadata": {
        "id": "HdLoFwA6jGtA"
      },
      "source": [
        "BATCH_SIZE = 32\n",
        "train_dataset = train_dataset.cache().repeat().shuffle(num_train_examples).batch(BATCH_SIZE)\n",
        "test_dataset = test_dataset.cache().batch(BATCH_SIZE)"
      ],
      "execution_count": 15,
      "outputs": []
    },
    {
      "cell_type": "code",
      "metadata": {
        "colab": {
          "base_uri": "https://localhost:8080/"
        },
        "id": "9D93Kdf8k4fA",
        "outputId": "a918b6de-c966-4576-96fa-217f7408ae75"
      },
      "source": [
        "model.fit(train_dataset, epochs=5, steps_per_epoch=math.ceil(num_train_examples/BATCH_SIZE))"
      ],
      "execution_count": 16,
      "outputs": [
        {
          "output_type": "stream",
          "text": [
            "Epoch 1/5\n",
            "1875/1875 [==============================] - 9s 2ms/step - loss: 0.4929 - accuracy: 0.8257\n",
            "Epoch 2/5\n",
            "1875/1875 [==============================] - 4s 2ms/step - loss: 0.3685 - accuracy: 0.8681\n",
            "Epoch 3/5\n",
            "1875/1875 [==============================] - 4s 2ms/step - loss: 0.3375 - accuracy: 0.8766\n",
            "Epoch 4/5\n",
            "1875/1875 [==============================] - 4s 2ms/step - loss: 0.3122 - accuracy: 0.8845\n",
            "Epoch 5/5\n",
            "1875/1875 [==============================] - 4s 2ms/step - loss: 0.2920 - accuracy: 0.8931\n"
          ],
          "name": "stdout"
        },
        {
          "output_type": "execute_result",
          "data": {
            "text/plain": [
              "<tensorflow.python.keras.callbacks.History at 0x7f2ce4085810>"
            ]
          },
          "metadata": {
            "tags": []
          },
          "execution_count": 16
        }
      ]
    },
    {
      "cell_type": "markdown",
      "metadata": {
        "id": "yOaEEEHhk6qQ"
      },
      "source": [
        "Model ilerlerken, kayıp (loss) ve doğruluk (accuracy) metriklerigörüntüülenir. Bu model, eğitim verilerinde yaklaşık 0.89 (%89) doğruluğa ulaşır."
      ]
    },
    {
      "cell_type": "markdown",
      "metadata": {
        "id": "M4Ddz0BDlLJf"
      },
      "source": [
        "## Doğruluğun (accuracy) Değerlendirilmesi\n",
        "\n",
        "Sırada modelin test veri kümesinde nasıl performans gösterdiğini görelim. Doğrulu değerlendirmek için test veri setindeki tüm örnekleri kullanalım."
      ]
    },
    {
      "cell_type": "code",
      "metadata": {
        "colab": {
          "base_uri": "https://localhost:8080/"
        },
        "id": "KRc7kD2Qk5kf",
        "outputId": "cb839229-ba0f-4c5b-e9d1-22e6fa1a40b9"
      },
      "source": [
        "test_loss, test_accuracy = model.evaluate(test_dataset, steps=math.ceil(num_test_examples/32))\n",
        "print('Test veri setinin doğruluk (accuracy) değeri:', test_accuracy)"
      ],
      "execution_count": 17,
      "outputs": [
        {
          "output_type": "stream",
          "text": [
            "313/313 [==============================] - 2s 4ms/step - loss: 0.3561 - accuracy: 0.8722\n",
            "Test veri setinin doğruluk (accuracy) değeri: 0.8722000122070312\n"
          ],
          "name": "stdout"
        }
      ]
    },
    {
      "cell_type": "markdown",
      "metadata": {
        "id": "Ef9ZkDWplqmZ"
      },
      "source": [
        "Sonuç olarak, test veri setindeki doğruluk eğitim veri setindeki doğruluktan daha küçüktür. Model, `train_dataset` üzerinden eğitildiği için bu tamamiyle normaldir. Model, eğitim sırasında hiç görmediği (yani `test_dataset`) görüntülerle karşılaştığında, performansının düşmesini bekleyebiliriz."
      ]
    },
    {
      "cell_type": "markdown",
      "metadata": {
        "id": "ppwLx2kTmCdE"
      },
      "source": [
        "## Tahminlerde Bulunma\n",
        "\n",
        "Eğitilen modeli bazı görüntüler hakkında tahmin yapmak için kullanabiliriz."
      ]
    },
    {
      "cell_type": "code",
      "metadata": {
        "id": "9c4pNVUilnD4"
      },
      "source": [
        "for test_images, test_labels in test_dataset.take(1):\n",
        "  test_images = test_images.numpy()\n",
        "  test_labels = test_labels.numpy()\n",
        "  predictions = model.predict(test_images)"
      ],
      "execution_count": 18,
      "outputs": []
    },
    {
      "cell_type": "code",
      "metadata": {
        "colab": {
          "base_uri": "https://localhost:8080/"
        },
        "id": "AdKDW5xSmUT3",
        "outputId": "6ae7aa6b-b590-4f5d-e16e-c9cf56c0e629"
      },
      "source": [
        "predictions.shape\n"
      ],
      "execution_count": 19,
      "outputs": [
        {
          "output_type": "execute_result",
          "data": {
            "text/plain": [
              "(32, 10)"
            ]
          },
          "metadata": {
            "tags": []
          },
          "execution_count": 19
        }
      ]
    },
    {
      "cell_type": "markdown",
      "metadata": {
        "id": "JUV7cVRDmXjm"
      },
      "source": [
        "Burada model, test setindeki her görüntğ için etiket tahmin etmiştir. İlk tahminine bir göz atalım : "
      ]
    },
    {
      "cell_type": "code",
      "metadata": {
        "colab": {
          "base_uri": "https://localhost:8080/"
        },
        "id": "RYj7U9LJmV1G",
        "outputId": "e6386926-4787-44d5-bf8d-05b0ec8e971d"
      },
      "source": [
        "predictions[0]"
      ],
      "execution_count": 20,
      "outputs": [
        {
          "output_type": "execute_result",
          "data": {
            "text/plain": [
              "array([1.4138373e-05, 3.2118066e-07, 2.0027706e-02, 2.9864859e-06,\n",
              "       9.5776451e-01, 1.5086441e-08, 2.2183143e-02, 3.8267519e-08,\n",
              "       7.1750851e-06, 5.0645149e-10], dtype=float32)"
            ]
          },
          "metadata": {
            "tags": []
          },
          "execution_count": 20
        }
      ]
    },
    {
      "cell_type": "markdown",
      "metadata": {
        "id": "PCYuw9VOmjB3"
      },
      "source": [
        "Tahmin, 10 sayıdan oluşan bir dizidir. Bu değerler, görüntünün 10 farklı giysi sınıfından her birine eşleşme durumunun güvenilirliğini (confidence) tanımlar. Hangi etiketin en yüksek güven değerine sahip olduğunu görebiliriz:"
      ]
    },
    {
      "cell_type": "code",
      "metadata": {
        "colab": {
          "base_uri": "https://localhost:8080/"
        },
        "id": "FM8YERhrmhGG",
        "outputId": "49477e76-bcfe-457b-dba1-b0e84942322e"
      },
      "source": [
        "np.argmax(predictions[0])"
      ],
      "execution_count": 21,
      "outputs": [
        {
          "output_type": "execute_result",
          "data": {
            "text/plain": [
              "4"
            ]
          },
          "metadata": {
            "tags": []
          },
          "execution_count": 21
        }
      ]
    },
    {
      "cell_type": "markdown",
      "metadata": {
        "id": "1dvs5jojnAJp"
      },
      "source": [
        "Çıktıdan anlaşılacağı gibi, bu görüntünün kaban veya `class_names[4]` olduğundan çok emindir. Bunun doğru olup olmadığını görmek için test etiketini kontrol edebiliriz :"
      ]
    },
    {
      "cell_type": "code",
      "metadata": {
        "colab": {
          "base_uri": "https://localhost:8080/"
        },
        "id": "JmHI-6iLm8xY",
        "outputId": "39e82cb5-164c-44ed-8b9a-6a40b47007c8"
      },
      "source": [
        "test_labels[0]"
      ],
      "execution_count": 22,
      "outputs": [
        {
          "output_type": "execute_result",
          "data": {
            "text/plain": [
              "4"
            ]
          },
          "metadata": {
            "tags": []
          },
          "execution_count": 22
        }
      ]
    },
    {
      "cell_type": "markdown",
      "metadata": {
        "id": "lrIUeGHdnXix"
      },
      "source": [
        "Verilen çıktı modelimizin tahminini doğrular nitelikte. 10 sınıf tahminlerinin tamamına bakmak için bunun grafiğini çizebiliriz:"
      ]
    },
    {
      "cell_type": "code",
      "metadata": {
        "id": "xHkJgh4XnVq4"
      },
      "source": [
        "def plot_image(i, predictions_array, true_labels, images):\n",
        "  predictions_array, true_label, img = predictions_array[i], true_labels[i], images[i]\n",
        "  plt.grid(False)\n",
        "  plt.xticks([])\n",
        "  plt.yticks([])\n",
        "  \n",
        "  plt.imshow(img[...,0], cmap=plt.cm.binary)\n",
        "\n",
        "  predicted_label = np.argmax(predictions_array)\n",
        "  if predicted_label == true_label:\n",
        "    color = 'blue'\n",
        "  else:\n",
        "    color = 'red'\n",
        "  \n",
        "  plt.xlabel(\"{} {:2.0f}% ({})\".format(class_names[predicted_label],\n",
        "                                100*np.max(predictions_array),\n",
        "                                class_names[true_label]),\n",
        "                                color=color)\n",
        "\n",
        "def plot_value_array(i, predictions_array, true_label):\n",
        "  predictions_array, true_label = predictions_array[i], true_label[i]\n",
        "  plt.grid(False)\n",
        "  plt.xticks([])\n",
        "  plt.yticks([])\n",
        "  thisplot = plt.bar(range(10), predictions_array, color=\"#777777\")\n",
        "  plt.ylim([0, 1]) \n",
        "  predicted_label = np.argmax(predictions_array)\n",
        "  \n",
        "  thisplot[predicted_label].set_color('red')\n",
        "  thisplot[true_label].set_color('blue')"
      ],
      "execution_count": 23,
      "outputs": []
    },
    {
      "cell_type": "markdown",
      "metadata": {
        "id": "TTLp1QuAnoRd"
      },
      "source": [
        "Hadi sıfırıncı (0.) görüntüye ve tahmin dizisine bakalım :"
      ]
    },
    {
      "cell_type": "code",
      "metadata": {
        "colab": {
          "base_uri": "https://localhost:8080/",
          "height": 203
        },
        "id": "Iu5a_yfJnkvv",
        "outputId": "e26b153a-cb7a-4e1d-fe04-2335328778d2"
      },
      "source": [
        "i = 0\n",
        "plt.figure(figsize=(6,3))\n",
        "plt.subplot(1,2,1)\n",
        "plot_image(i, predictions, test_labels, test_images)\n",
        "plt.subplot(1,2,2)\n",
        "plot_value_array(i, predictions, test_labels)"
      ],
      "execution_count": 24,
      "outputs": [
        {
          "output_type": "display_data",
          "data": {
            "image/png": "[encoded data removed]",
            "text/plain": [
              "<Figure size 432x216 with 2 Axes>"
            ]
          },
          "metadata": {
            "tags": []
          }
        }
      ]
    },
    {
      "cell_type": "code",
      "metadata": {
        "colab": {
          "base_uri": "https://localhost:8080/",
          "height": 203
        },
        "id": "MELvNc0lnuyf",
        "outputId": "1e996b12-7ded-4f74-d3bf-2685ab26b0b8"
      },
      "source": [
        "i = 12\n",
        "plt.figure(figsize=(6,3))\n",
        "plt.subplot(1,2,1)\n",
        "plot_image(i, predictions, test_labels, test_images)\n",
        "plt.subplot(1,2,2)\n",
        "plot_value_array(i, predictions, test_labels)"
      ],
      "execution_count": 25,
      "outputs": [
        {
          "output_type": "display_data",
          "data": {
            "image/png": "[encoded data removed]",
            "text/plain": [
              "<Figure size 432x216 with 2 Axes>"
            ]
          },
          "metadata": {
            "tags": []
          }
        }
      ]
    },
    {
      "cell_type": "markdown",
      "metadata": {
        "id": "2oJKN1_gnzyl"
      },
      "source": [
        "Şimdi de tahminlerle birlikte birkaç resim çizelim. Doğru tahmin edilen etiketler mavi ve yanlış tahmin edilenler kırmızı renkle görünecektir. Sayı ise tahmin edilen etiket için yüzdeyi verir. Güven çok yüksek olsa bile yanlış çıkabileceği gerçeğini unutmayalım."
      ]
    },
    {
      "cell_type": "code",
      "metadata": {
        "colab": {
          "base_uri": "https://localhost:8080/",
          "height": 589
        },
        "id": "YM3UT0VmnwMG",
        "outputId": "83d3a709-f380-4108-ca39-06272095acfe"
      },
      "source": [
        "# İlk test görüntülerini, ardından tahmin edilen ve gerçek etiketleri gösterelim.\n",
        "num_rows = 5\n",
        "num_cols = 3\n",
        "num_images = num_rows*num_cols\n",
        "plt.figure(figsize=(2*2*num_cols, 2*num_rows))\n",
        "for i in range(num_images):\n",
        "  plt.subplot(num_rows, 2*num_cols, 2*i+1)\n",
        "  plot_image(i, predictions, test_labels, test_images)\n",
        "  plt.subplot(num_rows, 2*num_cols, 2*i+2)\n",
        "  plot_value_array(i, predictions, test_labels)"
      ],
      "execution_count": 26,
      "outputs": [
        {
          "output_type": "display_data",
          "data": {
            "image/png": "[encoded data removed]",
            "text/plain": [
              "<Figure size 864x720 with 30 Axes>"
            ]
          },
          "metadata": {
            "tags": []
          }
        }
      ]
    },
    {
      "cell_type": "markdown",
      "metadata": {
        "id": "3j0I6clIoZRG"
      },
      "source": [
        "Şimdi de tek bir görüntü hakkında tahminde bulunmak için eğitmiş olduğumuz modeli kullanalım:"
      ]
    },
    {
      "cell_type": "code",
      "metadata": {
        "colab": {
          "base_uri": "https://localhost:8080/"
        },
        "id": "OSxQ7Ll6oVw5",
        "outputId": "dadfafbe-7085-4005-b9a3-b0cdc3827bf0"
      },
      "source": [
        "# Test veri kümesinden bir görüntü alalım\n",
        "img = test_images[0]\n",
        "\n",
        "print(img.shape)"
      ],
      "execution_count": 27,
      "outputs": [
        {
          "output_type": "stream",
          "text": [
            "(28, 28, 1)\n"
          ],
          "name": "stdout"
        }
      ]
    },
    {
      "cell_type": "markdown",
      "metadata": {
        "id": "GiqG1MNIowMy"
      },
      "source": [
        "`tf.keras` modelleri, bir seferde bir grup veya örnek koleksiyonu üzerinde tahminler yapmak için optimize edilmiştir. Yani tek bir resim kullanıyor olsak bile onu bir listeye eklememiz gerekir."
      ]
    },
    {
      "cell_type": "code",
      "metadata": {
        "colab": {
          "base_uri": "https://localhost:8080/"
        },
        "id": "YsSZTcTWouK-",
        "outputId": "8f0dd482-821b-4014-b9ba-df818cc5a60b"
      },
      "source": [
        "# Resmi tek üyenin olduğu bir listeye ekleyelim\n",
        "img = np.array([img])\n",
        "\n",
        "print(img.shape)"
      ],
      "execution_count": 28,
      "outputs": [
        {
          "output_type": "stream",
          "text": [
            "(1, 28, 28, 1)\n"
          ],
          "name": "stdout"
        }
      ]
    },
    {
      "cell_type": "markdown",
      "metadata": {
        "id": "tj8X9CPmpKn5"
      },
      "source": [
        "Ve şimdi resmi tahmin etme zamanı :"
      ]
    },
    {
      "cell_type": "code",
      "metadata": {
        "colab": {
          "base_uri": "https://localhost:8080/"
        },
        "id": "SvQMq1e0pHSo",
        "outputId": "6c1e56d3-79dd-481b-8367-e5f4e63b22b8"
      },
      "source": [
        "predictions_single = model.predict(img)\n",
        "\n",
        "print(predictions_single)"
      ],
      "execution_count": 29,
      "outputs": [
        {
          "output_type": "stream",
          "text": [
            "[[1.4138346e-05 3.2118035e-07 2.0027725e-02 2.9864943e-06 9.5776451e-01\n",
            "  1.5086410e-08 2.2183180e-02 3.8267519e-08 7.1750992e-06 5.0645149e-10]]\n"
          ],
          "name": "stdout"
        }
      ]
    },
    {
      "cell_type": "code",
      "metadata": {
        "colab": {
          "base_uri": "https://localhost:8080/",
          "height": 300
        },
        "id": "55UeAzpYpPOn",
        "outputId": "a0149d3d-9614-4787-f612-387ecf2ef820"
      },
      "source": [
        "plot_value_array(0, predictions_single, test_labels)\n",
        "_ = plt.xticks(range(10), class_names, rotation=45)"
      ],
      "execution_count": 30,
      "outputs": [
        {
          "output_type": "display_data",
          "data": {
            "image/png": "[encoded data removed]",
            "text/plain": [
              "<Figure size 432x288 with 1 Axes>"
            ]
          },
          "metadata": {
            "tags": [],
            "needs_background": "light"
          }
        }
      ]
    },
    {
      "cell_type": "markdown",
      "metadata": {
        "id": "Uk2mGSOPpS7N"
      },
      "source": [
        "`model_predict`, veri yığınındaki ger görüntü için bir tane olmak üzere bir liste döndürür. Gruptaki sadece resmimizi ilgilendiren tahminleri alalım :"
      ]
    },
    {
      "cell_type": "code",
      "metadata": {
        "colab": {
          "base_uri": "https://localhost:8080/"
        },
        "id": "Q2LIcyh9pQa_",
        "outputId": "1cc32127-28c7-459b-e3dd-a50f392ce1f3"
      },
      "source": [
        "np.argmax(predictions_single[0])"
      ],
      "execution_count": 31,
      "outputs": [
        {
          "output_type": "execute_result",
          "data": {
            "text/plain": [
              "4"
            ]
          },
          "metadata": {
            "tags": []
          },
          "execution_count": 31
        }
      ]
    },
    {
      "cell_type": "markdown",
      "metadata": {
        "id": "gz2iT8DzpleD"
      },
      "source": [
        "Daha önce de olduğu gibi modelimiz 4 numaralı sınıfı yani kaban etiketini tahmin ediyor."
      ]
    }
  ]
}