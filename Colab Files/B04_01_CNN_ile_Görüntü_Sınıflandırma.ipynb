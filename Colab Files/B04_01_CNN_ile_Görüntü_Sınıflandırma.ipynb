{
  "nbformat": 4,
  "nbformat_minor": 0,
  "metadata": {
    "colab": {
      "name": "B4_01_CNN_ile_Görüntü_Sınıflandırma.ipynb",
      "provenance": []
    },
    "kernelspec": {
      "name": "python3",
      "display_name": "Python 3"
    },
    "language_info": {
      "name": "python"
    }
  },
  "cells": [
    {
      "cell_type": "markdown",
      "metadata": {
        "id": "RAvzm_3qLha6"
      },
      "source": [
        "# Evrişimli Sinir Ağları (CNN) ile Görüntü Sınıflandırma "
      ]
    },
    {
      "cell_type": "markdown",
      "metadata": {
        "id": "T7akKFi3LoF4"
      },
      "source": [
        "Bu başlık altında, spor ayakkabı ve gömlek gibi giysi görüntülerini sınıflandırmak için bir sinir ağı oluşturup eğiteceğiz.\n",
        "\n",
        "Amaç, her ayrıntıyı yakalamak değil, bir TensoFlow projesinin genel anlamını kavramaktır.\n",
        "\n",
        "Bu kılavuz, TensorFlow'da modeller oluşturmak ve eğitmek için üst düzey bir API olan [tf.keras](https://www.tensorflow.org/guide/keras) 'ı kullanır."
      ]
    },
    {
      "cell_type": "markdown",
      "metadata": {
        "id": "oLWMu3j3MWsQ"
      },
      "source": [
        "## İçe Aktarma İşlemlerinin Yapılması\n",
        "\n",
        "Veri kümelerini indirmeyi, erişmeyi basitleştiren ve çalışmak için birçok veri kümesi sağlayan bir API olan TensorFlow Veri Kümelerine ([TensorFlow Datasets](https://www.tensorflow.org/datasets/)) ihtiyacımız olacak."
      ]
    },
    {
      "cell_type": "code",
      "metadata": {
        "id": "IMaON_ACLAbH"
      },
      "source": [
        "import tensorflow as tf\n",
        "\n",
        "# TensorFlow veri setlerinin içeri aktarılması\n",
        "import tensorflow_datasets as tfds\n",
        "tfds.disable_progress_bar()\n",
        "\n",
        "# Diğer yardımcı kütüphaneler\n",
        "import math\n",
        "import numpy as np\n",
        "import matplotlib.pyplot as plt\n",
        "\n",
        "import logging\n",
        "logger = tf.get_logger()\n",
        "logger.setLevel(logging.ERROR)"
      ],
      "execution_count": 1,
      "outputs": []
    },
    {
      "cell_type": "markdown",
      "metadata": {
        "id": "IarZonKvNnFA"
      },
      "source": [
        "Bu başlık altında, 10 kategoride 70000 gri tonlamalı görüntü içeren [Fashion MNIST](https://github.com/zalandoresearch/fashion-mnist) veri kümesini kullanıyoruz. Görüntüleri aşağıda görüldüğü gibi düşük çözünürlükte (28 x 28 piksel) olan ve her bir ayrı ayrı giyim eşyaları olan görsellerdir.\n",
        "\n",
        "<table>\n",
        "  <tr><td>\n",
        "    <img src=\"https://tensorflow.org/images/fashion-mnist-sprite.png\"\n",
        "         alt=\"Fashion MNIST sprite\" width=\"600\">\n",
        "  </td></tr>\n",
        "  <tr><td align=\"center\">\n",
        "    <b>Figure 1.</b> <a href=\"https://github.com/zalandoresearch/fashion-mnist\">Fashion-MNIST samples</a> (by Zalando, MIT License).<br/>&nbsp;\n",
        "  </td></tr>\n",
        "</table>\n",
        "\n",
        "**Fashion MNIST**, genellikle bilgisayarlı görü için makine öğrenimi programlarının \"Merhaba Dünya!\"sı (Hello World!) olarak kullanılan klasik [MNIST](http://yann.lecun.com/exdb/mnist/) veri setinin yerini alacak şekilde tasarlanmıştır. MNIST veri seti, burada kullanacağımız giyim eşyalarıyla aynı formatta el yazısı rakamlarından oluşan (0, 1, 2, vb.) görüntüleri de içerir.\n",
        "\n",
        "Bu kılavuz, Fashion MNIST'i çeşitlilik için kullanır çünkü bu normal MNIST veri setinden biraz daha zorlayıcı problemler içerir. Her iki veri kümesi de küçüktür ve bir algoritmanın beklendiği gibi çalışıp çalışmadığını kontrol etmek (doğrulamak) için kullanılır. Kodu test etmek ve hata ayıklamak için iyi bir seçimdir.\n",
        "\n",
        "Sinir ağımızı eğitmek için 60000 görüntü ve ağın görüntüleri sınıflandırmayı ne kadar doğru yaptığını değerlendirmek için 10000 görüntü kullanacağız. Fashion MNIST veri setine [Datasets](https://www.tensorflow.org/datasets) API sayesinde doğrudan TensorFlow üzerinden erişebiliriz.\n"
      ]
    },
    {
      "cell_type": "code",
      "metadata": {
        "colab": {
          "base_uri": "https://localhost:8080/"
        },
        "id": "3X1HT3OXNS96",
        "outputId": "078aac56-8ef9-444f-f17f-e66e47f1d87d"
      },
      "source": [
        "dataset, metadata = tfds.load('fashion_mnist', as_supervised=True, with_info=True)\n",
        "train_dataset, test_dataset = dataset['train'], dataset['test']"
      ],
      "execution_count": 2,
      "outputs": [
        {
          "output_type": "stream",
          "text": [
            "\u001b[1mDownloading and preparing dataset fashion_mnist/3.0.1 (download: 29.45 MiB, generated: 36.42 MiB, total: 65.87 MiB) to /root/tensorflow_datasets/fashion_mnist/3.0.1...\u001b[0m\n",
            "Shuffling and writing examples to /root/tensorflow_datasets/fashion_mnist/3.0.1.incompleteMWJE2C/fashion_mnist-train.tfrecord\n",
            "Shuffling and writing examples to /root/tensorflow_datasets/fashion_mnist/3.0.1.incompleteMWJE2C/fashion_mnist-test.tfrecord\n",
            "\u001b[1mDataset fashion_mnist downloaded and prepared to /root/tensorflow_datasets/fashion_mnist/3.0.1. Subsequent calls will reuse this data.\u001b[0m\n"
          ],
          "name": "stdout"
        }
      ]
    },
    {
      "cell_type": "markdown",
      "metadata": {
        "id": "MmgoeGMqNvcB"
      },
      "source": [
        "Veri kümesini yüklediğimizde eğitim ve test veri kümesinin yanı sıra meta verilerini de geri döndürür.\n",
        "\n",
        "* Modeli `train_dataset` kullanarak eğiteceğiz.\n",
        "* Modeli `test_dataset` kullanarak test edeceğiz.\n",
        "\n",
        "Görüntüler, piksel değerleri `0-255` aralığında olan 28 x 28 bir dizidir. Etiketler ise `0-9` aralığında bir tam sayı dizisidir. Bu sayılar, görüntünün temsil ettiği giysi sınıfına karşılır gelir:\n",
        "\n",
        "<table>\n",
        "  <tr>\n",
        "    <th>Label</th>\n",
        "    <th>Class</th>\n",
        "  </tr>\n",
        "  <tr>\n",
        "    <td>0</td>\n",
        "    <td>T-shirt/top</td>\n",
        "  </tr>\n",
        "  <tr>\n",
        "    <td>1</td>\n",
        "    <td>Trouser</td>\n",
        "  </tr>\n",
        "    <tr>\n",
        "    <td>2</td>\n",
        "    <td>Pullover</td>\n",
        "  </tr>\n",
        "    <tr>\n",
        "    <td>3</td>\n",
        "    <td>Dress</td>\n",
        "  </tr>\n",
        "    <tr>\n",
        "    <td>4</td>\n",
        "    <td>Coat</td>\n",
        "  </tr>\n",
        "    <tr>\n",
        "    <td>5</td>\n",
        "    <td>Sandal</td>\n",
        "  </tr>\n",
        "    <tr>\n",
        "    <td>6</td>\n",
        "    <td>Shirt</td>\n",
        "  </tr>\n",
        "    <tr>\n",
        "    <td>7</td>\n",
        "    <td>Sneaker</td>\n",
        "  </tr>\n",
        "    <tr>\n",
        "    <td>8</td>\n",
        "    <td>Bag</td>\n",
        "  </tr>\n",
        "    <tr>\n",
        "    <td>9</td>\n",
        "    <td>Ankle boot</td>\n",
        "  </tr>\n",
        "</table>\n",
        "\n",
        "Her görüntü tek bir etiketle eşleşir. Sınıf adları veri kümesine dahil edilmediği inin, daha sonra görüntüleri çizerken kullanmak üzeri onları saklayalım : \n"
      ]
    },
    {
      "cell_type": "code",
      "metadata": {
        "id": "O9-1tRGfNsyS"
      },
      "source": [
        "class_names = ['T-shirt/top', 'Trouser', 'Pullover', 'Dress', 'Coat',\n",
        "               'Sandal',      'Shirt',   'Sneaker',  'Bag',   'Ankle boot']"
      ],
      "execution_count": 3,
      "outputs": []
    },
    {
      "cell_type": "markdown",
      "metadata": {
        "id": "gL5hdukWN2en"
      },
      "source": [
        "### Verileri Keşfedelim\n",
        "\n",
        "Modeli eğitmeden önce veri kümesinin biçimini inceleyelim. Aşağıdakiler, eğitim setinde 60000 ve test setinde ise 10000 görüntü olduğunu göstermektedir."
      ]
    },
    {
      "cell_type": "code",
      "metadata": {
        "colab": {
          "base_uri": "https://localhost:8080/"
        },
        "id": "ok_WULUPNy3J",
        "outputId": "db039a5e-3b52-4ff5-d2bc-46f7581d4750"
      },
      "source": [
        "num_train_examples = metadata.splits['train'].num_examples\n",
        "num_test_examples = metadata.splits['test'].num_examples\n",
        "print(\"Eğitim veri setimizdeki örnek sayımız : {}\".format(num_train_examples))\n",
        "print(\"Test veri setimizdeki örnek sayımız   : {}\".format(num_test_examples))"
      ],
      "execution_count": 4,
      "outputs": [
        {
          "output_type": "stream",
          "text": [
            "Eğitim veri setimizdeki örnek sayımız : 60000\n",
            "Test veri setimizdeki örnek sayımız   : 10000\n"
          ],
          "name": "stdout"
        }
      ]
    },
    {
      "cell_type": "markdown",
      "metadata": {
        "id": "wUekW7RYOWq6"
      },
      "source": [
        "## Verilerin Ön İşlenmesi\n",
        "\n",
        "Görüntü verilerindeki her pikselin değer `0-255` aralığında bir tam sayıdır. Modelin düzgün çalışması için bu değerlerin `0-1` aralığına normalleştirilmesi gerekir. Yani burada bir normelleştirme işlevi (fonksiyonu) oluşturuyoruz ve ardından bunu hem eğitim hem de test veri setimizdeki her görüntüye uyguluyoruz.\n"
      ]
    },
    {
      "cell_type": "code",
      "metadata": {
        "id": "fuOg7FrLN4GR"
      },
      "source": [
        "def normalize(images, labels):\n",
        "  images = tf.cast(images, tf.float32)\n",
        "  images /= 255\n",
        "  return images, labels\n",
        "\n",
        "# map işlevi, normelleştirmeyi eğitim ve test veri setimizdeki her öğeye uygular.\n",
        "train_dataset =  train_dataset.map(normalize)\n",
        "test_dataset  =  test_dataset.map(normalize)\n",
        "\n",
        "# Veri setini ilk kullandığımızda, görüntüler diskten yüklenecektir.\n",
        "# Ön belleğe alma, onları bellekte tutacak ve eğitimi daha hızlı hale getirecektir.\n",
        "train_dataset =  train_dataset.cache()\n",
        "test_dataset  =  test_dataset.cache()"
      ],
      "execution_count": 5,
      "outputs": []
    },
    {
      "cell_type": "markdown",
      "metadata": {
        "id": "HN1Xsd8ZOcYh"
      },
      "source": [
        "### İşlenen Verilere Göz Atalım\n",
        "\n",
        "Nasıl göründüklerini görmek için `matplotlib` kütüphanesini kullanarak resimlerini çizelim."
      ]
    },
    {
      "cell_type": "code",
      "metadata": {
        "colab": {
          "base_uri": "https://localhost:8080/",
          "height": 269
        },
        "id": "dPnBnxMtOYtZ",
        "outputId": "0fa8f043-1841-4225-fec0-e9f4dcb1827a"
      },
      "source": [
        "# Tek bir görüntü alır ve yeniden şekillendirir. Renk boyutunu kaldırır.\n",
        "for image, label in test_dataset.take(1):\n",
        "  break\n",
        "image = image.numpy().reshape((28,28))\n",
        "\n",
        "# Resmi çizdirelim.\n",
        "plt.figure()\n",
        "plt.imshow(image, cmap=plt.cm.binary)\n",
        "plt.colorbar()\n",
        "plt.grid(False)\n",
        "plt.show()"
      ],
      "execution_count": 6,
      "outputs": [
        {
          "output_type": "display_data",
          "data": {
            "image/png": "[encoded data removed]",
            "text/plain": [
              "<Figure size 432x288 with 2 Axes>"
            ]
          },
          "metadata": {
            "tags": [],
            "needs_background": "light"
          }
        }
      ]
    },
    {
      "cell_type": "markdown",
      "metadata": {
        "id": "uTDgP6PVOg6Z"
      },
      "source": [
        "Şimdi de eğitim setindeki ilk 25 resmi görüntüleyelim ve her resmin altında sınıf adını görüntüleyelim. Verilerin doğru biçimde olduğunu doğruladıktan sonra ağı oluşturmaya ve ağımızı eğitmeye geçebiliriz."
      ]
    },
    {
      "cell_type": "code",
      "metadata": {
        "colab": {
          "base_uri": "https://localhost:8080/",
          "height": 589
        },
        "id": "yV7snbHKOeRJ",
        "outputId": "b3a2a176-85ff-4d20-d52d-fb4aad806345"
      },
      "source": [
        "plt.figure(figsize=(10,10))\n",
        "for i, (image, label) in enumerate(test_dataset.take(25)):\n",
        "    image = image.numpy().reshape((28,28))\n",
        "    plt.subplot(5,5,i+1)\n",
        "    plt.xticks([])\n",
        "    plt.yticks([])\n",
        "    plt.grid(False)\n",
        "    plt.imshow(image, cmap=plt.cm.binary)\n",
        "    plt.xlabel(class_names[label])\n",
        "plt.show()"
      ],
      "execution_count": 7,
      "outputs": [
        {
          "output_type": "display_data",
          "data": {
            "image/png": "[encoded data removed]",
            "text/plain": [
              "<Figure size 720x720 with 25 Axes>"
            ]
          },
          "metadata": {
            "tags": []
          }
        }
      ]
    },
    {
      "cell_type": "markdown",
      "metadata": {
        "id": "V1kwq241OoOH"
      },
      "source": [
        "## Modelin Oluşturulması\n",
        "\n",
        "Sinir ağının oluşturulması, modelin katmanlarının ayarlanması ve ardından modelin derlenmesi aşamalarının bütünüdür."
      ]
    },
    {
      "cell_type": "markdown",
      "metadata": {
        "id": "svdjSQk3Owmx"
      },
      "source": [
        "### Katmanların Ayarlanması\n",
        "\n",
        "Bir sinir ağının temel yapı taşı katmanlardır (*layer*). Bir katman, kendisini besleyen (girdi olarak gelen) verilerden bir temsil çıkarır.\n",
        "\n",
        "Derin öğrenmenin çoğı, basit katmanların birbirine zincirlenmesinden oluşmaktadır. `tf.keras.layers.Dense` gibi çoğu katman, eğitim sırasında ayarlanan yani öğrenilen (*learned*) dahili parametrelere sahiptir."
      ]
    },
    {
      "cell_type": "code",
      "metadata": {
        "id": "xkBRzMaIOixp"
      },
      "source": [
        "model = tf.keras.Sequential([\n",
        "    tf.keras.layers.Conv2D(32, (3,3), padding='same', activation=tf.nn.relu,\n",
        "                           input_shape=(28, 28, 1)),\n",
        "    tf.keras.layers.MaxPooling2D((2, 2), strides=2),\n",
        "    tf.keras.layers.Conv2D(64, (3,3), padding='same', activation=tf.nn.relu),\n",
        "    tf.keras.layers.MaxPooling2D((2, 2), strides=2),\n",
        "    tf.keras.layers.Flatten(),\n",
        "    tf.keras.layers.Dense(128, activation=tf.nn.relu),\n",
        "    tf.keras.layers.Dense(10, activation=tf.nn.softmax)\n",
        "])"
      ],
      "execution_count": 8,
      "outputs": []
    },
    {
      "cell_type": "markdown",
      "metadata": {
        "id": "X34UGNWAO29l"
      },
      "source": [
        "Bu ağın katmanları şu şekildedir:\n",
        "\n",
        "* **Evrişim (convolutions) :** `tf.keras.layers.Conv2D and MaxPooling2D` — Ağ, iki çift Conv/MaxPool ile başlar. İlk katman, girdi görüntüsüne uygulanan orijinal görüntü boyutunu koruyan ve 32 çıktı (evrişimli) görüntü oluşturan bir Conv2D filtresidir. Bundan sonra, bir MaxPooling2D (2,2) kullanılarak 32 çıktının boyutu 2'lik bir adımla küçültülür. Sonraki Conv2D'de ayrıca bir (3,3) çekirdeğe sahiptir. 32 görüntüyü girdi olarak alır ve 64 çıktı oluşturur. MaxPooling2D katmanı tarafından boyut olarak tekrar küçültülür.\n",
        "\n",
        "* **Çıktı (output) :** `tf.keras.layers.Dense` — 128 nörondan ve 10 düğümlü bir softmax katmanıdır. Her düğüm bir giysi sınıfını temsil etmektedir. Önceki katmanda olduğu gibi, son katman önceki katmandaki 128 düğümden girdi alır ve görüntünün o sınıfa ait olma olasılığını temsil eden `0-1` arası bir değer verir. 10 düğümdeki değerlerin toplamı 1 olmalıdır.\n",
        "\n",
        "\n"
      ]
    },
    {
      "cell_type": "markdown",
      "metadata": {
        "id": "YVOqqCheO72N"
      },
      "source": [
        "> Not: `softmax` aktivasyonu ve `SparseCategoricalCrossentropy()` kullanımında sorunlar vardı ve bunlar `tf.keras` modeli tarafından düzeltildi. Genel olarak daha güvenli bir yaklaşım olarak `SparseCategoricalCrossentropy(from_logits=True)` ile aktivasyon fonskiyonu olmadan doğrusal bir çıktı kullanılır."
      ]
    },
    {
      "cell_type": "markdown",
      "metadata": {
        "id": "fkgHlHfYQovk"
      },
      "source": [
        "### Modelin Derlenmesi\n",
        "\n",
        "Model eğitime hazır olmadan önce birkaç ayara daha ihtiyacı var. Bunlar modelin derleme adımı sırasında eklenir:\n",
        "\n",
        "* Kayıf Fonksiyonu (*Loss Function*) — Modelin çıktıların istenen çıktıdan ne kadar uzakda olduğunu ölçmek için bir algoritmadır. Eğitimin amacı, bu kaybı ölçmektir.\n",
        "\n",
        "* Optimize Edici (*Optimizer*) — Kaybı en aza indirmek için modelin iç parametrelerini ayarlamada kullanılan bir algoritmadır.\n",
        "\n",
        "* Metrikler (*Metrics*) — Eğitim ve test adımlarını izlemek için kullanılır. Aşağıdaki kod bloğunda metrik olarak `accuracy` yani doğruluk metriği kullanılmıştır."
      ]
    },
    {
      "cell_type": "code",
      "metadata": {
        "id": "eYUQ-u6dOzGI"
      },
      "source": [
        "model.compile(optimizer='adam',\n",
        "              loss=tf.keras.losses.SparseCategoricalCrossentropy(),\n",
        "              metrics=['accuracy'])"
      ],
      "execution_count": 9,
      "outputs": []
    },
    {
      "cell_type": "markdown",
      "metadata": {
        "id": "vockBbjDQueI"
      },
      "source": [
        "## Modelin Eğitilmesi\n",
        "\n",
        "İlk olarak, eğitimm ve veri setimiz için yineleme davranışını tanımlarız:\n",
        "\n",
        "1. `dataset.repeat()` öğesini belirterek sonsuza kadar tekrarlarız. (Aşağıdaki `epochs` parametresi, ne kadar süreyle eğitim gerçekleştireceğimizi sınırlar.)\n",
        "\n",
        "2. `dataset.shuffle(60000)` sırayı rastgele olarak ayarlar, böylece modelimiz örneklerin sırasından dolayı hiçbir şey öğrenmemiş olur.\n",
        "\n",
        "3. `dataset.batch(32)` ise `model.fit` yöntemine, model değişkenlerini güncellerken 32 görüntü ve etiketten oluşan yığınları kullanmasını söyler.\n",
        "\n",
        "`model.fit` yöntemi çağrılarak eğitim gerçekleştirilir:\n",
        "1. `train_dataset` kullanarak eğitim verileriyle modelimizi besleriz.\n",
        "2. Modelimiz görüntüleri ve etiketleri ilişkilendirmeyi öğrenir.\n",
        "3. `epochs = 5` parametresi, eğitim veri kümesi ile eğitimin 5 tam yinelenmesi ile sınırlar, yani model tplam 5* 60000 = 300000 girdi alır.\n",
        "\n",
        "\n"
      ]
    },
    {
      "cell_type": "code",
      "metadata": {
        "id": "88X50jpLQqxy"
      },
      "source": [
        "BATCH_SIZE = 32\n",
        "train_dataset = train_dataset.cache().repeat().shuffle(num_train_examples).batch(BATCH_SIZE)\n",
        "test_dataset = test_dataset.cache().batch(BATCH_SIZE)"
      ],
      "execution_count": 10,
      "outputs": []
    },
    {
      "cell_type": "code",
      "metadata": {
        "colab": {
          "base_uri": "https://localhost:8080/"
        },
        "id": "vTektBGOQwb5",
        "outputId": "4384a180-b634-4e45-f0b3-7a4ff5ce282a"
      },
      "source": [
        "model.fit(train_dataset, epochs=10, steps_per_epoch=math.ceil(num_train_examples/BATCH_SIZE))"
      ],
      "execution_count": 11,
      "outputs": [
        {
          "output_type": "stream",
          "text": [
            "Epoch 1/10\n",
            "1875/1875 [==============================] - 90s 44ms/step - loss: 0.3940 - accuracy: 0.8587\n",
            "Epoch 2/10\n",
            "1875/1875 [==============================] - 81s 43ms/step - loss: 0.2581 - accuracy: 0.9053\n",
            "Epoch 3/10\n",
            "1875/1875 [==============================] - 82s 44ms/step - loss: 0.2092 - accuracy: 0.9231\n",
            "Epoch 4/10\n",
            "1875/1875 [==============================] - 82s 44ms/step - loss: 0.1834 - accuracy: 0.9323\n",
            "Epoch 5/10\n",
            "1875/1875 [==============================] - 82s 44ms/step - loss: 0.1523 - accuracy: 0.9436\n",
            "Epoch 6/10\n",
            "1875/1875 [==============================] - 82s 44ms/step - loss: 0.1295 - accuracy: 0.9515\n",
            "Epoch 7/10\n",
            "1875/1875 [==============================] - 82s 44ms/step - loss: 0.1075 - accuracy: 0.9596\n",
            "Epoch 8/10\n",
            "1875/1875 [==============================] - 81s 43ms/step - loss: 0.0944 - accuracy: 0.9658\n",
            "Epoch 9/10\n",
            "1875/1875 [==============================] - 81s 43ms/step - loss: 0.0779 - accuracy: 0.9710\n",
            "Epoch 10/10\n",
            "1875/1875 [==============================] - 81s 43ms/step - loss: 0.0680 - accuracy: 0.9748\n"
          ],
          "name": "stdout"
        },
        {
          "output_type": "execute_result",
          "data": {
            "text/plain": [
              "<tensorflow.python.keras.callbacks.History at 0x7f3f8d22a710>"
            ]
          },
          "metadata": {
            "tags": []
          },
          "execution_count": 11
        }
      ]
    },
    {
      "cell_type": "markdown",
      "metadata": {
        "id": "IqmMGcGXQz6x"
      },
      "source": [
        "Model ilerlerken, kayıp (loss) ve doğruluk (accuracy) metriklerigörüntüülenir. Bu model, eğitim verilerinde yaklaşık 0.89 (%89) doğruluğa ulaşır."
      ]
    },
    {
      "cell_type": "markdown",
      "metadata": {
        "id": "fyp13idBRAs6"
      },
      "source": [
        "## Doğruluğun (accuracy) Değerlendirilmesi\n",
        "\n",
        "Sırada modelin test veri kümesinde nasıl performans gösterdiğini görelim. Doğrulu değerlendirmek için test veri setindeki tüm örnekleri kullanalım."
      ]
    },
    {
      "cell_type": "code",
      "metadata": {
        "colab": {
          "base_uri": "https://localhost:8080/"
        },
        "id": "bWbIIBhSQxgR",
        "outputId": "7b9aaca8-ddea-4899-dbfc-be65d7059106"
      },
      "source": [
        "test_loss, test_accuracy = model.evaluate(test_dataset, steps=math.ceil(num_test_examples/32))\n",
        "print('Test veri setinin doğruluk (accuracy) değeri:', test_accuracy)"
      ],
      "execution_count": 12,
      "outputs": [
        {
          "output_type": "stream",
          "text": [
            "313/313 [==============================] - 6s 19ms/step - loss: 0.2936 - accuracy: 0.9211\n",
            "Test veri setinin doğruluk (accuracy) değeri: 0.9211000204086304\n"
          ],
          "name": "stdout"
        }
      ]
    },
    {
      "cell_type": "markdown",
      "metadata": {
        "id": "5VWFO4DmRFuf"
      },
      "source": [
        "Sonuç olarak, test veri setindeki doğruluk eğitim veri setindeki doğruluktan daha küçüktür. Model, `train_dataset` üzerinden eğitildiği için bu tamamiyle normaldir. Model, eğitim sırasında hiç görmediği (yani `test_dataset`) görüntülerle karşılaştığında, performansının düşmesini bekleyebiliriz."
      ]
    },
    {
      "cell_type": "markdown",
      "metadata": {
        "id": "ubePsKTZRIwX"
      },
      "source": [
        "## Tahminlerde Bulunma\n",
        "\n",
        "Eğitilen modeli bazı görüntüler hakkında tahmin yapmak için kullanabiliriz."
      ]
    },
    {
      "cell_type": "code",
      "metadata": {
        "id": "Ff6Gl0FdRCm5"
      },
      "source": [
        "for test_images, test_labels in test_dataset.take(1):\n",
        "  test_images = test_images.numpy()\n",
        "  test_labels = test_labels.numpy()\n",
        "  predictions = model.predict(test_images)"
      ],
      "execution_count": 13,
      "outputs": []
    },
    {
      "cell_type": "code",
      "metadata": {
        "colab": {
          "base_uri": "https://localhost:8080/"
        },
        "id": "ZdmCnbgTRKhQ",
        "outputId": "d43508eb-5fdd-43b9-c703-f5f31406dc15"
      },
      "source": [
        "predictions.shape\n"
      ],
      "execution_count": 14,
      "outputs": [
        {
          "output_type": "execute_result",
          "data": {
            "text/plain": [
              "(32, 10)"
            ]
          },
          "metadata": {
            "tags": []
          },
          "execution_count": 14
        }
      ]
    },
    {
      "cell_type": "markdown",
      "metadata": {
        "id": "CBF6thbWRNJ0"
      },
      "source": [
        "Tahmin, 10 sayıdan oluşan bir dizidir. Bu değerler, görüntünün 10 farklı giysi sınıfından her birine eşleşme durumunun güvenilirliğini (confidence) tanımlar. Hangi etiketin en yüksek güven değerine sahip olduğunu görebiliriz:"
      ]
    },
    {
      "cell_type": "code",
      "metadata": {
        "colab": {
          "base_uri": "https://localhost:8080/"
        },
        "id": "yFM9pUgfRLkA",
        "outputId": "3181f422-d357-423a-abef-24f63e49d474"
      },
      "source": [
        "np.argmax(predictions[0])"
      ],
      "execution_count": 15,
      "outputs": [
        {
          "output_type": "execute_result",
          "data": {
            "text/plain": [
              "4"
            ]
          },
          "metadata": {
            "tags": []
          },
          "execution_count": 15
        }
      ]
    },
    {
      "cell_type": "markdown",
      "metadata": {
        "id": "Xc3MUXJaRTzX"
      },
      "source": [
        "Çıktıdan anlaşılacağı gibi, bu görüntünün kaban veya `class_names[4]` olduğundan çok emindir. Bunun doğru olup olmadığını görmek için test etiketini kontrol edebiliriz :"
      ]
    },
    {
      "cell_type": "code",
      "metadata": {
        "colab": {
          "base_uri": "https://localhost:8080/"
        },
        "id": "K9YwPReNRPro",
        "outputId": "c4dc8e87-283c-43c9-c059-8c36756acdb1"
      },
      "source": [
        "test_labels[0]"
      ],
      "execution_count": 16,
      "outputs": [
        {
          "output_type": "execute_result",
          "data": {
            "text/plain": [
              "4"
            ]
          },
          "metadata": {
            "tags": []
          },
          "execution_count": 16
        }
      ]
    },
    {
      "cell_type": "markdown",
      "metadata": {
        "id": "OsVSQ247RYry"
      },
      "source": [
        "Verilen çıktı modelimizin tahminini doğrular nitelikte. 10 sınıf tahminlerinin tamamına bakmak için bunun grafiğini çizebiliriz:"
      ]
    },
    {
      "cell_type": "code",
      "metadata": {
        "id": "gHfaou_rRVoA"
      },
      "source": [
        "def plot_image(i, predictions_array, true_labels, images):\n",
        "  predictions_array, true_label, img = predictions_array[i], true_labels[i], images[i]\n",
        "  plt.grid(False)\n",
        "  plt.xticks([])\n",
        "  plt.yticks([])\n",
        "  \n",
        "  plt.imshow(img[...,0], cmap=plt.cm.binary)\n",
        "\n",
        "  predicted_label = np.argmax(predictions_array)\n",
        "  if predicted_label == true_label:\n",
        "    color = 'blue'\n",
        "  else:\n",
        "    color = 'red'\n",
        "  \n",
        "  plt.xlabel(\"{} {:2.0f}% ({})\".format(class_names[predicted_label],\n",
        "                                100*np.max(predictions_array),\n",
        "                                class_names[true_label]),\n",
        "                                color=color)\n",
        "\n",
        "def plot_value_array(i, predictions_array, true_label):\n",
        "  predictions_array, true_label = predictions_array[i], true_label[i]\n",
        "  plt.grid(False)\n",
        "  plt.xticks([])\n",
        "  plt.yticks([])\n",
        "  thisplot = plt.bar(range(10), predictions_array, color=\"#777777\")\n",
        "  plt.ylim([0, 1])\n",
        "  predicted_label = np.argmax(predictions_array)\n",
        "  \n",
        "  thisplot[predicted_label].set_color('red')\n",
        "  thisplot[true_label].set_color('blue')"
      ],
      "execution_count": 17,
      "outputs": []
    },
    {
      "cell_type": "markdown",
      "metadata": {
        "id": "zoQ-prhBRelE"
      },
      "source": [
        "Hadi sıfırıncı (0.) görüntüye ve tahmin dizisine bakalım :"
      ]
    },
    {
      "cell_type": "code",
      "metadata": {
        "colab": {
          "base_uri": "https://localhost:8080/",
          "height": 203
        },
        "id": "kIK02mrPRcWg",
        "outputId": "5ae110a4-fcb4-473d-a67e-7e76d110bdac"
      },
      "source": [
        "i = 0\n",
        "plt.figure(figsize=(6,3))\n",
        "plt.subplot(1,2,1)\n",
        "plot_image(i, predictions, test_labels, test_images)\n",
        "plt.subplot(1,2,2)\n",
        "plot_value_array(i, predictions, test_labels)"
      ],
      "execution_count": 18,
      "outputs": [
        {
          "output_type": "display_data",
          "data": {
            "image/png": "[encoded data removed]",
            "text/plain": [
              "<Figure size 432x216 with 2 Axes>"
            ]
          },
          "metadata": {
            "tags": []
          }
        }
      ]
    },
    {
      "cell_type": "code",
      "metadata": {
        "colab": {
          "base_uri": "https://localhost:8080/",
          "height": 203
        },
        "id": "qzbmizA5Rf2w",
        "outputId": "4fb86dff-0818-49b4-ca9c-370a1853e7ca"
      },
      "source": [
        "i = 12\n",
        "plt.figure(figsize=(6,3))\n",
        "plt.subplot(1,2,1)\n",
        "plot_image(i, predictions, test_labels, test_images)\n",
        "plt.subplot(1,2,2)\n",
        "plot_value_array(i, predictions, test_labels)"
      ],
      "execution_count": 19,
      "outputs": [
        {
          "output_type": "display_data",
          "data": {
            "image/png": "[encoded data removed]",
            "text/plain": [
              "<Figure size 432x216 with 2 Axes>"
            ]
          },
          "metadata": {
            "tags": []
          }
        }
      ]
    },
    {
      "cell_type": "markdown",
      "metadata": {
        "id": "anADeB4SRkpr"
      },
      "source": [
        "Şimdi de tahminlerle birlikte birkaç resim çizelim. Doğru tahmin edilen etiketler mavi ve yanlış tahmin edilenler kırmızı renkle görünecektir. Sayı ise tahmin edilen etiket için yüzdeyi verir. Güven çok yüksek olsa bile yanlış çıkabileceği gerçeğini unutmayalım."
      ]
    },
    {
      "cell_type": "code",
      "metadata": {
        "colab": {
          "base_uri": "https://localhost:8080/",
          "height": 589
        },
        "id": "JTYhDo12Rg5X",
        "outputId": "2580f475-ba30-4bee-baef-722f10ca78ef"
      },
      "source": [
        "# İlk test görüntülerini, ardından tahmin edilen ve gerçek etiketleri gösterelim.\n",
        "num_rows = 5\n",
        "num_cols = 3\n",
        "num_images = num_rows*num_cols\n",
        "plt.figure(figsize=(2*2*num_cols, 2*num_rows))\n",
        "for i in range(num_images):\n",
        "  plt.subplot(num_rows, 2*num_cols, 2*i+1)\n",
        "  plot_image(i, predictions, test_labels, test_images)\n",
        "  plt.subplot(num_rows, 2*num_cols, 2*i+2)\n",
        "  plot_value_array(i, predictions, test_labels)"
      ],
      "execution_count": 20,
      "outputs": [
        {
          "output_type": "display_data",
          "data": {
            "image/png": "[encoded data removed]",
            "text/plain": [
              "<Figure size 864x720 with 30 Axes>"
            ]
          },
          "metadata": {
            "tags": []
          }
        }
      ]
    },
    {
      "cell_type": "markdown",
      "metadata": {
        "id": "H_URRpOqRr4B"
      },
      "source": [
        "Şimdi de tek bir görüntü hakkında tahminde bulunmak için eğitmiş olduğumuz modeli kullanalım:"
      ]
    },
    {
      "cell_type": "code",
      "metadata": {
        "colab": {
          "base_uri": "https://localhost:8080/"
        },
        "id": "J6Gs8I1uRpzh",
        "outputId": "226fa8a7-ac55-4b7a-e1ec-b6686338daca"
      },
      "source": [
        "img = test_images[0]\n",
        "print(img.shape)"
      ],
      "execution_count": 21,
      "outputs": [
        {
          "output_type": "stream",
          "text": [
            "(28, 28, 1)\n"
          ],
          "name": "stdout"
        }
      ]
    },
    {
      "cell_type": "markdown",
      "metadata": {
        "id": "3epY6cYHRv7w"
      },
      "source": [
        "`tf.keras` modelleri, bir seferde bir grup veya örnek koleksiyonu üzerinde tahminler yapmak için optimize edilmiştir. Yani tek bir resim kullanıyor olsak bile onu bir listeye eklememiz gerekir."
      ]
    },
    {
      "cell_type": "code",
      "metadata": {
        "colab": {
          "base_uri": "https://localhost:8080/"
        },
        "id": "kDOreWPFRuNw",
        "outputId": "9a1a26c9-93c2-4dd2-f49a-9ee3eff16289"
      },
      "source": [
        "img = np.array([img])\n",
        "print(img.shape)"
      ],
      "execution_count": 22,
      "outputs": [
        {
          "output_type": "stream",
          "text": [
            "(1, 28, 28, 1)\n"
          ],
          "name": "stdout"
        }
      ]
    },
    {
      "cell_type": "markdown",
      "metadata": {
        "id": "xDfNKW2JR5Kh"
      },
      "source": [
        "Ve şimdi resmi tahmin etme zamanı :"
      ]
    },
    {
      "cell_type": "code",
      "metadata": {
        "colab": {
          "base_uri": "https://localhost:8080/"
        },
        "id": "Jt5_jWKyRztI",
        "outputId": "cefc2187-d724-43d0-c1bd-752baa6a92bb"
      },
      "source": [
        "predictions_single = model.predict(img)\n",
        "\n",
        "print(predictions_single)"
      ],
      "execution_count": 23,
      "outputs": [
        {
          "output_type": "stream",
          "text": [
            "[[8.02611033e-10 1.92612593e-11 2.93353460e-05 2.49135625e-11\n",
            "  9.84878242e-01 3.69872020e-13 1.50924595e-02 7.83101535e-12\n",
            "  2.60765048e-10 2.89143265e-09]]\n"
          ],
          "name": "stdout"
        }
      ]
    },
    {
      "cell_type": "code",
      "metadata": {
        "colab": {
          "base_uri": "https://localhost:8080/",
          "height": 300
        },
        "id": "cTYEmaOER7fR",
        "outputId": "8d040fc0-a491-4467-932c-b4229a790e70"
      },
      "source": [
        "plot_value_array(0, predictions_single, test_labels)\n",
        "_ = plt.xticks(range(10), class_names, rotation=45)"
      ],
      "execution_count": 24,
      "outputs": [
        {
          "output_type": "display_data",
          "data": {
            "image/png": "[encoded data removed]",
            "text/plain": [
              "<Figure size 432x288 with 1 Axes>"
            ]
          },
          "metadata": {
            "tags": [],
            "needs_background": "light"
          }
        }
      ]
    },
    {
      "cell_type": "markdown",
      "metadata": {
        "id": "iuArXDFgR-HT"
      },
      "source": [
        "`model_predict`, veri yığınındaki ger görüntü için bir tane olmak üzere bir liste döndürür. Gruptaki sadece resmimizi ilgilendiren tahminleri alalım :"
      ]
    },
    {
      "cell_type": "code",
      "metadata": {
        "colab": {
          "base_uri": "https://localhost:8080/"
        },
        "id": "pwv4v2ruR8oR",
        "outputId": "c4350409-a804-4de1-92e3-1c7f4b244638"
      },
      "source": [
        "np.argmax(predictions_single[0])"
      ],
      "execution_count": 25,
      "outputs": [
        {
          "output_type": "execute_result",
          "data": {
            "text/plain": [
              "4"
            ]
          },
          "metadata": {
            "tags": []
          },
          "execution_count": 25
        }
      ]
    },
    {
      "cell_type": "markdown",
      "metadata": {
        "id": "CpuCZjCzSFpa"
      },
      "source": [
        "Daha önce de olduğu gibi modelimiz 4 numaralı sınıfı yani kaban etiketini tahmin ediyor."
      ]
    },
    {
      "cell_type": "code",
      "metadata": {
        "id": "gdk7miVwSAH4"
      },
      "source": [
        ""
      ],
      "execution_count": null,
      "outputs": []
    }
  ]
}