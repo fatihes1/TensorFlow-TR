{
  "nbformat": 4,
  "nbformat_minor": 0,
  "metadata": {
    "colab": {
      "name": "B09_06_NLP_Alt_Kelimeler.ipynb",
      "provenance": [],
      "collapsed_sections": []
    },
    "kernelspec": {
      "name": "python3",
      "display_name": "Python 3"
    },
    "language_info": {
      "name": "python"
    },
    "accelerator": "GPU"
  },
  "cells": [
    {
      "cell_type": "markdown",
      "metadata": {
        "id": "4qzpGgli5ppM"
      },
      "source": [
        "# Alt Kelimeler (sub-word) Nedir ?\n",
        "\n",
        "Bu ortak çalışmada, alt sözcüklerle veya daha büyük sözcüklerin parçalarından oluşan sözcüklerle çalışacağız ve bunun ağımızı ve ilgili yerleştirmeleri nasıl etkilediğini göreceğiz."
      ]
    },
    {
      "cell_type": "markdown",
      "metadata": {
        "id": "WaK8pdz453tc"
      },
      "source": [
        "## TensorFlow Kütüphanesinin ve Gerekli İşlevlerin İçeri Aktarılması "
      ]
    },
    {
      "cell_type": "code",
      "metadata": {
        "id": "abBak7RH5a79"
      },
      "source": [
        "import tensorflow as tf\n",
        "\n",
        "from tensorflow.keras.preprocessing.sequence import pad_sequences"
      ],
      "execution_count": 1,
      "outputs": []
    },
    {
      "cell_type": "markdown",
      "metadata": {
        "id": "vjNpGgUW6Cb1"
      },
      "source": [
        "## Veri Setinin Alınması\n",
        "\n",
        "Amazon ve Yelp incelemelerini (yorumlarını) içeren veri setini bir kez daha kullanacağız. Bu veri seti orijinal olarak [buradan](https://www.kaggle.com/marklvl/sentiment-labelled-sentences-data-set) alınmıştır.\n"
      ]
    },
    {
      "cell_type": "code",
      "metadata": {
        "colab": {
          "base_uri": "https://localhost:8080/"
        },
        "id": "x2LtAGb96AZm",
        "outputId": "40545bf2-eda1-41a3-d3d0-b7d57c09f3dc"
      },
      "source": [
        "!wget --no-check-certificate \\\n",
        "    https://drive.google.com/uc?id=13ySLC_ue6Umt9RJYSeM2t-V0kCv-4C-P \\\n",
        "    -O /tmp/sentiment.csv"
      ],
      "execution_count": 2,
      "outputs": [
        {
          "output_type": "stream",
          "text": [
            "--2021-07-28 11:38:00--  https://drive.google.com/uc?id=13ySLC_ue6Umt9RJYSeM2t-V0kCv-4C-P\n",
            "Resolving drive.google.com (drive.google.com)... 108.177.97.100, 108.177.97.101, 108.177.97.139, ...\n",
            "Connecting to drive.google.com (drive.google.com)|108.177.97.100|:443... connected.\n",
            "HTTP request sent, awaiting response... 302 Moved Temporarily\n",
            "Location: https://doc-08-ak-docs.googleusercontent.com/docs/securesc/ha0ro937gcuc7l7deffksulhg5h7mbp1/coa4uu4h64moik3anj2ik7a4p1ju6fik/1627472250000/11118900490791463723/*/13ySLC_ue6Umt9RJYSeM2t-V0kCv-4C-P [following]\n",
            "Warning: wildcards not supported in HTTP.\n",
            "--2021-07-28 11:38:00--  https://doc-08-ak-docs.googleusercontent.com/docs/securesc/ha0ro937gcuc7l7deffksulhg5h7mbp1/coa4uu4h64moik3anj2ik7a4p1ju6fik/1627472250000/11118900490791463723/*/13ySLC_ue6Umt9RJYSeM2t-V0kCv-4C-P\n",
            "Resolving doc-08-ak-docs.googleusercontent.com (doc-08-ak-docs.googleusercontent.com)... 64.233.189.132, 2404:6800:4008:c07::84\n",
            "Connecting to doc-08-ak-docs.googleusercontent.com (doc-08-ak-docs.googleusercontent.com)|64.233.189.132|:443... connected.\n",
            "HTTP request sent, awaiting response... 200 OK\n",
            "Length: 127831 (125K) [text/csv]\n",
            "Saving to: ‘/tmp/sentiment.csv’\n",
            "\n",
            "/tmp/sentiment.csv  100%[===================>] 124.83K  --.-KB/s    in 0.001s  \n",
            "\n",
            "2021-07-28 11:38:01 (90.4 MB/s) - ‘/tmp/sentiment.csv’ saved [127831/127831]\n",
            "\n"
          ],
          "name": "stdout"
        }
      ]
    },
    {
      "cell_type": "code",
      "metadata": {
        "id": "fK_STQ5B6Dym"
      },
      "source": [
        "import pandas as pd\n",
        "\n",
        "dataset = pd.read_csv('/tmp/sentiment.csv')\n",
        "\n",
        "# Önce cümleleri ve etiketleri çıkarmanız yeterlidir - burada alt kelimeler oluşturacağız\n",
        "sentences = dataset['text'].tolist()\n",
        "labels = dataset['sentiment'].tolist()"
      ],
      "execution_count": 3,
      "outputs": []
    },
    {
      "cell_type": "markdown",
      "metadata": {
        "id": "5yyoErEl6NUU"
      },
      "source": [
        "## Alt Kelime Veri Setinin Oluşturulması\n",
        "\n",
        "Mevcut Amazon ve Yelp inceleme (yorum) veri setini `tensorflow_datasets` içerisinde bulunan `SubwordTextEncode` işlevi ile yapacağız. `SubwordTextEncoder.build_from_corpus()` bizim için bir tokenize edici oluşturur. Bu işlevi aynı zamanda çok daha büyük bir metin bütününden alt sözcükler almak için de kullanabilirsiniz, ancak biz burada sadece mevcut veri setimizi kullanacağız.\n",
        "\n",
        "Kullandığımız Amazon ve Yelp veri seti çok büyük değil, bu yüzden sadece en yaygın 1.000 kelimeden oluşan bir alt kelimesi seti oluşturacağız ve her bir alt kelimeyi en fazla 5 karakter olacak şekilde keseceğiz.\n",
        "\n",
        "İlgili belgelere [buradan](https://www.tensorflow.org/datasets/api_docs/python/tfds/features/text/SubwordTextEncoder#build_from_corpus) göz atabilirsiniz."
      ]
    },
    {
      "cell_type": "code",
      "metadata": {
        "id": "RP6NS3is6Ls1"
      },
      "source": [
        "import tensorflow_datasets as tfds\n",
        "\n",
        "vocab_size = 1000\n",
        "tokenizer = tfds.deprecated.text.SubwordTextEncoder.build_from_corpus(sentences, vocab_size, max_subword_length=5)"
      ],
      "execution_count": 4,
      "outputs": []
    },
    {
      "cell_type": "code",
      "metadata": {
        "colab": {
          "base_uri": "https://localhost:8080/"
        },
        "id": "ubIbsX7L7KA3",
        "outputId": "8ab20d2d-a64a-42f8-e6d2-fd42e9a185c1"
      },
      "source": [
        "# Tokenize edicinin doğru çalıştığını kontrol edin\n",
        "num = 5\n",
        "print(sentences[num])\n",
        "encoded = tokenizer.encode(sentences[num])\n",
        "print(encoded)\n",
        "# Her bir alt sözcüğü ayrı ayrı yazdırın, kodu çözerek\n",
        "for i in encoded:\n",
        "  print(tokenizer.decode([i]))"
      ],
      "execution_count": 5,
      "outputs": [
        {
          "output_type": "stream",
          "text": [
            "I have to jiggle the plug to get it to line up right to get decent volume.\n",
            "[4, 31, 6, 849, 162, 450, 12, 1, 600, 438, 775, 6, 175, 14, 6, 55, 213, 159, 474, 775, 6, 175, 614, 380, 295, 148, 72, 789]\n",
            "I \n",
            "have \n",
            "to \n",
            "j\n",
            "ig\n",
            "gl\n",
            "e \n",
            "the \n",
            "pl\n",
            "ug\n",
            " \n",
            "to \n",
            "get \n",
            "it \n",
            "to \n",
            "li\n",
            "ne \n",
            "up \n",
            "right\n",
            " \n",
            "to \n",
            "get \n",
            "dec\n",
            "ent \n",
            "vo\n",
            "lu\n",
            "me\n",
            ".\n"
          ],
          "name": "stdout"
        }
      ]
    },
    {
      "cell_type": "markdown",
      "metadata": {
        "id": "6d82XYqz7Xwn"
      },
      "source": [
        "## Cümle Verilerinin Kodlanmış Al Sözcükler İle Değiştirilmesi\n",
        "\n",
        "Şimdi, her bir cümleyi fiilen kodlayarak eğitim için kullanılacak veri setini yeniden oluşturacağız. Bu daha önceki modelde kullanılan `text_to_sequences` ve  `Tokenizer`'e eş değerdir."
      ]
    },
    {
      "cell_type": "code",
      "metadata": {
        "id": "RG0ZXw0P7T3-"
      },
      "source": [
        "for i, sentence in enumerate(sentences):\n",
        "  sentences[i] = tokenizer.encode(sentence)"
      ],
      "execution_count": 6,
      "outputs": []
    },
    {
      "cell_type": "code",
      "metadata": {
        "colab": {
          "base_uri": "https://localhost:8080/"
        },
        "id": "VJTahgKN7r1W",
        "outputId": "a5a0eb2d-d424-4ee5-d2df-8aaddfcb335a"
      },
      "source": [
        "# Cümlelerin uygun şekilde değiştirildiğini kontrol edin\n",
        "print(sentences[1])"
      ],
      "execution_count": 7,
      "outputs": [
        {
          "output_type": "stream",
          "text": [
            "[625, 677, 626, 274, 380, 633, 148, 844, 789]\n"
          ],
          "name": "stdout"
        }
      ]
    },
    {
      "cell_type": "markdown",
      "metadata": {
        "id": "pKZaNFLM7yXG"
      },
      "source": [
        "## Son Ön İşlemenin Yapılması\n",
        "\n",
        "Eğitimden önce, dizileri doldurmanın yanı sıra eğitim ve test setlerine ayırmamız gerekiyor.\n"
      ]
    },
    {
      "cell_type": "code",
      "metadata": {
        "id": "UTQF888N7vu1"
      },
      "source": [
        "import numpy as np\n",
        "\n",
        "max_length = 50\n",
        "trunc_type='post'\n",
        "padding_type='post'\n",
        "\n",
        "# Tüm cümleleri doldurun (padding)\n",
        "sentences_padded = pad_sequences(sentences, maxlen=max_length, \n",
        "                                 padding=padding_type, truncating=trunc_type)\n",
        "\n",
        "# Cümleleri ve etiketleri, eğitim ve test setlerine ayırın\n",
        "training_size = int(len(sentences) * 0.8)\n",
        "\n",
        "training_sentences = sentences_padded[0:training_size]\n",
        "testing_sentences = sentences_padded[training_size:]\n",
        "training_labels = labels[0:training_size]\n",
        "testing_labels = labels[training_size:]\n",
        "\n",
        "# Etiketleri daha sonra ağda kullanmak üzere numpy dizilerine dönüştürün\n",
        "training_labels_final = np.array(training_labels)\n",
        "testing_labels_final = np.array(testing_labels)"
      ],
      "execution_count": 9,
      "outputs": []
    },
    {
      "cell_type": "markdown",
      "metadata": {
        "id": "5WNJTTiJ8IWa"
      },
      "source": [
        "## Duygu Analizi Modelinin Eğitilmesi"
      ]
    },
    {
      "cell_type": "code",
      "metadata": {
        "colab": {
          "base_uri": "https://localhost:8080/"
        },
        "id": "QxojOhL88Epn",
        "outputId": "84ba6ff0-948c-4596-bf46-3d94c9df33d4"
      },
      "source": [
        "embedding_dim = 16\n",
        "model = tf.keras.Sequential([\n",
        "    tf.keras.layers.Embedding(vocab_size, embedding_dim, input_length=max_length),\n",
        "    tf.keras.layers.GlobalAveragePooling1D(),\n",
        "    tf.keras.layers.Dense(6, activation='relu'),\n",
        "    tf.keras.layers.Dense(1, activation='sigmoid')\n",
        "])\n",
        "\n",
        "model.summary()"
      ],
      "execution_count": 10,
      "outputs": [
        {
          "output_type": "stream",
          "text": [
            "Model: \"sequential\"\n",
            "_________________________________________________________________\n",
            "Layer (type)                 Output Shape              Param #   \n",
            "=================================================================\n",
            "embedding (Embedding)        (None, 50, 16)            16000     \n",
            "_________________________________________________________________\n",
            "global_average_pooling1d (Gl (None, 16)                0         \n",
            "_________________________________________________________________\n",
            "dense (Dense)                (None, 6)                 102       \n",
            "_________________________________________________________________\n",
            "dense_1 (Dense)              (None, 1)                 7         \n",
            "=================================================================\n",
            "Total params: 16,109\n",
            "Trainable params: 16,109\n",
            "Non-trainable params: 0\n",
            "_________________________________________________________________\n"
          ],
          "name": "stdout"
        }
      ]
    },
    {
      "cell_type": "code",
      "metadata": {
        "colab": {
          "base_uri": "https://localhost:8080/"
        },
        "id": "9NLfaTI48Lg9",
        "outputId": "f11a7559-5417-4eba-a784-c7b045807d6d"
      },
      "source": [
        "num_epochs = 30\n",
        "model.compile(loss='binary_crossentropy',optimizer='adam',metrics=['accuracy'])\n",
        "history = model.fit(training_sentences, training_labels_final, epochs=num_epochs, \n",
        "                    validation_data=(testing_sentences, testing_labels_final))"
      ],
      "execution_count": 11,
      "outputs": [
        {
          "output_type": "stream",
          "text": [
            "Epoch 1/30\n",
            "50/50 [==============================] - 4s 10ms/step - loss: 0.6919 - accuracy: 0.5235 - val_loss: 0.6965 - val_accuracy: 0.4185\n",
            "Epoch 2/30\n",
            "50/50 [==============================] - 0s 6ms/step - loss: 0.6898 - accuracy: 0.5342 - val_loss: 0.6980 - val_accuracy: 0.4336\n",
            "Epoch 3/30\n",
            "50/50 [==============================] - 0s 5ms/step - loss: 0.6855 - accuracy: 0.5719 - val_loss: 0.6924 - val_accuracy: 0.4962\n",
            "Epoch 4/30\n",
            "50/50 [==============================] - 0s 5ms/step - loss: 0.6766 - accuracy: 0.5995 - val_loss: 0.6863 - val_accuracy: 0.5138\n",
            "Epoch 5/30\n",
            "50/50 [==============================] - 0s 6ms/step - loss: 0.6629 - accuracy: 0.6365 - val_loss: 0.6779 - val_accuracy: 0.5363\n",
            "Epoch 6/30\n",
            "50/50 [==============================] - 0s 6ms/step - loss: 0.6419 - accuracy: 0.6962 - val_loss: 0.6651 - val_accuracy: 0.5464\n",
            "Epoch 7/30\n",
            "50/50 [==============================] - 0s 6ms/step - loss: 0.6121 - accuracy: 0.7502 - val_loss: 0.6407 - val_accuracy: 0.6341\n",
            "Epoch 8/30\n",
            "50/50 [==============================] - 0s 5ms/step - loss: 0.5746 - accuracy: 0.7822 - val_loss: 0.6057 - val_accuracy: 0.6992\n",
            "Epoch 9/30\n",
            "50/50 [==============================] - 0s 5ms/step - loss: 0.5320 - accuracy: 0.8211 - val_loss: 0.5877 - val_accuracy: 0.7043\n",
            "Epoch 10/30\n",
            "50/50 [==============================] - 0s 6ms/step - loss: 0.4899 - accuracy: 0.8349 - val_loss: 0.5744 - val_accuracy: 0.6917\n",
            "Epoch 11/30\n",
            "50/50 [==============================] - 0s 5ms/step - loss: 0.4508 - accuracy: 0.8456 - val_loss: 0.5322 - val_accuracy: 0.7569\n",
            "Epoch 12/30\n",
            "50/50 [==============================] - 0s 5ms/step - loss: 0.4161 - accuracy: 0.8588 - val_loss: 0.5227 - val_accuracy: 0.7393\n",
            "Epoch 13/30\n",
            "50/50 [==============================] - 0s 6ms/step - loss: 0.3867 - accuracy: 0.8688 - val_loss: 0.5339 - val_accuracy: 0.7393\n",
            "Epoch 14/30\n",
            "50/50 [==============================] - 0s 6ms/step - loss: 0.3606 - accuracy: 0.8788 - val_loss: 0.5088 - val_accuracy: 0.7469\n",
            "Epoch 15/30\n",
            "50/50 [==============================] - 0s 6ms/step - loss: 0.3364 - accuracy: 0.8770 - val_loss: 0.5077 - val_accuracy: 0.7519\n",
            "Epoch 16/30\n",
            "50/50 [==============================] - 0s 6ms/step - loss: 0.3165 - accuracy: 0.8895 - val_loss: 0.5258 - val_accuracy: 0.7444\n",
            "Epoch 17/30\n",
            "50/50 [==============================] - 0s 6ms/step - loss: 0.3005 - accuracy: 0.8964 - val_loss: 0.4979 - val_accuracy: 0.7569\n",
            "Epoch 18/30\n",
            "50/50 [==============================] - 0s 5ms/step - loss: 0.2844 - accuracy: 0.8983 - val_loss: 0.5059 - val_accuracy: 0.7519\n",
            "Epoch 19/30\n",
            "50/50 [==============================] - 0s 6ms/step - loss: 0.2698 - accuracy: 0.9014 - val_loss: 0.5058 - val_accuracy: 0.7494\n",
            "Epoch 20/30\n",
            "50/50 [==============================] - 0s 6ms/step - loss: 0.2573 - accuracy: 0.9077 - val_loss: 0.5097 - val_accuracy: 0.7519\n",
            "Epoch 21/30\n",
            "50/50 [==============================] - 0s 6ms/step - loss: 0.2457 - accuracy: 0.9146 - val_loss: 0.5254 - val_accuracy: 0.7494\n",
            "Epoch 22/30\n",
            "50/50 [==============================] - 0s 5ms/step - loss: 0.2351 - accuracy: 0.9178 - val_loss: 0.5331 - val_accuracy: 0.7469\n",
            "Epoch 23/30\n",
            "50/50 [==============================] - 0s 6ms/step - loss: 0.2266 - accuracy: 0.9215 - val_loss: 0.5194 - val_accuracy: 0.7569\n",
            "Epoch 24/30\n",
            "50/50 [==============================] - 0s 6ms/step - loss: 0.2171 - accuracy: 0.9284 - val_loss: 0.5411 - val_accuracy: 0.7393\n",
            "Epoch 25/30\n",
            "50/50 [==============================] - 0s 6ms/step - loss: 0.2094 - accuracy: 0.9284 - val_loss: 0.5334 - val_accuracy: 0.7594\n",
            "Epoch 26/30\n",
            "50/50 [==============================] - 0s 6ms/step - loss: 0.2005 - accuracy: 0.9328 - val_loss: 0.5747 - val_accuracy: 0.7368\n",
            "Epoch 27/30\n",
            "50/50 [==============================] - 0s 6ms/step - loss: 0.1941 - accuracy: 0.9379 - val_loss: 0.5557 - val_accuracy: 0.7444\n",
            "Epoch 28/30\n",
            "50/50 [==============================] - 0s 6ms/step - loss: 0.1863 - accuracy: 0.9391 - val_loss: 0.5661 - val_accuracy: 0.7469\n",
            "Epoch 29/30\n",
            "50/50 [==============================] - 0s 5ms/step - loss: 0.1794 - accuracy: 0.9448 - val_loss: 0.5731 - val_accuracy: 0.7519\n",
            "Epoch 30/30\n",
            "50/50 [==============================] - 0s 6ms/step - loss: 0.1743 - accuracy: 0.9429 - val_loss: 0.5721 - val_accuracy: 0.7569\n"
          ],
          "name": "stdout"
        }
      ]
    },
    {
      "cell_type": "markdown",
      "metadata": {
        "id": "P2zlGhVy8b4v"
      },
      "source": [
        "## Eğitim Sürecinin Grafik İle Görselleştirilmesi\n",
        "\n",
        "Hiperparametrelerde ve modelde farklı ince ayarlar denerken eğitim ve doğrulama seti doğruluğunu (`accuracy`) görselleştirmek için aşağıdaki kodu kullanabilirsiniz."
      ]
    },
    {
      "cell_type": "code",
      "metadata": {
        "colab": {
          "base_uri": "https://localhost:8080/",
          "height": 541
        },
        "id": "0I5rUlZq8McN",
        "outputId": "faf646be-b434-4a21-b069-6a99743bfe5d"
      },
      "source": [
        "import matplotlib.pyplot as plt\n",
        "\n",
        "\n",
        "def plot_graphs(history, string):\n",
        "  plt.plot(history.history[string])\n",
        "  plt.plot(history.history['val_'+string])\n",
        "  plt.xlabel(\"Yineleme (Epochs)\")\n",
        "  plt.ylabel(string)\n",
        "  plt.legend([string, 'val_'+string])\n",
        "  plt.show()\n",
        "  \n",
        "plot_graphs(history, \"accuracy\")\n",
        "plot_graphs(history, \"loss\")"
      ],
      "execution_count": 12,
      "outputs": [
        {
          "output_type": "display_data",
          "data": {
            "image/png": "[encoded data removed]",
            "text/plain": [
              "<Figure size 432x288 with 1 Axes>"
            ]
          },
          "metadata": {
            "tags": [],
            "needs_background": "light"
          }
        },
        {
          "output_type": "display_data",
          "data": {
            "image/png": "[encoded data removed]",
            "text/plain": [
              "<Figure size 432x288 with 1 Axes>"
            ]
          },
          "metadata": {
            "tags": [],
            "needs_background": "light"
          }
        }
      ]
    },
    {
      "cell_type": "markdown",
      "metadata": {
        "id": "c9VrfAIg9SkH"
      },
      "source": [
        "## Ağı Görselleştirmek İçin Dosyaların Alınması\n",
        "\n",
        "Aşağıdaki kod, ağınızın her bir kelimeyle ilgili duyguyu nasıl \"gördüğünü\" görselleştirmek için iki dosya indirecektir. http://projector.tensorflow.org/ adresine gidin ve bu dosyaları yükleyin, ardından verileri \"küreleştirmek\" için onay kutusunu tıklamayı unutmayın.\n",
        "\n",
        "Aşağıdaki kodun, yerleşik `Tokenizer` ile öncekine kıyasla, veri kümemizde metnin farklı şekilde kodlanmasını işlemek için birkaç küçük değişiklik olduğunu unutmayın.\n",
        "\n",
        "\"Tensor sayısı (999), meta verilerdeki satır sayısıyla (992) eşleşmiyor\" (Number of tensors (999) do not match the number of lines in metadata (992)) gibi bir hata alabilirsiniz. Önce vektörleri hatasız yüklediğiniz ve bu belirdikten sonra birkaç saniye beklediğiniz sürece, dosya yükleme menüsünün dışına tıklayabilir ve yine de görselleştirmeyi görüntüleyebilirsiniz.\n"
      ]
    },
    {
      "cell_type": "code",
      "metadata": {
        "colab": {
          "base_uri": "https://localhost:8080/"
        },
        "id": "uGly0hNG9Hre",
        "outputId": "ad1ce10f-d1ea-4a6a-f894-0c24954485ec"
      },
      "source": [
        "# İlk önce gömme katmanının ağırlıklarını alın\n",
        "e = model.layers[0]\n",
        "weights = e.get_weights()[0]\n",
        "print(weights.shape) # şekil: (vocab_size, embedding_dim)"
      ],
      "execution_count": 13,
      "outputs": [
        {
          "output_type": "stream",
          "text": [
            "(1000, 16)\n"
          ],
          "name": "stdout"
        }
      ]
    },
    {
      "cell_type": "code",
      "metadata": {
        "id": "rXoUIB3v9hO1"
      },
      "source": [
        "import io\n",
        "\n",
        "# Gömme vektörlerini ve meta verileri yazın\n",
        "out_v = io.open('vecs.tsv', 'w', encoding='utf-8')\n",
        "out_m = io.open('meta.tsv', 'w', encoding='utf-8')\n",
        "for word_num in range(0, vocab_size - 1):\n",
        "  word = tokenizer.decode([word_num])\n",
        "  embeddings = weights[word_num]\n",
        "  out_m.write(word + \"\\n\")\n",
        "  out_v.write('\\t'.join([str(x) for x in embeddings]) + \"\\n\")\n",
        "out_v.close()\n",
        "out_m.close()"
      ],
      "execution_count": 14,
      "outputs": []
    },
    {
      "cell_type": "code",
      "metadata": {
        "colab": {
          "base_uri": "https://localhost:8080/",
          "height": 17
        },
        "id": "bRwcHX_S9jTN",
        "outputId": "79cdae89-95f9-4cfa-f9b0-b4d5c3da2676"
      },
      "source": [
        "# Dosyaları İndirin\n",
        "try:\n",
        "  from google.colab import files\n",
        "except ImportError:\n",
        "  pass\n",
        "else:\n",
        "  files.download('vecs.tsv')\n",
        "  files.download('meta.tsv')"
      ],
      "execution_count": 15,
      "outputs": [
        {
          "output_type": "display_data",
          "data": {
            "application/javascript": [
              "\n",
              "    async function download(id, filename, size) {\n",
              "      if (!google.colab.kernel.accessAllowed) {\n",
              "        return;\n",
              "      }\n",
              "      const div = document.createElement('div');\n",
              "      const label = document.createElement('label');\n",
              "      label.textContent = `Downloading \"${filename}\": `;\n",
              "      div.appendChild(label);\n",
              "      const progress = document.createElement('progress');\n",
              "      progress.max = size;\n",
              "      div.appendChild(progress);\n",
              "      document.body.appendChild(div);\n",
              "\n",
              "      const buffers = [];\n",
              "      let downloaded = 0;\n",
              "\n",
              "      const channel = await google.colab.kernel.comms.open(id);\n",
              "      // Send a message to notify the kernel that we're ready.\n",
              "      channel.send({})\n",
              "\n",
              "      for await (const message of channel.messages) {\n",
              "        // Send a message to notify the kernel that we're ready.\n",
              "        channel.send({})\n",
              "        if (message.buffers) {\n",
              "          for (const buffer of message.buffers) {\n",
              "            buffers.push(buffer);\n",
              "            downloaded += buffer.byteLength;\n",
              "            progress.value = downloaded;\n",
              "          }\n",
              "        }\n",
              "      }\n",
              "      const blob = new Blob(buffers, {type: 'application/binary'});\n",
              "      const a = document.createElement('a');\n",
              "      a.href = window.URL.createObjectURL(blob);\n",
              "      a.download = filename;\n",
              "      div.appendChild(a);\n",
              "      a.click();\n",
              "      div.remove();\n",
              "    }\n",
              "  "
            ],
            "text/plain": [
              "<IPython.core.display.Javascript object>"
            ]
          },
          "metadata": {
            "tags": []
          }
        },
        {
          "output_type": "display_data",
          "data": {
            "application/javascript": [
              "download(\"download_1e88a0fb-98ef-416b-85af-957447db0723\", \"vecs.tsv\", 186807)"
            ],
            "text/plain": [
              "<IPython.core.display.Javascript object>"
            ]
          },
          "metadata": {
            "tags": []
          }
        },
        {
          "output_type": "display_data",
          "data": {
            "application/javascript": [
              "\n",
              "    async function download(id, filename, size) {\n",
              "      if (!google.colab.kernel.accessAllowed) {\n",
              "        return;\n",
              "      }\n",
              "      const div = document.createElement('div');\n",
              "      const label = document.createElement('label');\n",
              "      label.textContent = `Downloading \"${filename}\": `;\n",
              "      div.appendChild(label);\n",
              "      const progress = document.createElement('progress');\n",
              "      progress.max = size;\n",
              "      div.appendChild(progress);\n",
              "      document.body.appendChild(div);\n",
              "\n",
              "      const buffers = [];\n",
              "      let downloaded = 0;\n",
              "\n",
              "      const channel = await google.colab.kernel.comms.open(id);\n",
              "      // Send a message to notify the kernel that we're ready.\n",
              "      channel.send({})\n",
              "\n",
              "      for await (const message of channel.messages) {\n",
              "        // Send a message to notify the kernel that we're ready.\n",
              "        channel.send({})\n",
              "        if (message.buffers) {\n",
              "          for (const buffer of message.buffers) {\n",
              "            buffers.push(buffer);\n",
              "            downloaded += buffer.byteLength;\n",
              "            progress.value = downloaded;\n",
              "          }\n",
              "        }\n",
              "      }\n",
              "      const blob = new Blob(buffers, {type: 'application/binary'});\n",
              "      const a = document.createElement('a');\n",
              "      a.href = window.URL.createObjectURL(blob);\n",
              "      a.download = filename;\n",
              "      div.appendChild(a);\n",
              "      a.click();\n",
              "      div.remove();\n",
              "    }\n",
              "  "
            ],
            "text/plain": [
              "<IPython.core.display.Javascript object>"
            ]
          },
          "metadata": {
            "tags": []
          }
        },
        {
          "output_type": "display_data",
          "data": {
            "application/javascript": [
              "download(\"download_c26c173f-0f5b-42c7-97e5-c253754619be\", \"meta.tsv\", 3901)"
            ],
            "text/plain": [
              "<IPython.core.display.Javascript object>"
            ]
          },
          "metadata": {
            "tags": []
          }
        }
      ]
    }
  ]
}