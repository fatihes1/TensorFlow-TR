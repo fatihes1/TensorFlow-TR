{
  "nbformat": 4,
  "nbformat_minor": 0,
  "metadata": {
    "colab": {
      "name": "B01_02_Santigrattan_Fahrenhayta_Dönüşüm.ipynb",
      "provenance": [],
      "collapsed_sections": []
    },
    "kernelspec": {
      "name": "python3",
      "display_name": "Python 3"
    },
    "language_info": {
      "name": "python"
    }
  },
  "cells": [
    {
      "cell_type": "markdown",
      "metadata": {
        "id": "AV0OKXrrGFHg"
      },
      "source": [
        "# Temel Bilgiler: İlk Modelin Eğitilmesi"
      ]
    },
    {
      "cell_type": "markdown",
      "metadata": {
        "id": "Y2RuqFD6GKeD"
      },
      "source": [
        "İlk makine öğrenmesi modelinizi eğiteceğiniz bu Colab dosyasına hoş geldiniz!\n",
        "\n",
        "Bu dosyada basit tutulmaya çalışılmıştır ve temel kavramlar üzerine bir tanıtım niteliğindedir. Daha sonra karşımıza gelecek Colab dosyaları daha gelişmiş sorunları kapsayacak şekildedir.\n",
        "\n",
        "Çözeceğimiz problem, Santigrattan -> Fahrenhayta dönüşümdür. Normalde formül şu şekildedir:\n",
        "$$ f = c \\times 1.8 + 32 $$\n",
        "\n",
        "Elbette bu hesaplamayı doğrudan gerçekleştirebilecek bir Python fonksiyonu yazmak oldukça basit olurdu, ancak bu bir makine öğrenmesi olmazdı.\n",
        "\n",
        "Böyle bir fonksiyon oluşturmak yerine, TensorFlow'a bazı santigrat (celcius) değerleri (değerler: 0, 8, 15, 22, 38) ve bunlara karşılık gelen fahrenhayt (fahrenheit) değerleri (değerler: 32, 46, 59, 72, 100) vereceğiz. Daha donrasında yukarıdaki formülü bulan bir modeli oluşturup, eğitmeye çalışacağız."
      ]
    },
    {
      "cell_type": "markdown",
      "metadata": {
        "id": "vQGU_iYaHoyR"
      },
      "source": [
        "## Gereklili Kütüphanelerin İçeri Aktarılması\n",
        "\n",
        "İlk olarak TensorFlow'u içerği aktaracağız. Burada, kullanım kolaylığı için bu kütüphaneyi `tf` sözdizimi ile çağıracağız. Bununla beraber hataları göstermesini istediğimizi belirtiyoruz.\n",
        "\n",
        "Daha sonra [NumPy](http://www.numpy.org/) kütüphanesini `np` olarak içeri aktarıyoruz. Numpy, verilerimizi yüksek performanslı listeler olarak sunmamıza yardımcı olacaktır.\n"
      ]
    },
    {
      "cell_type": "code",
      "metadata": {
        "id": "qNjSOuDNFt9r"
      },
      "source": [
        "import tensorflow as tf"
      ],
      "execution_count": 1,
      "outputs": []
    },
    {
      "cell_type": "code",
      "metadata": {
        "id": "qInBnzoSIVDY"
      },
      "source": [
        "import numpy as np"
      ],
      "execution_count": 2,
      "outputs": []
    },
    {
      "cell_type": "code",
      "metadata": {
        "id": "nKYqfBPZIWdg"
      },
      "source": [
        "import logging\n",
        "logger = tf.get_logger()\n",
        "logger.setLevel(logging.ERROR)"
      ],
      "execution_count": 3,
      "outputs": []
    },
    {
      "cell_type": "markdown",
      "metadata": {
        "id": "68Y1npr2IqiO"
      },
      "source": [
        "## Eğitim Verilerinin Oluşturulması\n",
        "\n",
        "Denetimli makine öğrenimi, bir dizi girdi ve çıktı verilen bir algoritma bulmakla ilgilidir. Bu Colab dosyasındaki görevimiz, santigrat cinsinden dereceler verildiğinde fahrenhayt cinsinden sıcaklığı verebilecek bir model oluşturmaktır. Modelimizi eğitmek için `celcius` ve `fahrenheit` adında iki liste oluşturacağız.\n"
      ]
    },
    {
      "cell_type": "code",
      "metadata": {
        "colab": {
          "base_uri": "https://localhost:8080/"
        },
        "id": "qToZI6eDId46",
        "outputId": "282e60ac-627b-42df-a8c6-b356004df841"
      },
      "source": [
        "celsius    = np.array([-40, -10,  0,  8, 15, 22,  38],  dtype=float)\n",
        "fahrenheit = np.array([-40,  14, 32, 46, 59, 72, 100],  dtype=float)\n",
        "\n",
        "for i,c in enumerate(celsius):\n",
        "  print(\"{} santigrat derece = {} fahrenhayt derecedir.\".format(c, fahrenheit[i]))"
      ],
      "execution_count": 4,
      "outputs": [
        {
          "output_type": "stream",
          "text": [
            "-40.0 santigrat derece = -40.0 fahrenhayt derecedir.\n",
            "-10.0 santigrat derece = 14.0 fahrenhayt derecedir.\n",
            "0.0 santigrat derece = 32.0 fahrenhayt derecedir.\n",
            "8.0 santigrat derece = 46.0 fahrenhayt derecedir.\n",
            "15.0 santigrat derece = 59.0 fahrenhayt derecedir.\n",
            "22.0 santigrat derece = 72.0 fahrenhayt derecedir.\n",
            "38.0 santigrat derece = 100.0 fahrenhayt derecedir.\n"
          ],
          "name": "stdout"
        }
      ]
    },
    {
      "cell_type": "markdown",
      "metadata": {
        "id": "P6GQ36uSJmO3"
      },
      "source": [
        "### Bazı Makine Öğrenimi Terimleri\n",
        "\n",
        "- **Özellike (*Feature*)** : Modelimizin girdileridir. Bu görev için santigrat cinsinden dereceler.\n",
        "- **Etiketler (*Labels*)** : Modelimizin tahmin ettiği çıktılardır. Bu görev için fahrenhayt cinsinden dereceler.\n",
        "- **Örnek (*Example*)** : Eğitim sırasında kullanılan girdi-çıktı birlikteliğidir. Belirli bir indeksteki santigrat-fahrenhayt eşleşmesidir. Örneğin; (22, 72) girdi-çıktı çifti."
      ]
    },
    {
      "cell_type": "markdown",
      "metadata": {
        "id": "_qMZF3jzK6ib"
      },
      "source": [
        ""
      ]
    },
    {
      "cell_type": "markdown",
      "metadata": {
        "id": "EPp5O6VgLP9B"
      },
      "source": [
        "## Modelin Oluşturulması\n",
        "\n",
        "Şimdi modelimizi oluşturma zamanı. Mümkün olan en basit modeli kullanacağız: Bir yoğun ağ (Dense Network). Sorun basit olduğu için, bu ağ tek bir nöron ile sadece tek bir katman (layer) oluşturmak yeterli olacaktır.\n",
        "\n",
        "### Katman Oluşturulması\n",
        "\n",
        "`tf.keras.layers.Dense` katmanı oluşturalım ve bu katmanı `l0` olarak çağıralım.\n",
        "\n",
        "* `input_shape=[1]` — Bu parametre, katmana girdinin tek bir değer olduğunu belirtir. Yeni şekil, tek üyeli tek boyutlu bir dizidir. Bu ilk ve tek katman olduğundan, bu girdi şekli tüm modelin girdi şeklidir. Girdi olan bu tek değer, santigrat derecesini temsil eden `float` veri tipine sahip bir sayıdır.\n",
        "\n",
        "* `units:1` — Bu parametre, katmandaki nöron sayısını belirtir. Nöron sayısı, katmanın problemi nasıl çözeceğini öğrenmek için kaç tane dahili değişkeni denemesi gerektiğini tanımlar. Bu son katman olduğu için, aynı zamanda modelin çıktısının (fahrenhayt derecesini temsil eden `float` veri tipinde tek bir sayı) boyutudur. \n",
        "\n",
        "Eğer çok katmanlı bir ağda çalışıyorsunuz, katmanın boyutu ve şeklinin bir sonraki katmanın `input_shape` parametresi ile eşleşmesi gerekir."
      ]
    },
    {
      "cell_type": "code",
      "metadata": {
        "id": "nN0zbVsZJeOH"
      },
      "source": [
        "l0 = tf.keras.layers.Dense(units=1, input_shape=[1])"
      ],
      "execution_count": 5,
      "outputs": []
    },
    {
      "cell_type": "markdown",
      "metadata": {
        "id": "Vl6aZx3nNjhO"
      },
      "source": [
        "### Katmanların Model İle Birleştirilmesi\n",
        "\n",
        "Katmanlar tanımlandıktan sonra, bir modelle birleştirilmesi gereklidir. Sıralı (Sequential) model tanımı, girdiden çıktıya kadar hesaplama sırasını belirten bir argüman olarak katmanların bir listesini bekler.\n",
        "\n",
        "Bu modelimiz sadece `l0` adı verilen tek bir katmandan oluşmaktadır."
      ]
    },
    {
      "cell_type": "code",
      "metadata": {
        "id": "4j9Fp9CcNcVZ"
      },
      "source": [
        "model = tf.keras.Sequential([l0])"
      ],
      "execution_count": 6,
      "outputs": []
    },
    {
      "cell_type": "markdown",
      "metadata": {
        "id": "82ulloYTON3J"
      },
      "source": [
        "**Not**\n",
        "\n",
        "Aşağıdaki örnekteki gibi önceden tanımlanmamış, model oluştururken tanımlanan katmanlar görebilirsiniz :\n",
        "\n",
        "```python\n",
        "model = tf.keras.Sequential([\n",
        "  tf.keras.layers.Dense(units=1, input_shape=[1])\n",
        "])\n",
        "```"
      ]
    },
    {
      "cell_type": "markdown",
      "metadata": {
        "id": "Szv2QgB-Oi_2"
      },
      "source": [
        "## Modelin, Kayıp ve Optimize Edici İşlevleriyle Derlenmesi\n",
        "\n",
        "Eğitim başlamadan önce modelin derlenmesi gerekmektedir. Model derlenirlen aşağıdaki parametreleri bekler:\n",
        "\n",
        "- **Kayıp Fonksiyonu (*Loss function*)** : Tahminlerin listenilen sonuçtan ne kadar uzakta olduğunu ölçmenin bir yoludur. (Ölçülen fark kayıp (loss) olarak adlandırılır.)\n",
        "\n",
        "- **Optimize Edici Fonksiyon (*Optimizer function*)** : Kayıp değerinin azaltılması için dahili değerlerin ayarlanmasını sağlamanın yoludur.\n"
      ]
    },
    {
      "cell_type": "code",
      "metadata": {
        "id": "DFxtZgPAOJwB"
      },
      "source": [
        "model.compile(loss='mean_squared_error',\n",
        "              optimizer=tf.keras.optimizers.Adam(0.1))"
      ],
      "execution_count": 7,
      "outputs": []
    },
    {
      "cell_type": "markdown",
      "metadata": {
        "id": "cxd48lLrP2dk"
      },
      "source": [
        "Bu parametreler, eğitim sırasında her noktada kaybı hesaplamak ve sonra onu iyileştirmek için kullanılır. Aslında, bir modelin mevcut kaybını hesaplama ve ardından onu iyileştirme eylemi tam olarak eğitimin ne olduğudur.\n",
        "\n",
        "Eğitim sırasında, modelin dahili değişkenlerindeki ayarlamaları hesaplamak için optimize edici işlevi kullanılır. Amaç, modeli (gerçekten bir matematik işlevi olan) santigratı fahrenhayta dönüştürmek için gerçek denklemi yansıtana kadar dahili değişkenleri ayarlamaktır.\n",
        "\n",
        "TensorFlow, bu ayarlamayı gerçekleştirmek için sayısal analiz kullanır ve tüm bu karmaşık ayrıntılara burada  girmeyeceğiz. Bu parametreler hakkında bilinmesi yararlı olan şeyler şunlardır:\n",
        "\n",
        "Burada kullanılan kayıp işlevi (ortalama kare hatası - [mean squared error](https://en.wikipedia.org/wiki/Mean_squared_error)) ve optimize edici ([Adam](https://machinelearningmastery.com/adam-optimization-algorithm-for-deep-learning/)), bunun gibi basit modeller için standarttır. Ancak bununla beraber birçok model mevcuttur.\n",
        "\n",
        "Öğrenme oranı, (yukarıdaki kodda : `0.1` olarak atanmıştır.) kendi modellerimizi oluştururken düşünmemiz gereken optimize edici işlevin bir parçasıdır. Bu, modeldeki değerler ayarlanırken alınan adım boyutudur. Değer, çok küçükse modeli eğitmek için çok fazla iterasyon gerekecektir. Çok büyükse doğrulama düşecektir. İyi bir değer bulmak genellikle deneme yanılma gerektirmektedir, ancak aralık genellikle 0,001 (varsayılan değer) ile 0.1 aralığındadır."
      ]
    },
    {
      "cell_type": "markdown",
      "metadata": {
        "id": "sdkrrK1RSEPn"
      },
      "source": [
        "## Modelin Eğitilmesi\n",
        "\n",
        "Modelin eğitilmesi `fit` metodunun çağrılması ile gerçekleşir.\n",
        "\n",
        "Eğitim sırasında model santigrat (celcius) değerlerini alır, mevcut dahil değişkenlerleri (ağırlıklar -weights- olarak da adlandırılır.) kullanarak bir hesaplama yapar ve fahrenhayta eşdeğer olması gereken değerleri verir. Ağırlıklar başlangıçta rastegele ayarlandığı için çıktı doğru değere yakın olmayacaktır. Gerçek çıktı ile istenilen çıktı arasında fark, kayıp işlevi kullanılarak hesaplanır ve optimize edici işlevini, ağırlıkları nasıl ayarlaması gerektiği konusunda yönlendirir.\n",
        "\n",
        "Bu hesaplama `fit` yöntemi ile kontrol edilir. İlk argüman olarak girdiler ve ikinci argüman olarak istenilen çıktılar verilir. `epochs` bağımsız değişkeni, bu döngünün kaç kez çalıştırılacağını belirtir ve `verbose` yöntemin ne kadar çıktı üreteceğini denetler."
      ]
    },
    {
      "cell_type": "code",
      "metadata": {
        "colab": {
          "base_uri": "https://localhost:8080/"
        },
        "id": "7SML2e0CPa6B",
        "outputId": "905a0351-ea8a-4a14-f510-c36abb8db5e2"
      },
      "source": [
        "history = model.fit(celsius, fahrenheit, epochs=500, verbose=False)\n",
        "print(\"Modelin eğitilmesi tamamlandı !\")"
      ],
      "execution_count": 8,
      "outputs": [
        {
          "output_type": "stream",
          "text": [
            "Modelin eğitilmesi tamamlandı !\n"
          ],
          "name": "stdout"
        }
      ]
    },
    {
      "cell_type": "markdown",
      "metadata": {
        "id": "orXwRYrJTcyL"
      },
      "source": [
        "## Eğitim İstatistiklerinin Görüntülenmesi\n",
        "\n",
        "`fit` yöntemi bir geçmiş (history) nesnesi döndürür. Bu nesneyi, her eğitim döneminden sonra modelimizin kaybının nasıl düştüğünü çizmek için kullanabiliriz. Yüksek bir kayıp, modelin öngördüğü fahrenhayt derecelerinin `fahrenheit` listesinde karşılık gelen değerden ne kadar uzak olduğu anlamına gelir.\n",
        "\n",
        "Bunu görselleştirmek için [Matplotlib](https://matplotlib.org/) kütüphanesini kullanacağız. Görüntüyü incelerseniz il etapta modelimiz çok hızlı bir şekilde gelişiyor ve daha sonrasında doğru değerlere çok yakın olana kadar istikrarlı ve yavaş bir gelişme gösteriyor."
      ]
    },
    {
      "cell_type": "code",
      "metadata": {
        "colab": {
          "base_uri": "https://localhost:8080/",
          "height": 297
        },
        "id": "VV2igG2bTZaP",
        "outputId": "406a4fc3-b847-446d-ec05-9df111024d8f"
      },
      "source": [
        "import matplotlib.pyplot as plt\n",
        "plt.xlabel('Epoch (Devir) Sayısı')\n",
        "plt.ylabel(\"Kayıp Büyüklüğü\")\n",
        "plt.plot(history.history['loss'])"
      ],
      "execution_count": 9,
      "outputs": [
        {
          "output_type": "execute_result",
          "data": {
            "text/plain": [
              "[<matplotlib.lines.Line2D at 0x7f9bc24a0810>]"
            ]
          },
          "metadata": {
            "tags": []
          },
          "execution_count": 9
        },
        {
          "output_type": "display_data",
          "data": {
            "image/png": "[encoded data removed]",
            "text/plain": [
              "<Figure size 432x288 with 1 Axes>"
            ]
          },
          "metadata": {
            "tags": [],
            "needs_background": "light"
          }
        }
      ]
    },
    {
      "cell_type": "markdown",
      "metadata": {
        "id": "BGx0T03yUrRr"
      },
      "source": [
        "## Değerleri Tahmin Etmek İçin Modelin Kullanılması\n",
        "\n",
        "Artık `celcius` ve `fahrenheit` arasındaki ilişkiyi öğrenmek için eğitilmiş bir modelimiz var. Modelin önceden görmediği (eğitim sırasında girdi olarak almadığı) santigrat derece değerleri için fahrenhayt derecelerini hesaplaması için `predict` (tahmin) yöntemini kullanabiliriz.\n",
        "\n",
        "Tani modelin santigrat derece değeri 100 ise fahrenhayt değeri kaç olmalıdır?\n",
        "\n"
      ]
    },
    {
      "cell_type": "code",
      "metadata": {
        "colab": {
          "base_uri": "https://localhost:8080/"
        },
        "id": "6X1DT34ZUlBB",
        "outputId": "497361f9-3d40-4108-c297-3de8ab270b0a"
      },
      "source": [
        "print(model.predict([100.0]))"
      ],
      "execution_count": 10,
      "outputs": [
        {
          "output_type": "stream",
          "text": [
            "[[211.332]]\n"
          ],
          "name": "stdout"
        }
      ]
    },
    {
      "cell_type": "markdown",
      "metadata": {
        "id": "rpnP2cAlVekx"
      },
      "source": [
        "Doğru cevap $100 \\times 1.8 + 32 = 212$ olmalıdır. Modelimiz oldukça başarılı bir tahminde bulundu.\n",
        "\n",
        "### Özetle\n",
        "\n",
        "* Dense (yoğun) katmanı ile bir model oluşturduk.\n",
        "* 3500 (7 çift girdi, 500 yenileme -epochs- ile) örnek ile bu modeli eğittik.\n",
        "\n",
        "Modelimiz, herhangi bir santigrat değeri için doğru fahrenhayt değerini döndürene kadar Dense katmanındaki değişkenleri (ağırlıkları) ayarladı. Unutmayın ki 100 santigrat dereği eğitim verimizin bir parçası değildi."
      ]
    },
    {
      "cell_type": "markdown",
      "metadata": {
        "id": "6LqCeyWPWLs-"
      },
      "source": [
        "## Katman Ağırlıklarına Bakılması\n",
        "\n",
        "Son olarak `Dense` katmanının iç değişkenlerini yazdıralım.\n"
      ]
    },
    {
      "cell_type": "code",
      "metadata": {
        "colab": {
          "base_uri": "https://localhost:8080/"
        },
        "id": "_JttB6g2VZUh",
        "outputId": "dfa307ee-d6b7-419c-eaf6-61b08c0ce458"
      },
      "source": [
        "print(\"Katman değişkenlerimiz : {}\".format(l0.get_weights()))"
      ],
      "execution_count": 11,
      "outputs": [
        {
          "output_type": "stream",
          "text": [
            "Katman değişkenlerimiz : [array([[1.8214457]], dtype=float32), array([29.187428], dtype=float32)]\n"
          ],
          "name": "stdout"
        }
      ]
    },
    {
      "cell_type": "markdown",
      "metadata": {
        "id": "eDEGgAwVWlfc"
      },
      "source": [
        "İlk değişken ~1.8'e ve ikinci değikenimiz ise ~32 değerine oldukça yakındır. Bu değerler (1.8 ve 32) gerçek dönüşüm formülündeki değerlerdir.\n",
        "\n",
        "Tek girişli ve tek çıkışlı tek bir nöron için dahili matematik, bir çizgi denklemiyle aynı görünür: $y = mx + b$ bu değerler bizim dönüşüm formülümüze uyarlanırsa : $f = 1.8c + 32$ ortaya çıkar.\n",
        "\n",
        "Değişkenler değerlerimizin 1.8 ve 32 değerlerine bu denli yakınsaması oldukça iyidir.\n",
        "\n",
        "Ek nöronlar, ek girdiler ve ek çıktılar ile formül daha karmaşık hale gelebilir ancak altında yatan temel fikir aynıdır.\n"
      ]
    },
    {
      "cell_type": "code",
      "metadata": {
        "id": "ZcIF-r0eXpQ5"
      },
      "source": [
        ""
      ],
      "execution_count": null,
      "outputs": []
    }
  ]
}