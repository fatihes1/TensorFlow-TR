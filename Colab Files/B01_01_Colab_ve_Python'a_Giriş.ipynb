{
  "nbformat": 4,
  "nbformat_minor": 0,
  "metadata": {
    "colab": {
      "name": "B01_01_Colab_ve_Python'a_Giriş.ipynb",
      "provenance": []
    },
    "kernelspec": {
      "name": "python3",
      "display_name": "Python 3"
    },
    "language_info": {
      "name": "python"
    }
  },
  "cells": [
    {
      "cell_type": "markdown",
      "metadata": {
        "id": "ox8E1TPgLZag"
      },
      "source": [
        "# **Colab ve Python'a Giriş**"
      ]
    },
    {
      "cell_type": "markdown",
      "metadata": {
        "id": "hUQeKVaYLqOf"
      },
      "source": [
        "Python programlama diline ve bu eğitimi takip ederken kullanılan ortama (colab) hızlı bir giriş niteliğinde olan colab dosyasına hoş geldiniz.\n",
        "\n",
        "Colab, Google Cloud kullanarak tarayıcı üzerinde çalışan bir Python geliştirme ortamıdır.\n",
        "\n",
        "En basit şekliyle aktarmak gerekirse \"Merhaba Dünya!\" yazdırmak için fareyi [ ] üzerine getirip sol tıka basın böylelikle aşağıdaki kod satırını çalıştırmış olursunuz. Bununla beraber `shift` + `enter` tuşuna basmanızda aynı şekilde kod satırını/bloğunu çalıştıracaktır."
      ]
    },
    {
      "cell_type": "code",
      "metadata": {
        "colab": {
          "base_uri": "https://localhost:8080/"
        },
        "id": "4pDG6o2SMdJj",
        "outputId": "24b57b0e-f8d0-4842-89dd-3ad2dbb2a558"
      },
      "source": [
        "print(\"Merhaba Dünya!\")"
      ],
      "execution_count": 1,
      "outputs": [
        {
          "output_type": "stream",
          "text": [
            "Merhaba Dünya!\n"
          ],
          "name": "stdout"
        }
      ]
    },
    {
      "cell_type": "markdown",
      "metadata": {
        "id": "ks5FJy9eMrZv"
      },
      "source": [
        "## Fonksiyonlar, Koşullar ve Yinelemeler\n",
        "Hadi bir Python işlevi (fonksiyon) oluşturalım ve bu fonksiyonu for döngüsü içerisinde çağıralım."
      ]
    },
    {
      "cell_type": "code",
      "metadata": {
        "colab": {
          "base_uri": "https://localhost:8080/"
        },
        "id": "95pNoClkNF_S",
        "outputId": "be5164fa-a756-45b3-99e4-6a9732d4ffd2"
      },
      "source": [
        "def HelloWorldWithXY(x, y):\n",
        "  if (x < 10):\n",
        "    print(\"Merhaba Dünya, x  < 10 (x, 10'dan küçük)\")\n",
        "  elif (x < 20):\n",
        "    print(\"Merhaba Dünya, x >= 10 ancak < 20 (x, 10'dan büyük veya eşit ancak 20'den küçük\")\n",
        "  else:\n",
        "    print(\"Merhaba Dünya, x >= 20 (x, 20'den büyük veya eşit)\")\n",
        "  return x + y\n",
        "\n",
        "for i in range(8, 25, 5):  # i=8, 13, 18, 23 (başlangıç, bitiş, adım-artış-miktarı)\n",
        "  print(\"--- Şimdi, i: {} için çalışıyor..\".format(i))\n",
        "  r = HelloWorldWithXY(i,i)\n",
        "  print(\"HellloWorldWithXY fonksiyonun çıktısı : {}\".format(r))"
      ],
      "execution_count": 2,
      "outputs": [
        {
          "output_type": "stream",
          "text": [
            "--- Şimdi, i: 8 için çalışıyor..\n",
            "Merhaba Dünya, x  < 10 (x, 10'dan küçük)\n",
            "HellloWorldWithXY fonksiyonun çıktısı : 16\n",
            "--- Şimdi, i: 13 için çalışıyor..\n",
            "Merhaba Dünya, x >= 10 ancak < 20 (x, 10'dan büyük veya eşit ancak 20'den küçük\n",
            "HellloWorldWithXY fonksiyonun çıktısı : 26\n",
            "--- Şimdi, i: 18 için çalışıyor..\n",
            "Merhaba Dünya, x >= 10 ancak < 20 (x, 10'dan büyük veya eşit ancak 20'den küçük\n",
            "HellloWorldWithXY fonksiyonun çıktısı : 36\n",
            "--- Şimdi, i: 23 için çalışıyor..\n",
            "Merhaba Dünya, x >= 20 (x, 20'den büyük veya eşit)\n",
            "HellloWorldWithXY fonksiyonun çıktısı : 46\n"
          ],
          "name": "stdout"
        }
      ]
    },
    {
      "cell_type": "code",
      "metadata": {
        "colab": {
          "base_uri": "https://localhost:8080/"
        },
        "id": "Q3mJSpo4OKbD",
        "outputId": "2c98a971-b688-4068-ce89-b1c4a47fdc0f"
      },
      "source": [
        "print(HelloWorldWithXY(1,2))"
      ],
      "execution_count": 3,
      "outputs": [
        {
          "output_type": "stream",
          "text": [
            "Merhaba Dünya, x  < 10 (x, 10'dan küçük)\n",
            "3\n"
          ],
          "name": "stdout"
        }
      ]
    },
    {
      "cell_type": "markdown",
      "metadata": {
        "id": "5y8WuHQPO7RE"
      },
      "source": [
        "Oldukça basit, öyle değil mi?\n",
        "\n",
        "0'dan 3'e (3 dahil değil) bir döngü istiyorsanızi aşağıdaki kodlardan herhangi birini kullanabilirsiniz."
      ]
    },
    {
      "cell_type": "code",
      "metadata": {
        "colab": {
          "base_uri": "https://localhost:8080/"
        },
        "id": "OyBic54QPS6T",
        "outputId": "f113e38b-4c08-4e27-c668-f3dc6611ea60"
      },
      "source": [
        "print(\"Öğeler üzerinde yineler. `range(3)` bir liste gibidir ve [0,1,2] olarak düşünülebilir.\")\n",
        "for i in range(3):\n",
        "  print(i)\n",
        "\n",
        "print(\"Gerçek bir liste üzerinde yineleyelim.\")\n",
        "for i in [0,1,2]:\n",
        "  print(i)\n",
        "\n",
        "print(\"Aynı şekilde while döngüsü de çalışacaktır.\")\n",
        "i = 0\n",
        "while i < 3:\n",
        "  print(i)\n",
        "  i += 1"
      ],
      "execution_count": 4,
      "outputs": [
        {
          "output_type": "stream",
          "text": [
            "Öğeler üzerinde yineler. `range(3)` bir liste gibidir ve [0,1,2] olarak düşünülebilir.\n",
            "0\n",
            "1\n",
            "2\n",
            "Gerçek bir liste üzerinde yineleyelim.\n",
            "0\n",
            "1\n",
            "2\n",
            "Aynı şekilde while döngüsü de çalışacaktır.\n",
            "0\n",
            "1\n",
            "2\n"
          ],
          "name": "stdout"
        }
      ]
    },
    {
      "cell_type": "code",
      "metadata": {
        "colab": {
          "base_uri": "https://localhost:8080/"
        },
        "id": "kf1AIPhqP0rL",
        "outputId": "6b3f9a10-7919-4d05-b5ec-608a831e72dd"
      },
      "source": [
        "print(\"Python, devam et anlamına gelen continue ve ara-mola- anlamına gelen break gibi standart anahtar kelimeleri destekler. \")\n",
        "while True:\n",
        "  print(\"While döngüsüne girdi.\")\n",
        "  break"
      ],
      "execution_count": 5,
      "outputs": [
        {
          "output_type": "stream",
          "text": [
            "Python, devam et anlamına gelen continue ve ara-mola- anlamına gelen break gibi standart anahtar kelimeleri destekler. \n",
            "While döngüsüne girdi.\n"
          ],
          "name": "stdout"
        }
      ]
    },
    {
      "cell_type": "markdown",
      "metadata": {
        "id": "8sow6ljxQSPd"
      },
      "source": [
        "## Numpy ve Listeler\n",
        "\n",
        "Python programlama dili yerleşik olarak listelere sahiptir. Ancak `Numpy`, makine öğrenimi yaparken yararlı olan birçok destek işlev (fonksiyon) sunar. Bu yüzden eğitim süresi boyunca `numpy` kütüphanesini kullanacağız.\n",
        "\n",
        "Burada ayrıca bir `import` işlevi göreceksiniz. Bu ifade, tüm numpy paketlerini kullanılabilir hale getirir ve bu kütüphaneye kodda belirtilen kısaltma olan `np` sözdizimi kullanarak erişebiliriz."
      ]
    },
    {
      "cell_type": "code",
      "metadata": {
        "colab": {
          "base_uri": "https://localhost:8080/"
        },
        "id": "dPpDY5KMQ_Cz",
        "outputId": "1b6d9ac1-478d-4d60-b934-78edf1157169"
      },
      "source": [
        "import numpy as np  # np kullanarak numpy'ı kullanabiliriz.\n",
        "\n",
        "# Numpy dizisi oluşturalım ve bir öğe ekleyelim.\n",
        "a = np.array([\"Merhaba\", \"Dünya\"])\n",
        "a = np.append(a, \"!\")\n",
        "print(\"Bulunduğumuz dizi: {}\".format(a))\n",
        "print(\"Her eleman yazdırılıyor..\")\n",
        "for i in a:\n",
        "  print(i)\n",
        "\n",
        "print(\"\\nHer eleman ve indeksleri yazdırılıyor..\")\n",
        "for i,e in enumerate(a):\n",
        "  print(\"Indeks: {}, eleman (değer): {}\".format(i, e))"
      ],
      "execution_count": 6,
      "outputs": [
        {
          "output_type": "stream",
          "text": [
            "Bulunduğumuz dizi: ['Merhaba' 'Dünya' '!']\n",
            "Her eleman yazdırılıyor..\n",
            "Merhaba\n",
            "Dünya\n",
            "!\n",
            "\n",
            "Her eleman ve indeksleri yazdırılıyor..\n",
            "Indeks: 0, eleman (değer): Merhaba\n",
            "Indeks: 1, eleman (değer): Dünya\n",
            "Indeks: 2, eleman (değer): !\n"
          ],
          "name": "stdout"
        }
      ]
    },
    {
      "cell_type": "code",
      "metadata": {
        "colab": {
          "base_uri": "https://localhost:8080/"
        },
        "id": "0efE-_gqReWN",
        "outputId": "3eec7d22-1636-45cc-ef1a-b89653b09578"
      },
      "source": [
        "print(\"\\nDizilerle bazı basit matematik işlevlerini gösterelim.\")\n",
        "b = np.array([0,1,4,3,2])\n",
        "print(\"Maksimum Değer: {}\".format(np.max(b)))\n",
        "print(\"Ortalama Değer: {}\".format(np.average(b)))\n",
        "print(\"Max. Değerin Bulundupu Indeks: {}\".format(np.argmax(b)))"
      ],
      "execution_count": 7,
      "outputs": [
        {
          "output_type": "stream",
          "text": [
            "\n",
            "Dizilerle bazı basit matematik işlevlerini gösterelim.\n",
            "Maksimum Değer: 4\n",
            "Ortalama Değer: 2.0\n",
            "Max. Değerin Bulundupu Indeks: 2\n"
          ],
          "name": "stdout"
        }
      ]
    },
    {
      "cell_type": "code",
      "metadata": {
        "colab": {
          "base_uri": "https://localhost:8080/"
        },
        "id": "ps3i2gDDR5L8",
        "outputId": "f54914cb-3d1b-4879-a628-3b9005e947ad"
      },
      "source": [
        "print(\"\\nHer değer ve ifadenin türünü yazdırabilirsiniz.\")\n",
        "print(\"b'nin veri tiği: {}, b[0]'nin veri tipi: {}\".format(type(b), type(b[0])))"
      ],
      "execution_count": 8,
      "outputs": [
        {
          "output_type": "stream",
          "text": [
            "\n",
            "Her değer ve ifadenin türünü yazdırabilirsiniz.\n",
            "b'nin veri tiği: <class 'numpy.ndarray'>, b[0]'nin veri tipi: <class 'numpy.int64'>\n"
          ],
          "name": "stdout"
        }
      ]
    },
    {
      "cell_type": "code",
      "metadata": {
        "colab": {
          "base_uri": "https://localhost:8080/"
        },
        "id": "vt1veiH6SH4i",
        "outputId": "bd9a2c47-8698-4240-a6a9-d4a881de2ca9"
      },
      "source": [
        "print(\"\\nRastgele sayılarla [3,3] boyutlu bir dizi oluşturmak için Numpy kullanalım.\")\n",
        "c = np.random.rand(3, 3)\n",
        "print(c)"
      ],
      "execution_count": 9,
      "outputs": [
        {
          "output_type": "stream",
          "text": [
            "\n",
            "Rastgele sayılarla [3,3] boyutlu bir dizi oluşturmak için Numpy kullanalım.\n",
            "[[0.89812848 0.53768853 0.85742181]\n",
            " [0.09065575 0.34184737 0.108095  ]\n",
            " [0.42980187 0.4986246  0.76696916]]\n"
          ],
          "name": "stdout"
        }
      ]
    },
    {
      "cell_type": "code",
      "metadata": {
        "colab": {
          "base_uri": "https://localhost:8080/"
        },
        "id": "K1oOOKULST6j",
        "outputId": "1273a472-3fa2-44d4-8186-e8b10161cec8"
      },
      "source": [
        "print(\"\\nDizilerin boyutlarını yazdırabilirsiniz.\")\n",
        "print(\"a'nın boyutu: {}\".format(a.shape))\n",
        "print(\"b'nin boyutu: {}\".format(b.shape))\n",
        "print(\"c'nin boyutu: {}\".format(c.shape))\n",
        "print(\"...Gözlem, Python listeleri belirtmek için hem [0,1,2] hem de (0,1,2) kullanır.\")"
      ],
      "execution_count": 10,
      "outputs": [
        {
          "output_type": "stream",
          "text": [
            "\n",
            "Dizilerin boyutlarını yazdırabilirsiniz.\n",
            "a'nın boyutu: (3,)\n",
            "b'nin boyutu: (5,)\n",
            "c'nin boyutu: (3, 3)\n",
            "...Gözlem, Python listeleri belirtmek için hem [0,1,2] hem de (0,1,2) kullanır.\n"
          ],
          "name": "stdout"
        }
      ]
    },
    {
      "cell_type": "markdown",
      "metadata": {
        "id": "wcuNpq-JS2Ok"
      },
      "source": [
        "## Colab Özellikleri"
      ]
    },
    {
      "cell_type": "markdown",
      "metadata": {
        "id": "Bd3JK39PS6-G"
      },
      "source": [
        "Colab, doğrudan erişebileceğiniz bir sanal makinedir. Komutları sanal makinenin terminalinde çalıştırmak için kod satırının önüne bir ünlem işareti (!) ekleyiniz."
      ]
    },
    {
      "cell_type": "code",
      "metadata": {
        "colab": {
          "base_uri": "https://localhost:8080/"
        },
        "id": "QtOcCQU3TL_b",
        "outputId": "f7bd045f-dfcd-4c1a-e190-e482493489b2"
      },
      "source": [
        "print(\"\\nDosya sisteminde $ls yapmak\")\n",
        "!ls -l\n",
        "!pwd"
      ],
      "execution_count": 11,
      "outputs": [
        {
          "output_type": "stream",
          "text": [
            "\n",
            "Dosya sisteminde $ls yapmak\n",
            "total 4\n",
            "drwxr-xr-x 1 root root 4096 Jul 16 13:20 sample_data\n",
            "/content\n"
          ],
          "name": "stdout"
        }
      ]
    },
    {
      "cell_type": "code",
      "metadata": {
        "colab": {
          "base_uri": "https://localhost:8080/"
        },
        "id": "DLNtE2MoTSXT",
        "outputId": "305d74d9-d93e-48f1-d843-cb2ec36d034f"
      },
      "source": [
        "print(\"Numpy'ı yükle.\")  # Yalnızca test için, numpy tüm Colab örneklerinde önceden yüklenmiş olarak gelir.\n",
        "!pip install numpy"
      ],
      "execution_count": 12,
      "outputs": [
        {
          "output_type": "stream",
          "text": [
            "Numpy'ı yükle.\n",
            "Requirement already satisfied: numpy in /usr/local/lib/python3.7/dist-packages (1.19.5)\n"
          ],
          "name": "stdout"
        }
      ]
    },
    {
      "cell_type": "markdown",
      "metadata": {
        "id": "RS371AQTT0B7"
      },
      "source": [
        "Colab tamamen ücretsizdir. Hatta günde birkaç saatlik kullanım için GPU bile ücretsiz olarak sağlanmaktadır.\n",
        "\n",
        "**GPU Kullanma**\n",
        "* Eğitim sürecinde alıştırmaların çoğu GPU kullanarak daha hızlı yürütülür. Bunuu yapmak için: Çalışma Zamanı | Çalışma zamanı türünü değiştir | Donanım hızlandırıyı GPU olarak seçip Kaydet demeniz yeterlidir.\n",
        "\n",
        "**Colab Hakkında Birkaç Bilgi**\n",
        "* Her hücreyi sırayla çalıştırabilir, isterseniz hücreleri düzenleyebilir ve yeniden çalıştırabilirsiniz.\n",
        "\n",
        "* Bazen istenmeyen sonuçlarla karşı karşıya kalabilirsiniz. Örneğin, bir dizye bir boyut eklerseniz ve bu hücreyi birden çok kez çalıştırırsanız, sonraki hücreler çalışmayabilir. Sorunla karlışalmanız durumunda ortamınızı sıfırlayabilirsiniz:\n",
        "* Çalışma zamanı -> Çalışma zamanını yeniden başlat. Bu Python kabuğunu sıfırlar.\n",
        "* Colab'daki çıktıları şunu yaparak da temizleyebilirsiniz: Düzenle -> Tüm çıkışları temizle\n"
      ]
    },
    {
      "cell_type": "code",
      "metadata": {
        "id": "fvoLRcGaV896"
      },
      "source": [
        ""
      ],
      "execution_count": 12,
      "outputs": []
    }
  ]
}