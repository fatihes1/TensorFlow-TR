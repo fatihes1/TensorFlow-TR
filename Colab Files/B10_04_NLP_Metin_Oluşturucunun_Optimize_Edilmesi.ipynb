{
  "nbformat": 4,
  "nbformat_minor": 0,
  "metadata": {
    "colab": {
      "name": "B10_04_NLP_Metin_Oluşturucunun_Optimize_Edilmesi.ipynb",
      "provenance": []
    },
    "kernelspec": {
      "name": "python3",
      "display_name": "Python 3"
    },
    "language_info": {
      "name": "python"
    },
    "accelerator": "GPU"
  },
  "cells": [
    {
      "cell_type": "markdown",
      "metadata": {
        "id": "FhoajEZM6hQ7"
      },
      "source": [
        "# Metin Oluşturucu Modelin Optimize Edilmesi\n",
        "\n",
        "Yeni şarkılar üretme konusunda zaten bazı harika işler yaptık, ancak şu ana kadar tekrarlama ve makul miktarda tutarsızlık ile ilgili bazı sorunlar gördük. Daha fazla veri kullanarak ve modelde daha fazla ince ayar yaparak daha iyi sonuçlar elde edebileceksiniz. Burada bir kez daha [Kaggle Şarkı Sözleri Veri Kümesini]((https://www.kaggle.com/mousehead/songlyrics)) kullanacağız."
      ]
    },
    {
      "cell_type": "markdown",
      "metadata": {
        "id": "jM3b2PT77Pr3"
      },
      "source": [
        "# TensorFlow ve Bazı Gerekli Paketlerin İçeri Aktarılması"
      ]
    },
    {
      "cell_type": "code",
      "metadata": {
        "id": "JJuZF3To6Zqe"
      },
      "source": [
        "import tensorflow as tf\n",
        "\n",
        "from tensorflow.keras.preprocessing.text import Tokenizer\n",
        "from tensorflow.keras.preprocessing.sequence import pad_sequences\n",
        "\n",
        "# Veri ön işleme için içeri aktarmalar\n",
        "import string\n",
        "import numpy as np\n",
        "import pandas as pd"
      ],
      "execution_count": 1,
      "outputs": []
    },
    {
      "cell_type": "markdown",
      "metadata": {
        "id": "Wz_47w8N7aVv"
      },
      "source": [
        "## Veri Setinin Alınması\n"
      ]
    },
    {
      "cell_type": "code",
      "metadata": {
        "colab": {
          "base_uri": "https://localhost:8080/"
        },
        "id": "ImJtg7ij7ZmW",
        "outputId": "440220fb-ea7b-45ad-d10e-ba77b6af4358"
      },
      "source": [
        "!wget --no-check-certificate \\\n",
        "    https://drive.google.com/uc?id=1LiJFZd41ofrWoBtW-pMYsfz1w8Ny0Bj8 \\\n",
        "    -O /tmp/songdata.csv"
      ],
      "execution_count": 2,
      "outputs": [
        {
          "output_type": "stream",
          "text": [
            "--2021-07-28 21:03:22--  https://drive.google.com/uc?id=1LiJFZd41ofrWoBtW-pMYsfz1w8Ny0Bj8\n",
            "Resolving drive.google.com (drive.google.com)... 142.250.141.139, 142.250.141.113, 142.250.141.100, ...\n",
            "Connecting to drive.google.com (drive.google.com)|142.250.141.139|:443... connected.\n",
            "HTTP request sent, awaiting response... 302 Moved Temporarily\n",
            "Location: https://doc-04-ak-docs.googleusercontent.com/docs/securesc/ha0ro937gcuc7l7deffksulhg5h7mbp1/72bgaatjsrk0trjoee63g7ms9vis79rq/1627506150000/11118900490791463723/*/1LiJFZd41ofrWoBtW-pMYsfz1w8Ny0Bj8 [following]\n",
            "Warning: wildcards not supported in HTTP.\n",
            "--2021-07-28 21:03:25--  https://doc-04-ak-docs.googleusercontent.com/docs/securesc/ha0ro937gcuc7l7deffksulhg5h7mbp1/72bgaatjsrk0trjoee63g7ms9vis79rq/1627506150000/11118900490791463723/*/1LiJFZd41ofrWoBtW-pMYsfz1w8Ny0Bj8\n",
            "Resolving doc-04-ak-docs.googleusercontent.com (doc-04-ak-docs.googleusercontent.com)... 142.250.141.132, 2607:f8b0:4023:c0b::84\n",
            "Connecting to doc-04-ak-docs.googleusercontent.com (doc-04-ak-docs.googleusercontent.com)|142.250.141.132|:443... connected.\n",
            "HTTP request sent, awaiting response... 200 OK\n",
            "Length: unspecified [text/csv]\n",
            "Saving to: ‘/tmp/songdata.csv’\n",
            "\n",
            "/tmp/songdata.csv       [        <=>         ]  69.08M  37.7MB/s    in 1.8s    \n",
            "\n",
            "2021-07-28 21:03:28 (37.7 MB/s) - ‘/tmp/songdata.csv’ saved [72436445]\n",
            "\n"
          ],
          "name": "stdout"
        }
      ]
    },
    {
      "cell_type": "markdown",
      "metadata": {
        "id": "aEHLeC0a7fJB"
      },
      "source": [
        "## 250 Şarkı Sözü Alalım\n",
        "\n",
        "Şimdi, sadece küçük bir şarkı örneği üzerinde eğitilmiş bir modelin, yeni metin üretmeye çalışırken ilerledikçe nasıl tekrarlamaya yol açtığını gördük. Bunun yerine 250 şarkıyı kullanmaya geçelim ve çıktımızın iyileşip iyileşmediğine bakalım. Bu aslında yaklaşık 10 bin satırlık şarkı sözü olacak, bu da yeterli olacaktır.\n",
        "\n",
        "Oldukça fazla RAM ve işlem süresi alacağı için burada tam veri kümesini kullanmayacağımızı unutmayın, ancak bunu daha sonra kendi başınıza yapmayı deneyebilirsiniz. İlgileniyorsanız, muhtemelen Tokenizer için işlem süresini ve gereken belleği küçültmeye yardımcı olacak daha yaygın sözcüklerden yalnızca bazılarını kullanmak isteyeceksiniz (ya da yüz binlerce sözcük uzunluğunda bir çıktı diziniz olurdu).\n"
      ]
    },
    {
      "cell_type": "code",
      "metadata": {
        "id": "JuDKdcnS7dul"
      },
      "source": [
        "def tokenize_corpus(corpus, num_words=-1):\n",
        "  # Tokenize ediciyi yerleştirin\n",
        "  if num_words > -1:\n",
        "    tokenizer = Tokenizer(num_words=num_words)\n",
        "  else:\n",
        "    tokenizer = Tokenizer()\n",
        "  tokenizer.fit_on_texts(corpus)\n",
        "  return tokenizer\n",
        "\n",
        "def create_lyrics_corpus(dataset, field):\n",
        "  # Diğer tüm noktalama işaretlerini kaldır\n",
        "  dataset[field] = dataset[field].str.replace('[{}]'.format(string.punctuation), '')\n",
        "  # küçük harf yap\n",
        "  dataset[field] = dataset[field].str.lower()\n",
        "  # Satıra göre bölmek için uzun bir dize yapın\n",
        "  lyrics = dataset[field].str.cat()\n",
        "  corpus = lyrics.split('\\n')\n",
        "  # Sondaki boşlukları kaldırın\n",
        "  for l in range(len(corpus)):\n",
        "    corpus[l] = corpus[l].rstrip()\n",
        "  # Boş satırları kaldırın\n",
        "  corpus = [l for l in corpus if l != '']\n",
        "\n",
        "  return corpus"
      ],
      "execution_count": 3,
      "outputs": []
    },
    {
      "cell_type": "code",
      "metadata": {
        "colab": {
          "base_uri": "https://localhost:8080/"
        },
        "id": "rwmZK7-o79hl",
        "outputId": "85f4f93b-bb4e-4262-d502-b03543dc37be"
      },
      "source": [
        "def tokenize_corpus(corpus, num_words=-1):\n",
        "  # Tokenize ediciyi yerleştirin\n",
        "  if num_words > -1:\n",
        "    tokenizer = Tokenizer(num_words=num_words)\n",
        "  else:\n",
        "    tokenizer = Tokenizer()\n",
        "  tokenizer.fit_on_texts(corpus)\n",
        "  return tokenizer\n",
        "\n",
        "# Veri setini csv'den okuyun - bu sefer 250 şarkı ile\n",
        "dataset = pd.read_csv('/tmp/songdata.csv', dtype=str)[:250]\n",
        "# Şarkı sözlerini içeren 'metin' sütununu kullanarak göve metni oluşturun\n",
        "corpus = create_lyrics_corpus(dataset, 'text')\n",
        "# Tokenize edin\n",
        "tokenizer = tokenize_corpus(corpus, num_words=2000)\n",
        "total_words = tokenizer.num_words\n",
        "\n",
        "# Şimdi çok daha fazla kelime olmalı\n",
        "print(total_words)"
      ],
      "execution_count": 4,
      "outputs": [
        {
          "output_type": "stream",
          "text": [
            "2000\n"
          ],
          "name": "stdout"
        },
        {
          "output_type": "stream",
          "text": [
            "/usr/local/lib/python3.7/dist-packages/ipykernel_launcher.py:12: SettingWithCopyWarning: \n",
            "A value is trying to be set on a copy of a slice from a DataFrame.\n",
            "Try using .loc[row_indexer,col_indexer] = value instead\n",
            "\n",
            "See the caveats in the documentation: https://pandas.pydata.org/pandas-docs/stable/user_guide/indexing.html#returning-a-view-versus-a-copy\n",
            "  if sys.path[0] == '':\n"
          ],
          "name": "stderr"
        }
      ]
    },
    {
      "cell_type": "markdown",
      "metadata": {
        "id": "xM58Riwx8RbC"
      },
      "source": [
        "## Dizilerin ve Etiketlerin Oluşturulması"
      ]
    },
    {
      "cell_type": "code",
      "metadata": {
        "id": "SBnw4Apn8LiG"
      },
      "source": [
        "sequences = []\n",
        "for line in corpus:\n",
        "\ttoken_list = tokenizer.texts_to_sequences([line])[0]\n",
        "\tfor i in range(1, len(token_list)):\n",
        "\t\tn_gram_sequence = token_list[:i+1]\n",
        "\t\tsequences.append(n_gram_sequence)\n",
        "\n",
        "# Eşit giriş uzunluğu için dolgu dizileri\n",
        "max_sequence_len = max([len(seq) for seq in sequences])\n",
        "sequences = np.array(pad_sequences(sequences, maxlen=max_sequence_len, padding='pre'))\n",
        "\n",
        "# Giriş dizisi ve çıkış tahmin edilen kelime arasında dizileri bölün\n",
        "input_sequences, labels = sequences[:,:-1], sequences[:,-1]\n",
        "# Etiketler için one-hot kodlama yapın\n",
        "one_hot_labels = tf.keras.utils.to_categorical(labels, num_classes=total_words)"
      ],
      "execution_count": 5,
      "outputs": []
    },
    {
      "cell_type": "markdown",
      "metadata": {
        "id": "bZCkMz858ixQ"
      },
      "source": [
        "## Daha İyi Bir Metin Oluşturma Modeli İnşa Edin\n",
        "\n",
        "Daha fazla veriyle, sizi bütün gün burada tutmamak için 100 çağdan sonra keseceğiz. Ayrıca, henüz yapmadıysanız, çalışma zamanı türünüzü GPU olarak değiştirmek isteyeceksiniz (çalışma zamanlarını değiştirirseniz yukarıdaki hücreleri yeniden çalıştırmanız gerekecektir).\n"
      ]
    },
    {
      "cell_type": "code",
      "metadata": {
        "colab": {
          "base_uri": "https://localhost:8080/"
        },
        "id": "wgXYKMKI8go_",
        "outputId": "ea33c550-99a6-4f20-b295-4ce76cb28a83"
      },
      "source": [
        "from tensorflow.keras.models import Sequential\n",
        "from tensorflow.keras.layers import Embedding, LSTM, Dense, Bidirectional\n",
        "\n",
        "model = Sequential()\n",
        "model.add(Embedding(total_words, 64, input_length=max_sequence_len-1))\n",
        "model.add(Bidirectional(LSTM(20)))\n",
        "model.add(Dense(total_words, activation='softmax'))\n",
        "model.compile(loss='categorical_crossentropy', optimizer='adam', metrics=['accuracy'])\n",
        "history = model.fit(input_sequences, one_hot_labels, epochs=100, verbose=1)"
      ],
      "execution_count": 6,
      "outputs": [
        {
          "output_type": "stream",
          "text": [
            "Epoch 1/100\n",
            "1480/1480 [==============================] - 21s 8ms/step - loss: 5.9786 - accuracy: 0.0467\n",
            "Epoch 2/100\n",
            "1480/1480 [==============================] - 12s 8ms/step - loss: 5.6719 - accuracy: 0.0510\n",
            "Epoch 3/100\n",
            "1480/1480 [==============================] - 12s 8ms/step - loss: 5.4687 - accuracy: 0.0691\n",
            "Epoch 4/100\n",
            "1480/1480 [==============================] - 13s 9ms/step - loss: 5.2788 - accuracy: 0.0968\n",
            "Epoch 5/100\n",
            "1480/1480 [==============================] - 13s 8ms/step - loss: 5.0843 - accuracy: 0.1193\n",
            "Epoch 6/100\n",
            "1480/1480 [==============================] - 12s 8ms/step - loss: 4.8925 - accuracy: 0.1385\n",
            "Epoch 7/100\n",
            "1480/1480 [==============================] - 12s 8ms/step - loss: 4.7284 - accuracy: 0.1551\n",
            "Epoch 8/100\n",
            "1480/1480 [==============================] - 12s 8ms/step - loss: 4.5850 - accuracy: 0.1690\n",
            "Epoch 9/100\n",
            "1480/1480 [==============================] - 13s 9ms/step - loss: 4.4586 - accuracy: 0.1820\n",
            "Epoch 10/100\n",
            "1480/1480 [==============================] - 13s 9ms/step - loss: 4.3402 - accuracy: 0.1952\n",
            "Epoch 11/100\n",
            "1480/1480 [==============================] - 12s 8ms/step - loss: 4.2322 - accuracy: 0.2087\n",
            "Epoch 12/100\n",
            "1480/1480 [==============================] - 12s 8ms/step - loss: 4.1311 - accuracy: 0.2210\n",
            "Epoch 13/100\n",
            "1480/1480 [==============================] - 12s 8ms/step - loss: 4.0433 - accuracy: 0.2317\n",
            "Epoch 14/100\n",
            "1480/1480 [==============================] - 12s 8ms/step - loss: 3.9629 - accuracy: 0.2452\n",
            "Epoch 15/100\n",
            "1480/1480 [==============================] - 13s 9ms/step - loss: 3.8946 - accuracy: 0.2528\n",
            "Epoch 16/100\n",
            "1480/1480 [==============================] - 13s 9ms/step - loss: 3.8220 - accuracy: 0.2618\n",
            "Epoch 17/100\n",
            "1480/1480 [==============================] - 12s 8ms/step - loss: 3.7706 - accuracy: 0.2668\n",
            "Epoch 18/100\n",
            "1480/1480 [==============================] - 12s 8ms/step - loss: 3.7085 - accuracy: 0.2771\n",
            "Epoch 19/100\n",
            "1480/1480 [==============================] - 12s 8ms/step - loss: 3.6554 - accuracy: 0.2840\n",
            "Epoch 20/100\n",
            "1480/1480 [==============================] - 13s 9ms/step - loss: 3.6064 - accuracy: 0.2901\n",
            "Epoch 21/100\n",
            "1480/1480 [==============================] - 13s 9ms/step - loss: 3.5566 - accuracy: 0.2966\n",
            "Epoch 22/100\n",
            "1480/1480 [==============================] - 12s 8ms/step - loss: 3.5151 - accuracy: 0.3034\n",
            "Epoch 23/100\n",
            "1480/1480 [==============================] - 13s 9ms/step - loss: 3.4719 - accuracy: 0.3094\n",
            "Epoch 24/100\n",
            "1480/1480 [==============================] - 12s 8ms/step - loss: 3.4349 - accuracy: 0.3141\n",
            "Epoch 25/100\n",
            "1480/1480 [==============================] - 12s 8ms/step - loss: 3.3947 - accuracy: 0.3212\n",
            "Epoch 26/100\n",
            "1480/1480 [==============================] - 12s 8ms/step - loss: 3.3720 - accuracy: 0.3238\n",
            "Epoch 27/100\n",
            "1480/1480 [==============================] - 12s 8ms/step - loss: 3.3330 - accuracy: 0.3309\n",
            "Epoch 28/100\n",
            "1480/1480 [==============================] - 13s 9ms/step - loss: 3.2955 - accuracy: 0.3374\n",
            "Epoch 29/100\n",
            "1480/1480 [==============================] - 13s 9ms/step - loss: 3.2689 - accuracy: 0.3390\n",
            "Epoch 30/100\n",
            "1480/1480 [==============================] - 12s 8ms/step - loss: 3.2384 - accuracy: 0.3447\n",
            "Epoch 31/100\n",
            "1480/1480 [==============================] - 12s 8ms/step - loss: 3.2021 - accuracy: 0.3509\n",
            "Epoch 32/100\n",
            "1480/1480 [==============================] - 12s 8ms/step - loss: 3.1814 - accuracy: 0.3534\n",
            "Epoch 33/100\n",
            "1480/1480 [==============================] - 12s 8ms/step - loss: 3.1515 - accuracy: 0.3585\n",
            "Epoch 34/100\n",
            "1480/1480 [==============================] - 13s 9ms/step - loss: 3.1258 - accuracy: 0.3619\n",
            "Epoch 35/100\n",
            "1480/1480 [==============================] - 12s 8ms/step - loss: 3.0997 - accuracy: 0.3671\n",
            "Epoch 36/100\n",
            "1480/1480 [==============================] - 12s 8ms/step - loss: 3.0807 - accuracy: 0.3674\n",
            "Epoch 37/100\n",
            "1480/1480 [==============================] - 12s 8ms/step - loss: 3.0541 - accuracy: 0.3747\n",
            "Epoch 38/100\n",
            "1480/1480 [==============================] - 12s 8ms/step - loss: 3.0347 - accuracy: 0.3753\n",
            "Epoch 39/100\n",
            "1480/1480 [==============================] - 13s 9ms/step - loss: 3.0082 - accuracy: 0.3799\n",
            "Epoch 40/100\n",
            "1480/1480 [==============================] - 13s 9ms/step - loss: 2.9953 - accuracy: 0.3828\n",
            "Epoch 41/100\n",
            "1480/1480 [==============================] - 12s 8ms/step - loss: 2.9818 - accuracy: 0.3834\n",
            "Epoch 42/100\n",
            "1480/1480 [==============================] - 12s 8ms/step - loss: 2.9543 - accuracy: 0.3905\n",
            "Epoch 43/100\n",
            "1480/1480 [==============================] - 12s 8ms/step - loss: 2.9365 - accuracy: 0.3921\n",
            "Epoch 44/100\n",
            "1480/1480 [==============================] - 12s 8ms/step - loss: 2.9186 - accuracy: 0.3956\n",
            "Epoch 45/100\n",
            "1480/1480 [==============================] - 13s 9ms/step - loss: 2.8914 - accuracy: 0.4011\n",
            "Epoch 46/100\n",
            "1480/1480 [==============================] - 12s 8ms/step - loss: 2.8797 - accuracy: 0.4018\n",
            "Epoch 47/100\n",
            "1480/1480 [==============================] - 12s 8ms/step - loss: 2.8696 - accuracy: 0.4035\n",
            "Epoch 48/100\n",
            "1480/1480 [==============================] - 12s 8ms/step - loss: 2.8479 - accuracy: 0.4083\n",
            "Epoch 49/100\n",
            "1480/1480 [==============================] - 12s 8ms/step - loss: 2.8292 - accuracy: 0.4105\n",
            "Epoch 50/100\n",
            "1480/1480 [==============================] - 13s 9ms/step - loss: 2.8113 - accuracy: 0.4150\n",
            "Epoch 51/100\n",
            "1480/1480 [==============================] - 13s 9ms/step - loss: 2.7963 - accuracy: 0.4162\n",
            "Epoch 52/100\n",
            "1480/1480 [==============================] - 12s 8ms/step - loss: 2.7819 - accuracy: 0.4191\n",
            "Epoch 53/100\n",
            "1480/1480 [==============================] - 13s 9ms/step - loss: 2.7665 - accuracy: 0.4227\n",
            "Epoch 54/100\n",
            "1480/1480 [==============================] - 12s 8ms/step - loss: 2.7554 - accuracy: 0.4246\n",
            "Epoch 55/100\n",
            "1480/1480 [==============================] - 12s 8ms/step - loss: 2.7388 - accuracy: 0.4292\n",
            "Epoch 56/100\n",
            "1480/1480 [==============================] - 12s 8ms/step - loss: 2.7203 - accuracy: 0.4297\n",
            "Epoch 57/100\n",
            "1480/1480 [==============================] - 12s 8ms/step - loss: 2.7047 - accuracy: 0.4331\n",
            "Epoch 58/100\n",
            "1480/1480 [==============================] - 13s 9ms/step - loss: 2.6927 - accuracy: 0.4360\n",
            "Epoch 59/100\n",
            "1480/1480 [==============================] - 13s 9ms/step - loss: 2.6815 - accuracy: 0.4376\n",
            "Epoch 60/100\n",
            "1480/1480 [==============================] - 12s 8ms/step - loss: 2.6673 - accuracy: 0.4404\n",
            "Epoch 61/100\n",
            "1480/1480 [==============================] - 12s 8ms/step - loss: 2.6581 - accuracy: 0.4410\n",
            "Epoch 62/100\n",
            "1480/1480 [==============================] - 12s 8ms/step - loss: 2.6509 - accuracy: 0.4415\n",
            "Epoch 63/100\n",
            "1480/1480 [==============================] - 12s 8ms/step - loss: 2.6301 - accuracy: 0.4458\n",
            "Epoch 64/100\n",
            "1480/1480 [==============================] - 13s 9ms/step - loss: 2.6297 - accuracy: 0.4465\n",
            "Epoch 65/100\n",
            "1480/1480 [==============================] - 12s 8ms/step - loss: 2.6234 - accuracy: 0.4485\n",
            "Epoch 66/100\n",
            "1480/1480 [==============================] - 12s 8ms/step - loss: 2.6021 - accuracy: 0.4506\n",
            "Epoch 67/100\n",
            "1480/1480 [==============================] - 12s 8ms/step - loss: 2.5860 - accuracy: 0.4563\n",
            "Epoch 68/100\n",
            "1480/1480 [==============================] - 12s 8ms/step - loss: 2.5785 - accuracy: 0.4543\n",
            "Epoch 69/100\n",
            "1480/1480 [==============================] - 13s 9ms/step - loss: 2.5659 - accuracy: 0.4574\n",
            "Epoch 70/100\n",
            "1480/1480 [==============================] - 13s 9ms/step - loss: 2.5563 - accuracy: 0.4611\n",
            "Epoch 71/100\n",
            "1480/1480 [==============================] - 11s 8ms/step - loss: 2.5434 - accuracy: 0.4630\n",
            "Epoch 72/100\n",
            "1480/1480 [==============================] - 12s 8ms/step - loss: 2.5393 - accuracy: 0.4613\n",
            "Epoch 73/100\n",
            "1480/1480 [==============================] - 12s 8ms/step - loss: 2.5271 - accuracy: 0.4639\n",
            "Epoch 74/100\n",
            "1480/1480 [==============================] - 12s 8ms/step - loss: 2.5141 - accuracy: 0.4687\n",
            "Epoch 75/100\n",
            "1480/1480 [==============================] - 13s 9ms/step - loss: 2.5105 - accuracy: 0.4684\n",
            "Epoch 76/100\n",
            "1480/1480 [==============================] - 12s 8ms/step - loss: 2.4962 - accuracy: 0.4696\n",
            "Epoch 77/100\n",
            "1480/1480 [==============================] - 13s 9ms/step - loss: 2.4940 - accuracy: 0.4713\n",
            "Epoch 78/100\n",
            "1480/1480 [==============================] - 13s 9ms/step - loss: 2.4850 - accuracy: 0.4742\n",
            "Epoch 79/100\n",
            "1480/1480 [==============================] - 12s 8ms/step - loss: 2.4716 - accuracy: 0.4741\n",
            "Epoch 80/100\n",
            "1480/1480 [==============================] - 12s 8ms/step - loss: 2.4555 - accuracy: 0.4778\n",
            "Epoch 81/100\n",
            "1480/1480 [==============================] - 12s 8ms/step - loss: 2.4533 - accuracy: 0.4783\n",
            "Epoch 82/100\n",
            "1480/1480 [==============================] - 12s 8ms/step - loss: 2.4460 - accuracy: 0.4818\n",
            "Epoch 83/100\n",
            "1480/1480 [==============================] - 13s 9ms/step - loss: 2.4426 - accuracy: 0.4801\n",
            "Epoch 84/100\n",
            "1480/1480 [==============================] - 12s 8ms/step - loss: 2.4331 - accuracy: 0.4831\n",
            "Epoch 85/100\n",
            "1480/1480 [==============================] - 12s 8ms/step - loss: 2.4179 - accuracy: 0.4854\n",
            "Epoch 86/100\n",
            "1480/1480 [==============================] - 12s 8ms/step - loss: 2.4128 - accuracy: 0.4864\n",
            "Epoch 87/100\n",
            "1480/1480 [==============================] - 12s 8ms/step - loss: 2.4095 - accuracy: 0.4852\n",
            "Epoch 88/100\n",
            "1480/1480 [==============================] - 13s 8ms/step - loss: 2.4008 - accuracy: 0.4864\n",
            "Epoch 89/100\n",
            "1480/1480 [==============================] - 13s 9ms/step - loss: 2.3912 - accuracy: 0.4894\n",
            "Epoch 90/100\n",
            "1480/1480 [==============================] - 12s 8ms/step - loss: 2.3801 - accuracy: 0.4909\n",
            "Epoch 91/100\n",
            "1480/1480 [==============================] - 12s 8ms/step - loss: 2.3709 - accuracy: 0.4930\n",
            "Epoch 92/100\n",
            "1480/1480 [==============================] - 12s 8ms/step - loss: 2.3777 - accuracy: 0.4932\n",
            "Epoch 93/100\n",
            "1480/1480 [==============================] - 12s 8ms/step - loss: 2.3623 - accuracy: 0.4935\n",
            "Epoch 94/100\n",
            "1480/1480 [==============================] - 13s 9ms/step - loss: 2.3595 - accuracy: 0.4944\n",
            "Epoch 95/100\n",
            "1480/1480 [==============================] - 12s 8ms/step - loss: 2.3594 - accuracy: 0.4952\n",
            "Epoch 96/100\n",
            "1480/1480 [==============================] - 11s 8ms/step - loss: 2.3486 - accuracy: 0.4970\n",
            "Epoch 97/100\n",
            "1480/1480 [==============================] - 11s 8ms/step - loss: 2.3561 - accuracy: 0.4951\n",
            "Epoch 98/100\n",
            "1480/1480 [==============================] - 11s 8ms/step - loss: 2.3336 - accuracy: 0.5011\n",
            "Epoch 99/100\n",
            "1480/1480 [==============================] - 13s 8ms/step - loss: 2.3435 - accuracy: 0.4990\n",
            "Epoch 100/100\n",
            "1480/1480 [==============================] - 13s 9ms/step - loss: 2.3165 - accuracy: 0.5040\n"
          ],
          "name": "stdout"
        }
      ]
    },
    {
      "cell_type": "markdown",
      "metadata": {
        "id": "aVFjMQtQ8si7"
      },
      "source": [
        "## Eğitim Grafiğinin Oluşturulması"
      ]
    },
    {
      "cell_type": "code",
      "metadata": {
        "colab": {
          "base_uri": "https://localhost:8080/",
          "height": 279
        },
        "id": "7cV_IBvZ8sD9",
        "outputId": "47e0e068-487b-4db1-fc5d-aaa8a8833055"
      },
      "source": [
        "import matplotlib.pyplot as plt\n",
        "\n",
        "def plot_graphs(history, string):\n",
        "  plt.plot(history.history[string])\n",
        "  plt.xlabel(\"Yineleme (Epochs)\")\n",
        "  plt.ylabel(string)\n",
        "  plt.show()\n",
        "\n",
        "plot_graphs(history, 'accuracy')"
      ],
      "execution_count": 7,
      "outputs": [
        {
          "output_type": "display_data",
          "data": {
            "image/png": "[encoded data removed]",
            "text/plain": [
              "<Figure size 432x288 with 1 Axes>"
            ]
          },
          "metadata": {
            "tags": [],
            "needs_background": "light"
          }
        }
      ]
    },
    {
      "cell_type": "markdown",
      "metadata": {
        "id": "vgfbTi8A809X"
      },
      "source": [
        "## Daha İyi Şarkı Sözleri Oluşturalım\n",
        "\n",
        "Bu sefer daha az tekrarla daha ilginç bir çıktı elde edebilmeliyiz."
      ]
    },
    {
      "cell_type": "code",
      "metadata": {
        "colab": {
          "base_uri": "https://localhost:8080/"
        },
        "id": "zp3UipUM8z9m",
        "outputId": "81167855-dd26-45b8-fff8-0b8881616a4b"
      },
      "source": [
        "seed_text = \"im feeling chills\"\n",
        "next_words = 100\n",
        "  \n",
        "for _ in range(next_words):\n",
        "\ttoken_list = tokenizer.texts_to_sequences([seed_text])[0]\n",
        "\ttoken_list = pad_sequences([token_list], maxlen=max_sequence_len-1, padding='pre')\n",
        "\tpredicted = np.argmax(model.predict(token_list), axis=-1)\n",
        "\toutput_word = \"\"\n",
        "\tfor word, index in tokenizer.word_index.items():\n",
        "\t\tif index == predicted:\n",
        "\t\t\toutput_word = word\n",
        "\t\t\tbreak\n",
        "\tseed_text += \" \" + output_word\n",
        "print(seed_text)"
      ],
      "execution_count": 8,
      "outputs": [
        {
          "output_type": "stream",
          "text": [
            "im feeling chills to the road when you see the light there for you can get ahha ahha ahha ahha course lovin you are driving you and your shoes on each home last night lovin a spotlight of nights without you let me see a lot of mind we slack from sight circle of a sky i can do flies much and now i can share every shake with emotion songs that this else has got the bars to hide the reason melody can you loveland forever shine you go how gone dry aint got a little love is more loud and make\n"
          ],
          "name": "stdout"
        }
      ]
    },
    {
      "cell_type": "markdown",
      "metadata": {
        "id": "-9hO4gTr88w8"
      },
      "source": [
        "## Olası Çıktıların Değiştirilmesi\n",
        "\n",
        "Yukarıdakileri çalıştırırken, aynı tohum metninin benzer çıktılar üreteceğini fark edebilirsiniz. Bunun nedeni, kodun şu anda her zaman bir sonraki kelime olarak tahmin edilen en yüksek sınıfı seçmesidir. Ya çıktıda daha fazla varyans istiyorsak?\n",
        "\n",
        "`model.predict_classes` argümanından `model.predict_proba` seçeneğine geçmek bize tüm olasılıkları sağlayacaktır. Bir olasılığa dayalı olarak belirli bir tahmini çıktıyı seçmek için bunu `np.random.choice` ile birleştirebiliriz. Böylece çıktılarımıza biraz daha rastgelelik tanımlamış olacağız."
      ]
    },
    {
      "cell_type": "code",
      "metadata": {
        "colab": {
          "base_uri": "https://localhost:8080/"
        },
        "id": "e-89s2q487D3",
        "outputId": "217b968d-2485-48e9-dc97-85c3c486e42c"
      },
      "source": [
        "# Tohum metninden sonraki ilk kelimeyle yöntemi test edin\n",
        "seed_text = \"im feeling chills\"\n",
        "next_words = 100\n",
        "  \n",
        "token_list = tokenizer.texts_to_sequences([seed_text])[0]\n",
        "token_list = pad_sequences([token_list], maxlen=max_sequence_len-1, padding='pre')\n",
        "predicted_probs = model.predict(token_list)[0]\n",
        "predicted = np.random.choice([x for x in range(len(predicted_probs))], \n",
        "                             p=predicted_probs)\n",
        "# Bu hücreyi birden çok kez çalıştırmak size çıktıda bir miktar farklılık sağlamalıdır.\n",
        "print(predicted)"
      ],
      "execution_count": 9,
      "outputs": [
        {
          "output_type": "stream",
          "text": [
            "6\n"
          ],
          "name": "stdout"
        }
      ]
    },
    {
      "cell_type": "code",
      "metadata": {
        "colab": {
          "base_uri": "https://localhost:8080/"
        },
        "id": "X84tN5Gk9nMm",
        "outputId": "3ab91346-6fb3-4b02-cd8e-7b07aff8a5ef"
      },
      "source": [
        "# Tam çıktı üretimi için bu işlemi kullanın\n",
        "seed_text = \"im feeling chills\"\n",
        "next_words = 100\n",
        "  \n",
        "for _ in range(next_words):\n",
        "  token_list = tokenizer.texts_to_sequences([seed_text])[0]\n",
        "  token_list = pad_sequences([token_list], maxlen=max_sequence_len-1, padding='pre')\n",
        "  predicted_probs = model.predict(token_list)[0]\n",
        "  predicted = np.random.choice([x for x in range(len(predicted_probs))],\n",
        "                               p=predicted_probs)\n",
        "  output_word = \"\"\n",
        "  for word, index in tokenizer.word_index.items():\n",
        "    if index == predicted:\n",
        "      output_word = word\n",
        "      break\n",
        "  seed_text += \" \" + output_word\n",
        "print(seed_text)"
      ],
      "execution_count": 10,
      "outputs": [
        {
          "output_type": "stream",
          "text": [
            "im feeling chills to see the answer to stay precious put making feelings to me paper under good sweet thunder keepin plane take this ready for you enough but i got to this money shed be through space and my heart can looks young and last night with you come caught in fire white side colour tried ad treasure hopes coward revelation helen ad rag gave foolish wellknown thunder hate lesson sitting questions joke nine to silly thunder soft spit images you see ya feeling down feeling sensible to leave it away hard to do then the heartaches he can make me sound\n"
          ],
          "name": "stdout"
        }
      ]
    }
  ]
}