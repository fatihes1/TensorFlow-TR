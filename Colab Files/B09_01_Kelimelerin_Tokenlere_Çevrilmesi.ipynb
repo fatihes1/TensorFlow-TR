{
  "nbformat": 4,
  "nbformat_minor": 0,
  "metadata": {
    "colab": {
      "name": "B09_01_Kelimelerin_Tokenlere_Çevrilmesi.ipynb",
      "provenance": [],
      "collapsed_sections": []
    },
    "kernelspec": {
      "name": "python3",
      "display_name": "Python 3"
    },
    "language_info": {
      "name": "python"
    }
  },
  "cells": [
    {
      "cell_type": "markdown",
      "metadata": {
        "id": "aIDCBvQCIJNR"
      },
      "source": [
        "# Metni Biçimlendirme (Tekonize Etme) ve Cümleler İçin Diziler Oluşturma"
      ]
    },
    {
      "cell_type": "markdown",
      "metadata": {
        "id": "OtYvDZTiITiV"
      },
      "source": [
        "Bu colab dosyasında, metni TensorFlow modelleriyle kullanım için hazırlamanın ilk aşaması olarak metnin nasıl tekonize edeceğimizi ve cümleler için diziler oluşturacağımıza bakacağız."
      ]
    },
    {
      "cell_type": "markdown",
      "metadata": {
        "id": "xgmPXjV7Iocm"
      },
      "source": [
        "## İçeri Aktarma İşlemi: `Tekonizer`"
      ]
    },
    {
      "cell_type": "code",
      "metadata": {
        "id": "4WQji-rFH7Uu"
      },
      "source": [
        "from tensorflow.keras.preprocessing.text import Tokenizer"
      ],
      "execution_count": 1,
      "outputs": []
    },
    {
      "cell_type": "markdown",
      "metadata": {
        "id": "8ZL3mkOiIx7w"
      },
      "source": [
        "## Bazı Cümleler Yazalım"
      ]
    },
    {
      "cell_type": "code",
      "metadata": {
        "id": "eBEf3RYFIuUz"
      },
      "source": [
        "sentences = [\n",
        "    'My favorite food is ice cream',\n",
        "    'do you like ice cream too?',\n",
        "    'My dog likes ice cream!',\n",
        "    \"your favorite flavor of icecream is chocolate\",\n",
        "    \"chocolate isn't good for dogs\",\n",
        "    \"your dog, your cat, and your parrot prefer broccoli\"\n",
        "]"
      ],
      "execution_count": 2,
      "outputs": []
    },
    {
      "cell_type": "markdown",
      "metadata": {
        "id": "Rc_lImcsI27-"
      },
      "source": [
        "## Kelimelerin Simgelenmesi (Tekonize Edilmesi)\n",
        "\n",
        "Bir makine öğrenimi modelinde kullanılacak metni hazırlamanın ilk adımı, metni tekonize etmek diğer bir deyişle kelimeler için sayılar üretmektir."
      ]
    },
    {
      "cell_type": "code",
      "metadata": {
        "id": "H799gGZwI1B6"
      },
      "source": [
        "# İsteğe bağlı olarak belirtilecek maksimum kelime sayısını ayarlayın.\n",
        "# (OOV) belirteci, sözcük dağarcığı dizinde olmayan sözcükleri temsil eder.\n",
        "# Her kelime için benzersiz sayılar oluşturmak için belirteç üzerinde fit_on_text() öğesini çağırın\n",
        "tokenizer = Tokenizer(num_words = 100, oov_token=\"<OOV>\")\n",
        "tokenizer.fit_on_texts(sentences)"
      ],
      "execution_count": 3,
      "outputs": []
    },
    {
      "cell_type": "markdown",
      "metadata": {
        "id": "fmv1TmghJZBp"
      },
      "source": [
        "## Kelime Dizinin Görüntülenmesi\n",
        "\n",
        "Metni simgeleştirdiktem sonra belirteç tüm sözcükler ve sayılar için anahtar/değer çiftlerini içeren sözcük dizinin sahip olur.\n",
        "\n",
        "Kelimler anahtardır ve sayılar ise değerleri temsil eder.\n",
        "\n",
        "`OOV` belirtecinin ilk giriş olduğuna dikkat edin."
      ]
    },
    {
      "cell_type": "code",
      "metadata": {
        "colab": {
          "base_uri": "https://localhost:8080/"
        },
        "id": "z0gmW5bJJV5s",
        "outputId": "a15510ce-2811-4fea-91dd-81479bfe1986"
      },
      "source": [
        "# Kelime dizinini inceleyin\n",
        "word_index = tokenizer.word_index\n",
        "print(word_index)"
      ],
      "execution_count": 4,
      "outputs": [
        {
          "output_type": "stream",
          "text": [
            "{'<OOV>': 1, 'your': 2, 'ice': 3, 'cream': 4, 'my': 5, 'favorite': 6, 'is': 7, 'dog': 8, 'chocolate': 9, 'food': 10, 'do': 11, 'you': 12, 'like': 13, 'too': 14, 'likes': 15, 'flavor': 16, 'of': 17, 'icecream': 18, \"isn't\": 19, 'good': 20, 'for': 21, 'dogs': 22, 'cat': 23, 'and': 24, 'parrot': 25, 'prefer': 26, 'broccoli': 27}\n"
          ],
          "name": "stdout"
        }
      ]
    },
    {
      "cell_type": "code",
      "metadata": {
        "colab": {
          "base_uri": "https://localhost:8080/"
        },
        "id": "is0UFx0lJyXq",
        "outputId": "46ddbbed-c0b6-4962-fdc2-cd702dfb6246"
      },
      "source": [
        "# Belirli bir kelimenin numarasını alın\n",
        "print(word_index['favorite'])"
      ],
      "execution_count": 5,
      "outputs": [
        {
          "output_type": "stream",
          "text": [
            "6\n"
          ],
          "name": "stdout"
        }
      ]
    },
    {
      "cell_type": "markdown",
      "metadata": {
        "id": "5dovK_EvJ5L1"
      },
      "source": [
        "## Cümleler İçin Dizilerin Oluşturulması\n",
        "\n",
        "Sözcükleri simgeleştirdikten sonra, sözcük dizini her sözcük için benzersiz bir sayı içerir. Ancak, kelime dizinindeki sayılar sıralı değildir. Bir cümledeki kelimelerin bir sırası vardır. Bu nedenle, kelimeleri tokenize ettikten sonraki adım, cümleler için diziler oluşturmaktır.\n"
      ]
    },
    {
      "cell_type": "code",
      "metadata": {
        "colab": {
          "base_uri": "https://localhost:8080/"
        },
        "id": "wNoV8upkJ2hi",
        "outputId": "bbab3357-4b90-4c2d-d633-80dcfce36515"
      },
      "source": [
        "sequences = tokenizer.texts_to_sequences(sentences)\n",
        "print (sequences)"
      ],
      "execution_count": 6,
      "outputs": [
        {
          "output_type": "stream",
          "text": [
            "[[5, 6, 10, 7, 3, 4], [11, 12, 13, 3, 4, 14], [5, 8, 15, 3, 4], [2, 6, 16, 17, 18, 7, 9], [9, 19, 20, 21, 22], [2, 8, 2, 23, 24, 2, 25, 26, 27]]\n"
          ],
          "name": "stdout"
        }
      ]
    },
    {
      "cell_type": "markdown",
      "metadata": {
        "id": "KF9XdjsYKUrS"
      },
      "source": [
        "## Kelime Dizininde Olmayan Kelimeleri İçeren Sıralı Cümlelerin Görüntülenmesi\n",
        "\n",
        "Sıralanan cümle, kelime dizininde olmayan kelimeler içeriyorsa ne olduğuna bir bakalım.\n",
        "\n",
        "The Out of Vocabluary  (OOV) belirteci, kelime dizinindeki ilk giriştir. Kelime dizininde olmayan herhangi bir kelimenin yerine dizilerde göründüğünü göreceksiniz.\n"
      ]
    },
    {
      "cell_type": "code",
      "metadata": {
        "colab": {
          "base_uri": "https://localhost:8080/"
        },
        "id": "ubKoiR8kKNWa",
        "outputId": "24d73c56-c767-411d-bde4-b77e17cf7127"
      },
      "source": [
        "sentences2 = [\"I like hot chocolate\", \"My dogs and my hedgehog like kibble but my squirrel prefers grapes and my chickens like ice cream, preferably vanilla\"]\n",
        "\n",
        "sequences2 = tokenizer.texts_to_sequences(sentences2)\n",
        "print(sequences2)"
      ],
      "execution_count": 7,
      "outputs": [
        {
          "output_type": "stream",
          "text": [
            "[[1, 13, 1, 9], [5, 22, 24, 5, 1, 13, 1, 1, 5, 1, 1, 1, 24, 5, 1, 13, 3, 4, 1, 1]]\n"
          ],
          "name": "stdout"
        }
      ]
    }
  ]
}