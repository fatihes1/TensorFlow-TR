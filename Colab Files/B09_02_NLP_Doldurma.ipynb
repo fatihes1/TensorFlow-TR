{
  "nbformat": 4,
  "nbformat_minor": 0,
  "metadata": {
    "colab": {
      "name": "B09_02_NLP_Doldurma.ipynb",
      "provenance": []
    },
    "kernelspec": {
      "name": "python3",
      "display_name": "Python 3"
    },
    "language_info": {
      "name": "python"
    },
    "accelerator": "GPU"
  },
  "cells": [
    {
      "cell_type": "markdown",
      "metadata": {
        "id": "xUrZdVIyCP6x"
      },
      "source": [
        "# TensorFlow Modelleri İçin Kullanılacak Metinlerin Hazırlanması\n",
        "\n",
        "Bir makine öğrenimi modelinde kullanılacak metni hazırlamak için belirli adımlar şu şekildedir:\n",
        "\n",
        "1. Model için sayısal değerler elde etmek için kelimelerin tokenize edilmesi\n",
        "2. Cümlelerin sayısal dizilerinin oluşturulması\n",
        "3. Dizilerin aynı uzunlukta olacak şekilde ayarlanması\n",
        "\n",
        "Bu colab dosyasında, dizilerin hepsinin aynı uzunlukta olmasını sağlamak için dolgu (`padding`) kullanmayı öğreneceğiz."
      ]
    },
    {
      "cell_type": "markdown",
      "metadata": {
        "id": "SLY4wtwODZxO"
      },
      "source": [
        "## Gerekli Sınıfların İçeri Aktarılması"
      ]
    },
    {
      "cell_type": "code",
      "metadata": {
        "id": "B5seNcJXCKZG"
      },
      "source": [
        "# İçeri Aktar : Tokenizer and pad_sequences\n",
        "from tensorflow.keras.preprocessing.text import Tokenizer\n",
        "from tensorflow.keras.preprocessing.sequence import pad_sequences"
      ],
      "execution_count": 1,
      "outputs": []
    },
    {
      "cell_type": "markdown",
      "metadata": {
        "id": "TnBWiXtkDg0-"
      },
      "source": [
        "## Birkaç Cümlenin Yazılması"
      ]
    },
    {
      "cell_type": "code",
      "metadata": {
        "colab": {
          "base_uri": "https://localhost:8080/"
        },
        "id": "JATq5v3gDgLe",
        "outputId": "c485b60a-7874-405c-ea69-f45e71ab0cd4"
      },
      "source": [
        "sentences = [\n",
        "    'My favorite food is ice cream',\n",
        "    'do you like ice cream too?',\n",
        "    'My dog likes ice cream!',\n",
        "    \"your favorite flavor of icecream is chocolate\",\n",
        "    \"chocolate isn't good for dogs\",\n",
        "    \"your dog, your cat, and your parrot prefer broccoli\"\n",
        "]\n",
        "print(sentences)\n"
      ],
      "execution_count": 2,
      "outputs": [
        {
          "output_type": "stream",
          "text": [
            "['My favorite food is ice cream', 'do you like ice cream too?', 'My dog likes ice cream!', 'your favorite flavor of icecream is chocolate', \"chocolate isn't good for dogs\", 'your dog, your cat, and your parrot prefer broccoli']\n"
          ],
          "name": "stdout"
        }
      ]
    },
    {
      "cell_type": "markdown",
      "metadata": {
        "id": "tvY9ZXIRDssq"
      },
      "source": [
        "## `Tokenizer`Oluşturulması ve Sözcük Dağarcığı Dışındakiler İçin Belirteç Tanımlanması\n",
        "\n",
        "Tokenizer'ı oluştururken sözlükteki maksimum kelime sayısını belirleyebilirsiniz. Ayrıca, sözlükte olmayan (OOV- Out Of the Vocabulary ), başka bir deyişle sözlükte olmayan kelimeleri temsil etmek için bir belirteç belirleyebilirsiniz. Bu OOV belirteci, kelime dizininde olmayan kelimeleri içeren cümleler için diziler oluşturduğunuzda kullanılacaktır.\n"
      ]
    },
    {
      "cell_type": "code",
      "metadata": {
        "id": "BnpnFQenDqB-"
      },
      "source": [
        "tokenizer = Tokenizer(num_words = 100, oov_token=\"<OOV>\")"
      ],
      "execution_count": 3,
      "outputs": []
    },
    {
      "cell_type": "markdown",
      "metadata": {
        "id": "nAltzE7NEE4s"
      },
      "source": [
        "## Kelimlerin Simgelenmesi (Tokenize Edilmesi)"
      ]
    },
    {
      "cell_type": "code",
      "metadata": {
        "colab": {
          "base_uri": "https://localhost:8080/"
        },
        "id": "vTgQNO5BEDbG",
        "outputId": "64756cfd-84ce-459b-8592-2365867eb3d6"
      },
      "source": [
        "tokenizer.fit_on_texts(sentences)\n",
        "word_index = tokenizer.word_index\n",
        "print(word_index)"
      ],
      "execution_count": 4,
      "outputs": [
        {
          "output_type": "stream",
          "text": [
            "{'<OOV>': 1, 'your': 2, 'ice': 3, 'cream': 4, 'my': 5, 'favorite': 6, 'is': 7, 'dog': 8, 'chocolate': 9, 'food': 10, 'do': 11, 'you': 12, 'like': 13, 'too': 14, 'likes': 15, 'flavor': 16, 'of': 17, 'icecream': 18, \"isn't\": 19, 'good': 20, 'for': 21, 'dogs': 22, 'cat': 23, 'and': 24, 'parrot': 25, 'prefer': 26, 'broccoli': 27}\n"
          ],
          "name": "stdout"
        }
      ]
    },
    {
      "cell_type": "markdown",
      "metadata": {
        "id": "3y21Uv1wEO-Y"
      },
      "source": [
        "## Cümlelerin Dizilere Dönüştürülmesi\n",
        "\n",
        "Artık her kelimenin kelime dizininde benzersiz bir numarası var. Ancak, bir cümledeki kelimeler belirli bir sıradadır. Kelimeleri rastgele karıştırıp sonucun bir cümle olmasını sağlayamazsınız.\n",
        "\n",
        "Örneğin, \"chocolate isn't good for dogs\" mükkemmel bir cümle olsa da, \"dogs isn't for chocolate good\" cümlesi bir anlam ifade etmez.\n",
        "\n",
        "Dolayısıyla, metni makine öğrenimi programları tarafından anlamlı bir şekilde kullanılabilecek şekilde temsil etmenin bir sonraki adımı: metindeki cümleleri temsil eden sayısal diziler oluşturmaktır.\n",
        "\n",
        "Her cümle, her kelimenin kelime dizinindeki numarasıyla değiştirildiği bir diziye dönüştürülecektir."
      ]
    },
    {
      "cell_type": "code",
      "metadata": {
        "colab": {
          "base_uri": "https://localhost:8080/"
        },
        "id": "PkKsjY2wEM6m",
        "outputId": "df6f6600-f2a2-44c0-a382-dbde56a83713"
      },
      "source": [
        "sequences = tokenizer.texts_to_sequences(sentences)\n",
        "print (sequences)"
      ],
      "execution_count": 5,
      "outputs": [
        {
          "output_type": "stream",
          "text": [
            "[[5, 6, 10, 7, 3, 4], [11, 12, 13, 3, 4, 14], [5, 8, 15, 3, 4], [2, 6, 16, 17, 18, 7, 9], [9, 19, 20, 21, 22], [2, 8, 2, 23, 24, 2, 25, 26, 27]]\n"
          ],
          "name": "stdout"
        }
      ]
    },
    {
      "cell_type": "markdown",
      "metadata": {
        "id": "w59qA4sREzpO"
      },
      "source": [
        "## Tüm Dizilerin Aynı Uzunluğa Getirilmesi\n",
        "\n",
        "Daha sonra, bir modeli eğitmek için dizileri bir sinir ağına beslediğinizde, dizilerin hepsinin aynı boyutta olması gerekir. Şu anda dizilerin uzunlukları değişkendir, bu nedenle bir sonraki adım, hepsini sıfırlarla doldurarak veya keserek hepsini aynı boyutta yapmaktır.\n",
        "\n",
        "Hepsinin aynı uzunlukta olması için dizilere sıfır eklemek için `tf.keras.preprocessing.sequence.pad_sequences` kullanın. Varsayılan olarak dolgu, dizilerin başında yer alır. Ancak sonunda doldurmayı belirtebilirsiniz.\n",
        "\n",
        "Aynı şekilde sekansların doldurulacağı maksimum uzunluğu isteğe bağlı olarak belirtebilirsiniz. Belirtilen maksimum uzunluktan daha uzun olan diziler kesilecektir. Varsayılan olarak, diziler dizinin başından itibaren kesilir, ancak sondan kesmeyi belirtebilirsiniz.\n",
        "\n",
        "Maksimum uzunluğu belirtmezseniz, diziler en uzun cümlenin uzunluğuna uyacak şekilde doldurulur.\n",
        "\n",
        "Dizileri doldurma ve kesme ile ilgili tüm seçenekler için, aşağıdaki linki kullanabilirsiniz:\n",
        "https://www.tensorflow.org/api_docs/python/tf/keras/preprocessing/sequence/pad_sequences\n",
        "\n"
      ]
    },
    {
      "cell_type": "code",
      "metadata": {
        "colab": {
          "base_uri": "https://localhost:8080/"
        },
        "id": "VKwGqswsExRv",
        "outputId": "13176032-cf44-48ea-d00c-1c9ed1c43d2d"
      },
      "source": [
        "padded = pad_sequences(sequences)\n",
        "print(\"\\nKelime İndeksleri = \" , word_index)\n",
        "print(\"\\nDiziler = \" , sequences)\n",
        "print(\"\\nDoldurulmuş Diziler:\")\n",
        "print(padded)"
      ],
      "execution_count": 6,
      "outputs": [
        {
          "output_type": "stream",
          "text": [
            "\n",
            "Kelime İndeksleri =  {'<OOV>': 1, 'your': 2, 'ice': 3, 'cream': 4, 'my': 5, 'favorite': 6, 'is': 7, 'dog': 8, 'chocolate': 9, 'food': 10, 'do': 11, 'you': 12, 'like': 13, 'too': 14, 'likes': 15, 'flavor': 16, 'of': 17, 'icecream': 18, \"isn't\": 19, 'good': 20, 'for': 21, 'dogs': 22, 'cat': 23, 'and': 24, 'parrot': 25, 'prefer': 26, 'broccoli': 27}\n",
            "\n",
            "Diziler =  [[5, 6, 10, 7, 3, 4], [11, 12, 13, 3, 4, 14], [5, 8, 15, 3, 4], [2, 6, 16, 17, 18, 7, 9], [9, 19, 20, 21, 22], [2, 8, 2, 23, 24, 2, 25, 26, 27]]\n",
            "\n",
            "Doldurulmuş Diziler:\n",
            "[[ 0  0  0  5  6 10  7  3  4]\n",
            " [ 0  0  0 11 12 13  3  4 14]\n",
            " [ 0  0  0  0  5  8 15  3  4]\n",
            " [ 0  0  2  6 16 17 18  7  9]\n",
            " [ 0  0  0  0  9 19 20 21 22]\n",
            " [ 2  8  2 23 24  2 25 26 27]]\n"
          ],
          "name": "stdout"
        }
      ]
    },
    {
      "cell_type": "code",
      "metadata": {
        "colab": {
          "base_uri": "https://localhost:8080/"
        },
        "id": "fa2A4H1qFnf1",
        "outputId": "15491422-8fa0-4472-c76b-1c53b49d440d"
      },
      "source": [
        "# Dolgulu dizileri (pad sequence) için bir maksimum uzunluk belirtin\n",
        "padded = pad_sequences(sequences, maxlen=15)\n",
        "print(padded)"
      ],
      "execution_count": 7,
      "outputs": [
        {
          "output_type": "stream",
          "text": [
            "[[ 0  0  0  0  0  0  0  0  0  5  6 10  7  3  4]\n",
            " [ 0  0  0  0  0  0  0  0  0 11 12 13  3  4 14]\n",
            " [ 0  0  0  0  0  0  0  0  0  0  5  8 15  3  4]\n",
            " [ 0  0  0  0  0  0  0  0  2  6 16 17 18  7  9]\n",
            " [ 0  0  0  0  0  0  0  0  0  0  9 19 20 21 22]\n",
            " [ 0  0  0  0  0  0  2  8  2 23 24  2 25 26 27]]\n"
          ],
          "name": "stdout"
        }
      ]
    },
    {
      "cell_type": "code",
      "metadata": {
        "colab": {
          "base_uri": "https://localhost:8080/"
        },
        "id": "6sqXZJQKFwcJ",
        "outputId": "34433e39-2211-4c5c-8f76-faca76e062f7"
      },
      "source": [
        "# Dolguyu (sıfırları) dizilerin sonuna koyun\n",
        "padded = pad_sequences(sequences, maxlen=15, padding=\"post\")\n",
        "print(padded)"
      ],
      "execution_count": 8,
      "outputs": [
        {
          "output_type": "stream",
          "text": [
            "[[ 5  6 10  7  3  4  0  0  0  0  0  0  0  0  0]\n",
            " [11 12 13  3  4 14  0  0  0  0  0  0  0  0  0]\n",
            " [ 5  8 15  3  4  0  0  0  0  0  0  0  0  0  0]\n",
            " [ 2  6 16 17 18  7  9  0  0  0  0  0  0  0  0]\n",
            " [ 9 19 20 21 22  0  0  0  0  0  0  0  0  0  0]\n",
            " [ 2  8  2 23 24  2 25 26 27  0  0  0  0  0  0]]\n"
          ],
          "name": "stdout"
        }
      ]
    },
    {
      "cell_type": "code",
      "metadata": {
        "colab": {
          "base_uri": "https://localhost:8080/"
        },
        "id": "uIIBXsXlF2Me",
        "outputId": "7872b959-60e4-4e81-b453-e935868ccd8b"
      },
      "source": [
        "# Dizilerin uzunluğunu sınırlayın, bazı dizilerin kesildiğini göreceksiniz.\n",
        "padded = pad_sequences(sequences, maxlen=3)\n",
        "print(padded)"
      ],
      "execution_count": 9,
      "outputs": [
        {
          "output_type": "stream",
          "text": [
            "[[ 7  3  4]\n",
            " [ 3  4 14]\n",
            " [15  3  4]\n",
            " [18  7  9]\n",
            " [20 21 22]\n",
            " [25 26 27]]\n"
          ],
          "name": "stdout"
        }
      ]
    },
    {
      "cell_type": "markdown",
      "metadata": {
        "id": "umb21TgHGLA7"
      },
      "source": [
        "## Cümlelerden bazıları kelime dizininde olmayan kelimeler içeriyorsa ne olur?\n",
        "\n",
        "Kelime dağarcığının dışında belirtecinin kullanıldığı yere geldik. Kelime dizininde olmayan kelimeleri içeren bazı cümleler için diziler oluşturmayı deneyelim."
      ]
    },
    {
      "cell_type": "code",
      "metadata": {
        "colab": {
          "base_uri": "https://localhost:8080/"
        },
        "id": "QFJJs2pYF8CH",
        "outputId": "73ef8597-3502-4207-935d-b8653a9dac11"
      },
      "source": [
        "# Kelime dizininde olmayan kelimeleri içeren cümleleri dizilere dönüştürmeyi deneyin.\n",
        "\n",
        "test_data = [\n",
        "    \"my best friend's favorite ice cream flavor is strawberry\",\n",
        "    \"my dog's best friend is a manatee\"\n",
        "]\n",
        "print (test_data)\n",
        "\n",
        "# Kelime dizininde hangi sayının kelime dağarcığının yetersiz olduğuna karşılık geldiğini kendimize belirtin.\n",
        "print(\"<OOV> 'nin kelime indekslerindeki sahip olduğu sayı :\", word_index['<OOV>'])\n",
        "\n",
        "# Test cümlelerini dizilere dönüştürün\n",
        "test_seq = tokenizer.texts_to_sequences(test_data)\n",
        "print(\"\\nTest Dizisi = \", test_seq)\n",
        "\n",
        "# Yeni dizileri doldurun (padding)\n",
        "padded = pad_sequences(test_seq, maxlen=10)\n",
        "print(\"\\nDoldurulmuş Test Dizisi: \")\n",
        "\n",
        "# Kelime dizininde olmayan bir kelimenin olduğu her yerde \"1\"in dizide göründüğüne dikkat edin.\n",
        "print(padded)"
      ],
      "execution_count": 10,
      "outputs": [
        {
          "output_type": "stream",
          "text": [
            "[\"my best friend's favorite ice cream flavor is strawberry\", \"my dog's best friend is a manatee\"]\n",
            "<OOV> 'nin kelime indekslerindeki sahip olduğu sayı : 1\n",
            "\n",
            "Test Dizisi =  [[5, 1, 1, 6, 3, 4, 16, 7, 1], [5, 1, 1, 1, 7, 1, 1]]\n",
            "\n",
            "Doldurulmuş Test Dizisi: \n",
            "[[ 0  5  1  1  6  3  4 16  7  1]\n",
            " [ 0  0  0  5  1  1  1  7  1  1]]\n"
          ],
          "name": "stdout"
        }
      ]
    },
    {
      "cell_type": "code",
      "metadata": {
        "id": "j4vGUsCWHBd_"
      },
      "source": [
        ""
      ],
      "execution_count": null,
      "outputs": []
    }
  ]
}